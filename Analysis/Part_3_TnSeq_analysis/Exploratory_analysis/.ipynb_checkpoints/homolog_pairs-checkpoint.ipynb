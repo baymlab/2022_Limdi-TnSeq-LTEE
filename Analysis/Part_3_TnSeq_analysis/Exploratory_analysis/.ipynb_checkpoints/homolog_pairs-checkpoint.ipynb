{
 "cells": [
  {
   "cell_type": "markdown",
   "id": "french-blink",
   "metadata": {},
   "source": [
    "## Goal of the notebook: identifying pairs of homologous genes\n",
    "\n",
    "#### Approach: \n",
    "I have run the mmseqs2 pipeline (Steinegger and Söding 2017, MMseqs2 Enables Sensitive Protein Sequence Searching for the Analysis of Massive Data Sets.” Nature Biotechnology 35 (11): 1026–28.) with parameters --min-seq-id 0.4 (a 40% identity threshold for homologs, similar to the analysis from Rousset et al, Nature Microbiology)\n",
    "\n",
    "#### Output:\n",
    "- I identify genes with exactly one homolog, and write these homolog pairs to file, with metadata (as a csv)\n",
    "- Array where gene pairs with exactly one homolog are have the same value, all genes without homologs or more than one homolog are set to zero."
   ]
  },
  {
   "cell_type": "code",
   "execution_count": 6,
   "id": "regulation-yorkshire",
   "metadata": {},
   "outputs": [],
   "source": [
    "import numpy as np\n",
    "import matplotlib.pyplot as plt\n",
    "from scipy.stats import pearsonr\n",
    "import time\n",
    "import os\n",
    "import re\n",
    "from Bio.SeqIO.FastaIO import SimpleFastaParser\n",
    "import pandas as pd\n",
    "from scipy import stats\n",
    "import statsmodels as sm\n",
    "from scipy.stats import poisson,binom\n",
    "\n",
    "import pathlib"
   ]
  },
  {
   "cell_type": "code",
   "execution_count": 2,
   "id": "capital-ministry",
   "metadata": {},
   "outputs": [],
   "source": [
    "import seaborn as sns"
   ]
  },
  {
   "cell_type": "code",
   "execution_count": 3,
   "id": "continent-wilson",
   "metadata": {},
   "outputs": [],
   "source": [
    "sns.set_theme(\"notebook\")\n",
    "sns.set_style(\"ticks\")"
   ]
  },
  {
   "cell_type": "code",
   "execution_count": 4,
   "id": "fewer-guest",
   "metadata": {},
   "outputs": [
    {
     "name": "stdout",
     "output_type": "stream",
     "text": [
      "/Users/anuraglimdi/Desktop/TnSeq_Paper/LTEE-TnSeq_Paper/Analysis/Part_3_TnSeq_analysis/Exploratory_analysis\n"
     ]
    }
   ],
   "source": [
    "#current working directory\n",
    "cwd = os.getcwd()\n",
    "print(cwd)"
   ]
  },
  {
   "cell_type": "code",
   "execution_count": 5,
   "id": "cubic-blanket",
   "metadata": {},
   "outputs": [
    {
     "name": "stdout",
     "output_type": "stream",
     "text": [
      "/Users/anuraglimdi/Desktop/TnSeq_Paper/LTEE-TnSeq_Paper\n"
     ]
    }
   ],
   "source": [
    "#use the pathlib.Path function to get the parent directories-> goal is to navigate to directory with the metadata\n",
    "# and the breseq output data\n",
    "path = pathlib.Path(cwd)\n",
    "repo = path.parents[2]\n",
    "print(repo) #this should be the base directory for the github repository: the exact path will differ for \n",
    "#each unique user"
   ]
  },
  {
   "cell_type": "code",
   "execution_count": 8,
   "id": "viral-spotlight",
   "metadata": {},
   "outputs": [],
   "source": [
    "metadata_path = str(path.parents[2])+'/Metadata/'"
   ]
  },
  {
   "cell_type": "code",
   "execution_count": 9,
   "id": "defensive-ready",
   "metadata": {},
   "outputs": [],
   "source": [
    "libraries = ['REL606', 'REL607', 'REL11330', 'REL11333', 'REL11364', 'REL11336', 'REL11339', 'REL11389', 'REL11392', 'REL11342', 'REL11345', 'REL11348', 'REL11367', 'REL11370']"
   ]
  },
  {
   "cell_type": "code",
   "execution_count": 10,
   "id": "threatened-inside",
   "metadata": {},
   "outputs": [],
   "source": [
    "#opening the pandas file with all the metadata!\n",
    "all_data = pd.read_csv(\"/Users/anuraglimdi/Desktop/TnSeq_LTEE/ReferenceGenome/for_TnSeq_analysis/all_metadata_REL606.txt\", sep=\"\\t\")\n",
    "names = all_data.iloc[:,0]\n",
    "gene_start = all_data.iloc[:,3]\n",
    "gene_end = all_data.iloc[:,4]\n",
    "strand = all_data.iloc[:,5]\n",
    "locations = np.transpose(np.vstack([gene_start,gene_end,strand]))\n",
    "k12_tags = all_data.iloc[:,2]\n",
    "uniprot_rel606 = all_data.iloc[:,6]"
   ]
  },
  {
   "cell_type": "code",
   "execution_count": 11,
   "id": "virgin-embassy",
   "metadata": {},
   "outputs": [],
   "source": [
    "prokka_tags = all_data.iloc[:,1]"
   ]
  },
  {
   "cell_type": "code",
   "execution_count": 34,
   "id": "surgical-nerve",
   "metadata": {},
   "outputs": [],
   "source": [
    "product = all_data.iloc[:,-1]"
   ]
  },
  {
   "cell_type": "code",
   "execution_count": 12,
   "id": "powerful-possibility",
   "metadata": {},
   "outputs": [],
   "source": [
    "#list of genes to be excluded from analysis as they lie within large deletions\n",
    "#exclude_genes = np.loadtxt(\"/Users/anuraglimdi/Desktop/TnSeq_LTEE/ReferenceGenome/for_TnSeq_analysis/excluded_genes_REL606_k12annotated.txt\")"
   ]
  },
  {
   "cell_type": "code",
   "execution_count": 13,
   "id": "close-citizenship",
   "metadata": {},
   "outputs": [],
   "source": [
    "#fractions of the gene at the 5' and 3' ends to be excluded from analysis because they insertions there may not actually\n",
    "#be disruptive to protein function\n",
    "#frac5p = 0.1\n",
    "#frac3p = 0.25"
   ]
  },
  {
   "cell_type": "markdown",
   "id": "unexpected-referral",
   "metadata": {},
   "source": [
    "## In this notebook, I'm going to identify genes that have one (and only one) extra homolog in the genome.\n",
    "I'm using the output of mmseqs2, which was used in the E. coli essentiality paper (Rousset et al). It basically has the locus name for each set of genes that it detects as homologs."
   ]
  },
  {
   "cell_type": "code",
   "execution_count": 14,
   "id": "developed-today",
   "metadata": {},
   "outputs": [],
   "source": [
    "with open(metadata_path+'/homologs_cluster_anc.tsv') as w:\n",
    "#     homologs_naive = w.readlines().split('\\n')\n",
    "    homologs_naive = w.readlines()"
   ]
  },
  {
   "cell_type": "code",
   "execution_count": 15,
   "id": "dated-updating",
   "metadata": {},
   "outputs": [],
   "source": [
    "homologs_naive = pd.read_csv('/Users/anuraglimdi/Desktop/TnSeq_LTEE/ReferenceGenome/homologs_mmseqs2/tsv_output/homologs_cluster_anc.tsv',header=None,delimiter='\\t')"
   ]
  },
  {
   "cell_type": "markdown",
   "id": "worthy-training",
   "metadata": {},
   "source": [
    "Annoyingly enough, mmseq2 writes every gene as a homolog of itself, so I'm discarding those rows of the pandas dataframe."
   ]
  },
  {
   "cell_type": "code",
   "execution_count": 16,
   "id": "billion-cancer",
   "metadata": {},
   "outputs": [],
   "source": [
    "self_filtered = homologs_naive.loc[(homologs_naive[0]!=homologs_naive[1]), (0,1)]"
   ]
  },
  {
   "cell_type": "code",
   "execution_count": 17,
   "id": "fourth-confidentiality",
   "metadata": {},
   "outputs": [
    {
     "data": {
      "text/html": [
       "<div>\n",
       "<style scoped>\n",
       "    .dataframe tbody tr th:only-of-type {\n",
       "        vertical-align: middle;\n",
       "    }\n",
       "\n",
       "    .dataframe tbody tr th {\n",
       "        vertical-align: top;\n",
       "    }\n",
       "\n",
       "    .dataframe thead th {\n",
       "        text-align: right;\n",
       "    }\n",
       "</style>\n",
       "<table border=\"1\" class=\"dataframe\">\n",
       "  <thead>\n",
       "    <tr style=\"text-align: right;\">\n",
       "      <th></th>\n",
       "      <th>0</th>\n",
       "      <th>1</th>\n",
       "    </tr>\n",
       "  </thead>\n",
       "  <tbody>\n",
       "    <tr>\n",
       "      <th>16</th>\n",
       "      <td>FJKNNBLA_00555</td>\n",
       "      <td>FJKNNBLA_00397</td>\n",
       "    </tr>\n",
       "    <tr>\n",
       "      <th>17</th>\n",
       "      <td>FJKNNBLA_00555</td>\n",
       "      <td>FJKNNBLA_01802</td>\n",
       "    </tr>\n",
       "    <tr>\n",
       "      <th>18</th>\n",
       "      <td>FJKNNBLA_00555</td>\n",
       "      <td>FJKNNBLA_00015</td>\n",
       "    </tr>\n",
       "    <tr>\n",
       "      <th>19</th>\n",
       "      <td>FJKNNBLA_00555</td>\n",
       "      <td>FJKNNBLA_02671</td>\n",
       "    </tr>\n",
       "    <tr>\n",
       "      <th>28</th>\n",
       "      <td>FJKNNBLA_00825</td>\n",
       "      <td>FJKNNBLA_03484</td>\n",
       "    </tr>\n",
       "    <tr>\n",
       "      <th>...</th>\n",
       "      <td>...</td>\n",
       "      <td>...</td>\n",
       "    </tr>\n",
       "    <tr>\n",
       "      <th>4259</th>\n",
       "      <td>FJKNNBLA_02943</td>\n",
       "      <td>FJKNNBLA_01002</td>\n",
       "    </tr>\n",
       "    <tr>\n",
       "      <th>4270</th>\n",
       "      <td>FJKNNBLA_03273</td>\n",
       "      <td>FJKNNBLA_03969</td>\n",
       "    </tr>\n",
       "    <tr>\n",
       "      <th>4278</th>\n",
       "      <td>FJKNNBLA_03498</td>\n",
       "      <td>FJKNNBLA_00553</td>\n",
       "    </tr>\n",
       "    <tr>\n",
       "      <th>4279</th>\n",
       "      <td>FJKNNBLA_03498</td>\n",
       "      <td>FJKNNBLA_02672</td>\n",
       "    </tr>\n",
       "    <tr>\n",
       "      <th>4302</th>\n",
       "      <td>FJKNNBLA_04299</td>\n",
       "      <td>FJKNNBLA_02062</td>\n",
       "    </tr>\n",
       "  </tbody>\n",
       "</table>\n",
       "<p>421 rows × 2 columns</p>\n",
       "</div>"
      ],
      "text/plain": [
       "                   0               1\n",
       "16    FJKNNBLA_00555  FJKNNBLA_00397\n",
       "17    FJKNNBLA_00555  FJKNNBLA_01802\n",
       "18    FJKNNBLA_00555  FJKNNBLA_00015\n",
       "19    FJKNNBLA_00555  FJKNNBLA_02671\n",
       "28    FJKNNBLA_00825  FJKNNBLA_03484\n",
       "...              ...             ...\n",
       "4259  FJKNNBLA_02943  FJKNNBLA_01002\n",
       "4270  FJKNNBLA_03273  FJKNNBLA_03969\n",
       "4278  FJKNNBLA_03498  FJKNNBLA_00553\n",
       "4279  FJKNNBLA_03498  FJKNNBLA_02672\n",
       "4302  FJKNNBLA_04299  FJKNNBLA_02062\n",
       "\n",
       "[421 rows x 2 columns]"
      ]
     },
     "execution_count": 17,
     "metadata": {},
     "output_type": "execute_result"
    }
   ],
   "source": [
    "self_filtered"
   ]
  },
  {
   "cell_type": "markdown",
   "id": "vertical-festival",
   "metadata": {},
   "source": [
    "Now that we've removed self homologs, called trivially, we next remove all loci which are excluded from our analysis (i.e. not in the prokka_tags list. Most of these instances are likely of insertion element/transposon related genes, which is something we don't want in our analysis)"
   ]
  },
  {
   "cell_type": "code",
   "execution_count": 18,
   "id": "strange-engineer",
   "metadata": {},
   "outputs": [],
   "source": [
    "final_filtered = self_filtered[(self_filtered[0].isin(prokka_tags)) & (self_filtered[1].isin(prokka_tags))]"
   ]
  },
  {
   "cell_type": "markdown",
   "id": "accompanied-definition",
   "metadata": {},
   "source": [
    "final_filtered contains all the instances of homologs which are present in the set of 4017 CDS we have included in our analysis"
   ]
  },
  {
   "cell_type": "code",
   "execution_count": 20,
   "id": "elder-monthly",
   "metadata": {},
   "outputs": [
    {
     "data": {
      "text/plain": [
       "251"
      ]
     },
     "execution_count": 20,
     "metadata": {},
     "output_type": "execute_result"
    }
   ],
   "source": [
    "#number of unique genes in the first column\n",
    "len(set(final_filtered[0]))"
   ]
  },
  {
   "cell_type": "code",
   "execution_count": 21,
   "id": "antique-appraisal",
   "metadata": {},
   "outputs": [
    {
     "data": {
      "text/plain": [
       "330"
      ]
     },
     "execution_count": 21,
     "metadata": {},
     "output_type": "execute_result"
    }
   ],
   "source": [
    "#number of unique genes in the second column\n",
    "len(set(final_filtered[1]))"
   ]
  },
  {
   "cell_type": "code",
   "execution_count": 22,
   "id": "accessory-shower",
   "metadata": {},
   "outputs": [
    {
     "data": {
      "text/html": [
       "<div>\n",
       "<style scoped>\n",
       "    .dataframe tbody tr th:only-of-type {\n",
       "        vertical-align: middle;\n",
       "    }\n",
       "\n",
       "    .dataframe tbody tr th {\n",
       "        vertical-align: top;\n",
       "    }\n",
       "\n",
       "    .dataframe thead th {\n",
       "        text-align: right;\n",
       "    }\n",
       "</style>\n",
       "<table border=\"1\" class=\"dataframe\">\n",
       "  <thead>\n",
       "    <tr style=\"text-align: right;\">\n",
       "      <th></th>\n",
       "      <th>0</th>\n",
       "      <th>1</th>\n",
       "    </tr>\n",
       "  </thead>\n",
       "  <tbody>\n",
       "    <tr>\n",
       "      <th>28</th>\n",
       "      <td>FJKNNBLA_00825</td>\n",
       "      <td>FJKNNBLA_03484</td>\n",
       "    </tr>\n",
       "    <tr>\n",
       "      <th>29</th>\n",
       "      <td>FJKNNBLA_00825</td>\n",
       "      <td>FJKNNBLA_01476</td>\n",
       "    </tr>\n",
       "    <tr>\n",
       "      <th>30</th>\n",
       "      <td>FJKNNBLA_00825</td>\n",
       "      <td>FJKNNBLA_03413</td>\n",
       "    </tr>\n",
       "    <tr>\n",
       "      <th>44</th>\n",
       "      <td>FJKNNBLA_01310</td>\n",
       "      <td>FJKNNBLA_01389</td>\n",
       "    </tr>\n",
       "    <tr>\n",
       "      <th>45</th>\n",
       "      <td>FJKNNBLA_01310</td>\n",
       "      <td>FJKNNBLA_03536</td>\n",
       "    </tr>\n",
       "    <tr>\n",
       "      <th>...</th>\n",
       "      <td>...</td>\n",
       "      <td>...</td>\n",
       "    </tr>\n",
       "    <tr>\n",
       "      <th>4259</th>\n",
       "      <td>FJKNNBLA_02943</td>\n",
       "      <td>FJKNNBLA_01002</td>\n",
       "    </tr>\n",
       "    <tr>\n",
       "      <th>4270</th>\n",
       "      <td>FJKNNBLA_03273</td>\n",
       "      <td>FJKNNBLA_03969</td>\n",
       "    </tr>\n",
       "    <tr>\n",
       "      <th>4278</th>\n",
       "      <td>FJKNNBLA_03498</td>\n",
       "      <td>FJKNNBLA_00553</td>\n",
       "    </tr>\n",
       "    <tr>\n",
       "      <th>4279</th>\n",
       "      <td>FJKNNBLA_03498</td>\n",
       "      <td>FJKNNBLA_02672</td>\n",
       "    </tr>\n",
       "    <tr>\n",
       "      <th>4302</th>\n",
       "      <td>FJKNNBLA_04299</td>\n",
       "      <td>FJKNNBLA_02062</td>\n",
       "    </tr>\n",
       "  </tbody>\n",
       "</table>\n",
       "<p>330 rows × 2 columns</p>\n",
       "</div>"
      ],
      "text/plain": [
       "                   0               1\n",
       "28    FJKNNBLA_00825  FJKNNBLA_03484\n",
       "29    FJKNNBLA_00825  FJKNNBLA_01476\n",
       "30    FJKNNBLA_00825  FJKNNBLA_03413\n",
       "44    FJKNNBLA_01310  FJKNNBLA_01389\n",
       "45    FJKNNBLA_01310  FJKNNBLA_03536\n",
       "...              ...             ...\n",
       "4259  FJKNNBLA_02943  FJKNNBLA_01002\n",
       "4270  FJKNNBLA_03273  FJKNNBLA_03969\n",
       "4278  FJKNNBLA_03498  FJKNNBLA_00553\n",
       "4279  FJKNNBLA_03498  FJKNNBLA_02672\n",
       "4302  FJKNNBLA_04299  FJKNNBLA_02062\n",
       "\n",
       "[330 rows x 2 columns]"
      ]
     },
     "execution_count": 22,
     "metadata": {},
     "output_type": "execute_result"
    }
   ],
   "source": [
    "final_filtered"
   ]
  },
  {
   "cell_type": "code",
   "execution_count": 23,
   "id": "figured-bachelor",
   "metadata": {},
   "outputs": [
    {
     "data": {
      "text/plain": [
       "set()"
      ]
     },
     "execution_count": 23,
     "metadata": {},
     "output_type": "execute_result"
    }
   ],
   "source": [
    "set(final_filtered[0]) & set(final_filtered[1])"
   ]
  },
  {
   "cell_type": "markdown",
   "id": "violent-coordination",
   "metadata": {},
   "source": [
    "Interestingly, the way this is organized is that duplicates are always in the 0 column. Note that all the genes in the second column are unique, and not overlapping with any genes in column 1. \n",
    "\n",
    "So what I can do is find all the genes which are present only once in the 0 column -> they would have exactly one homolog in the rest of the E. coli genome. These sets of genes can used to test the hypiothesis that losing the only other homologous copy of the gene can lead to them becoming essential."
   ]
  },
  {
   "cell_type": "code",
   "execution_count": 24,
   "id": "progressive-raleigh",
   "metadata": {},
   "outputs": [],
   "source": [
    "homologs_onlyOnce = final_filtered.drop_duplicates(subset=0, keep=False)"
   ]
  },
  {
   "cell_type": "code",
   "execution_count": 25,
   "id": "chubby-likelihood",
   "metadata": {},
   "outputs": [
    {
     "data": {
      "text/html": [
       "<div>\n",
       "<style scoped>\n",
       "    .dataframe tbody tr th:only-of-type {\n",
       "        vertical-align: middle;\n",
       "    }\n",
       "\n",
       "    .dataframe tbody tr th {\n",
       "        vertical-align: top;\n",
       "    }\n",
       "\n",
       "    .dataframe thead th {\n",
       "        text-align: right;\n",
       "    }\n",
       "</style>\n",
       "<table border=\"1\" class=\"dataframe\">\n",
       "  <thead>\n",
       "    <tr style=\"text-align: right;\">\n",
       "      <th></th>\n",
       "      <th>0</th>\n",
       "      <th>1</th>\n",
       "    </tr>\n",
       "  </thead>\n",
       "  <tbody>\n",
       "    <tr>\n",
       "      <th>72</th>\n",
       "      <td>FJKNNBLA_02152</td>\n",
       "      <td>FJKNNBLA_00823</td>\n",
       "    </tr>\n",
       "    <tr>\n",
       "      <th>205</th>\n",
       "      <td>FJKNNBLA_01149</td>\n",
       "      <td>FJKNNBLA_00886</td>\n",
       "    </tr>\n",
       "    <tr>\n",
       "      <th>233</th>\n",
       "      <td>FJKNNBLA_01961</td>\n",
       "      <td>FJKNNBLA_01306</td>\n",
       "    </tr>\n",
       "    <tr>\n",
       "      <th>292</th>\n",
       "      <td>FJKNNBLA_03725</td>\n",
       "      <td>FJKNNBLA_01660</td>\n",
       "    </tr>\n",
       "    <tr>\n",
       "      <th>318</th>\n",
       "      <td>FJKNNBLA_00195</td>\n",
       "      <td>FJKNNBLA_03630</td>\n",
       "    </tr>\n",
       "    <tr>\n",
       "      <th>...</th>\n",
       "      <td>...</td>\n",
       "      <td>...</td>\n",
       "    </tr>\n",
       "    <tr>\n",
       "      <th>4250</th>\n",
       "      <td>FJKNNBLA_02650</td>\n",
       "      <td>FJKNNBLA_01844</td>\n",
       "    </tr>\n",
       "    <tr>\n",
       "      <th>4256</th>\n",
       "      <td>FJKNNBLA_02846</td>\n",
       "      <td>FJKNNBLA_02762</td>\n",
       "    </tr>\n",
       "    <tr>\n",
       "      <th>4259</th>\n",
       "      <td>FJKNNBLA_02943</td>\n",
       "      <td>FJKNNBLA_01002</td>\n",
       "    </tr>\n",
       "    <tr>\n",
       "      <th>4270</th>\n",
       "      <td>FJKNNBLA_03273</td>\n",
       "      <td>FJKNNBLA_03969</td>\n",
       "    </tr>\n",
       "    <tr>\n",
       "      <th>4302</th>\n",
       "      <td>FJKNNBLA_04299</td>\n",
       "      <td>FJKNNBLA_02062</td>\n",
       "    </tr>\n",
       "  </tbody>\n",
       "</table>\n",
       "<p>195 rows × 2 columns</p>\n",
       "</div>"
      ],
      "text/plain": [
       "                   0               1\n",
       "72    FJKNNBLA_02152  FJKNNBLA_00823\n",
       "205   FJKNNBLA_01149  FJKNNBLA_00886\n",
       "233   FJKNNBLA_01961  FJKNNBLA_01306\n",
       "292   FJKNNBLA_03725  FJKNNBLA_01660\n",
       "318   FJKNNBLA_00195  FJKNNBLA_03630\n",
       "...              ...             ...\n",
       "4250  FJKNNBLA_02650  FJKNNBLA_01844\n",
       "4256  FJKNNBLA_02846  FJKNNBLA_02762\n",
       "4259  FJKNNBLA_02943  FJKNNBLA_01002\n",
       "4270  FJKNNBLA_03273  FJKNNBLA_03969\n",
       "4302  FJKNNBLA_04299  FJKNNBLA_02062\n",
       "\n",
       "[195 rows x 2 columns]"
      ]
     },
     "execution_count": 25,
     "metadata": {},
     "output_type": "execute_result"
    }
   ],
   "source": [
    "homologs_onlyOnce"
   ]
  },
  {
   "cell_type": "code",
   "execution_count": 26,
   "id": "metric-theater",
   "metadata": {},
   "outputs": [],
   "source": [
    "#creating a matrix where I indicate which set of genes are homologs. \n",
    "n_homologpairs = homologs_onlyOnce.shape[0]"
   ]
  },
  {
   "cell_type": "code",
   "execution_count": 27,
   "id": "outer-cooper",
   "metadata": {},
   "outputs": [],
   "source": [
    "homologs = np.zeros(len(names))"
   ]
  },
  {
   "cell_type": "code",
   "execution_count": 36,
   "id": "bottom-median",
   "metadata": {},
   "outputs": [],
   "source": [
    "prokka_locus = list(prokka_tags)\n",
    "for k in range(0,n_homologpairs):\n",
    "    copy0 = homologs_onlyOnce.iloc[k,0]\n",
    "    copy1 = homologs_onlyOnce.iloc[k,1]\n",
    "    #setting values in homolog pairs to non-zero: each homolog pair has a unique value assigned to it\n",
    "    homologs[prokka_locus.index(copy0)] = k+1\n",
    "    homologs[prokka_locus.index(copy1)] = k+1\n",
    "    "
   ]
  },
  {
   "cell_type": "code",
   "execution_count": 29,
   "id": "listed-forth",
   "metadata": {},
   "outputs": [
    {
     "data": {
      "text/plain": [
       "390"
      ]
     },
     "execution_count": 29,
     "metadata": {},
     "output_type": "execute_result"
    }
   ],
   "source": [
    "np.sum(homologs!=0)"
   ]
  },
  {
   "cell_type": "markdown",
   "id": "greater-canadian",
   "metadata": {},
   "source": [
    "### Writing the data to file. \n",
    "\n",
    "NOTE: There is no need to write to file, as this data already exists in the github repository. If you want to modify the code and overwrite the existing files, uncomment the following code block"
   ]
  },
  {
   "cell_type": "code",
   "execution_count": 30,
   "id": "welsh-windows",
   "metadata": {},
   "outputs": [],
   "source": [
    "savepath = str(repo)+'/Analysis/Part_3_TnSeq_analysis/Processed_data_for_plotting/'"
   ]
  },
  {
   "cell_type": "code",
   "execution_count": 31,
   "id": "organized-siemens",
   "metadata": {},
   "outputs": [],
   "source": [
    "# np.savetxt(savepath+'homologs_two.txt', homologs)"
   ]
  },
  {
   "cell_type": "markdown",
   "id": "shaped-elements",
   "metadata": {},
   "source": [
    "### Creating a master spreadsheet of all the gene pairs with exactly one other homolog.\n",
    "\n",
    "Format similar to the metadata output file except:\n",
    "\n",
    "- gene_1, locus_tag, uniprot_ID, product, gene_2, locus_tag, uniprot_ID, product"
   ]
  },
  {
   "cell_type": "code",
   "execution_count": 33,
   "id": "logical-burton",
   "metadata": {},
   "outputs": [],
   "source": [
    "savepath2 = str(repo)+'/Analysis/Supplementary_tables'"
   ]
  },
  {
   "cell_type": "code",
   "execution_count": 40,
   "id": "automatic-arrest",
   "metadata": {},
   "outputs": [],
   "source": [
    "# with open(savepath2+\"/homolog_pairs_info.tsv\", 'w') as out:\n",
    "#     #first, writing the header\n",
    "#     out.write(\"Homolog 1\\tLocus Tag 1\\tUniprot ID 1\\tProduct 1\\tHomolog 2\\tLocus Tag 2\\tUniprot ID 2\\tProduct 2\\t\\n\")\n",
    "#     for i in range(n_homologpairs):\n",
    "#         copy1 = np.where(homologs==i+1)[0][0]\n",
    "#         copy2 = np.where(homologs==i+1)[0][1]\n",
    "        \n",
    "#         out.write(f\"{names[copy1]}\\t{prokka_locus[copy1]}\\t{uniprot_rel606[copy1]}\\t{product[copy1]}\\t{names[copy2]}\\t{prokka_locus[copy2]}\\t{uniprot_rel606[copy2]}\\t{product[copy2]}\\n\")"
   ]
  },
  {
   "cell_type": "code",
   "execution_count": null,
   "id": "expected-dylan",
   "metadata": {},
   "outputs": [],
   "source": []
  }
 ],
 "metadata": {
  "kernelspec": {
   "display_name": "Python 3 (ipykernel)",
   "language": "python",
   "name": "python3"
  },
  "language_info": {
   "codemirror_mode": {
    "name": "ipython",
    "version": 3
   },
   "file_extension": ".py",
   "mimetype": "text/x-python",
   "name": "python",
   "nbconvert_exporter": "python",
   "pygments_lexer": "ipython3",
   "version": "3.10.4"
  }
 },
 "nbformat": 4,
 "nbformat_minor": 5
}
