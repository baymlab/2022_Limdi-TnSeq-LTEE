{
 "cells": [
  {
   "cell_type": "markdown",
   "id": "floppy-gates",
   "metadata": {},
   "source": [
    "## Goal of the Notebook: take the fitness estimates and other data to infer gene essentiality and generate figures for the final manuscript.\n",
    "\n",
    "Input:\n",
    "- data files in the folder Processed_data_for_plotting\n",
    "\n",
    "Output:\n",
    "- panels for the figures for the paper.\n",
    "- NOTE: I assemble the final figures with annotations in Illustrator.\n",
    "- NOTE: Figures are not necessarily in the order they appear in the paper. I'll indicate exactly which figures I'm generating\n",
    "- other data that goes into supplementary tables\n",
    "- pvalues and statistical testing\n",
    "- other summary statistics\n",
    "\n",
    "#### NOTE: I have commented out all the places where I write images or data to file, please uncomment and rewrite data if you'd like to mess with parameters and redo the analysis"
   ]
  },
  {
   "cell_type": "code",
   "execution_count": 1,
   "id": "encouraging-legend",
   "metadata": {},
   "outputs": [],
   "source": [
    "import numpy as np\n",
    "from scipy import stats\n",
    "import matplotlib.pyplot as plt\n",
    "from Bio.SeqIO.FastaIO import SimpleFastaParser\n",
    "import re\n",
    "import pandas as pd\n",
    "import seaborn as sns"
   ]
  },
  {
   "cell_type": "code",
   "execution_count": 2,
   "id": "cardiovascular-saturday",
   "metadata": {},
   "outputs": [],
   "source": [
    "from matplotlib import cm\n",
    "from statsmodels.stats.multitest import multipletests\n",
    "from scipy.stats import beta, gamma,lognorm, poisson, pearsonr\n",
    "import matplotlib.patches as mpatches"
   ]
  },
  {
   "cell_type": "code",
   "execution_count": 3,
   "id": "norman-silicon",
   "metadata": {},
   "outputs": [],
   "source": [
    "import os\n",
    "from pathlib import Path"
   ]
  },
  {
   "cell_type": "code",
   "execution_count": 4,
   "id": "charitable-registrar",
   "metadata": {},
   "outputs": [
    {
     "name": "stdout",
     "output_type": "stream",
     "text": [
      "/Users/anuraglimdi/Desktop/TnSeq_Paper/LTEE-TnSeq_Paper/Analysis/Part_3_TnSeq_analysis\n"
     ]
    }
   ],
   "source": [
    "#current working directory\n",
    "cwd = os.getcwd()\n",
    "print(cwd)"
   ]
  },
  {
   "cell_type": "code",
   "execution_count": 5,
   "id": "brave-chess",
   "metadata": {},
   "outputs": [
    {
     "name": "stdout",
     "output_type": "stream",
     "text": [
      "/Users/anuraglimdi/Desktop/TnSeq_Paper/LTEE-TnSeq_Paper\n"
     ]
    }
   ],
   "source": [
    "#use the pathlib.Path function to get the parent directories-> goal is to navigate to directory with the metadata\n",
    "# and the breseq output data\n",
    "path = Path(cwd)\n",
    "repo = str(path.parents[1])\n",
    "print(path.parents[1]) #this should be the base directory for the github repository: the exact path will differ for \n",
    "#each unique user"
   ]
  },
  {
   "cell_type": "code",
   "execution_count": 6,
   "id": "exciting-visiting",
   "metadata": {},
   "outputs": [],
   "source": [
    "# sns.set_style('ticks')\n",
    "sns.set_theme()\n",
    "sns.set_context('paper')\n"
   ]
  },
  {
   "cell_type": "markdown",
   "id": "positive-contamination",
   "metadata": {},
   "source": [
    "### Paths from which I'm reading data/outputting the figures"
   ]
  },
  {
   "cell_type": "code",
   "execution_count": 7,
   "id": "super-dallas",
   "metadata": {},
   "outputs": [],
   "source": [
    "figpath = repo +'/Analysis/Plots_for_paper/'\n",
    "datapath = cwd + '/Processed_data_for_plotting/'\n",
    "metadata_path = repo +'/Metadata/'"
   ]
  },
  {
   "cell_type": "code",
   "execution_count": 805,
   "id": "maritime-laugh",
   "metadata": {},
   "outputs": [],
   "source": [
    "#names of libraries\n",
    "libraries = ['REL606', 'REL607', 'REL11330', 'REL11333', 'REL11364', 'REL11336', 'REL11339', 'REL11389', 'REL11392', 'REL11342', 'REL11345', 'REL11348', 'REL11367', 'REL11370']\n",
    "#more interpretable names for the figures in the paper\n",
    "libraries2 = ['Anc', 'Anc*', 'Ara–1', 'Ara–2', 'Ara–3', 'Ara–4', 'Ara–5', 'Ara–6', 'Ara+1', 'Ara+2', 'Ara+3', 'Ara+4', 'Ara+5', 'Ara+6']"
   ]
  },
  {
   "cell_type": "code",
   "execution_count": 9,
   "id": "worldwide-bottom",
   "metadata": {},
   "outputs": [],
   "source": [
    "#opening the pandas file with all the metadata!\n",
    "all_data = pd.read_csv(metadata_path+\"all_metadata_REL606.txt\", sep=\"\\t\")\n",
    "names = all_data.iloc[:,0]\n",
    "gene_start = all_data.iloc[:,3]\n",
    "gene_end = all_data.iloc[:,4]\n",
    "strand = all_data.iloc[:,5]\n",
    "locations = np.transpose(np.vstack([gene_start,gene_end,strand]))\n",
    "k12_tags = all_data.iloc[:,2]\n",
    "uniprot_rel606 = all_data.iloc[:,6]"
   ]
  },
  {
   "cell_type": "code",
   "execution_count": 10,
   "id": "cooked-behalf",
   "metadata": {},
   "outputs": [],
   "source": [
    "product = all_data.iloc[:,-1]"
   ]
  },
  {
   "cell_type": "code",
   "execution_count": 11,
   "id": "exempt-calibration",
   "metadata": {},
   "outputs": [],
   "source": [
    "#list of genes to be excluded from analysis as they lie within large deletions\n",
    "exclude_genes = np.loadtxt(repo+\"/Analysis/Part_2_WGS_analysis/Deleted_genes_REL606_k12annotated.txt\")\n",
    "exclude_pseudogenes = np.loadtxt(repo+\"/Analysis/Part_2_WGS_analysis/Deleted_pseudogenes_REL606_k12annotated.txt\")\n",
    "locations_pseudogenes = np.loadtxt(metadata_path+'pseudogenes_locations_REL606.txt')\n",
    "#\n",
    "n_pseudo = exclude_pseudogenes.shape[1]"
   ]
  },
  {
   "cell_type": "code",
   "execution_count": 12,
   "id": "wound-incidence",
   "metadata": {},
   "outputs": [],
   "source": [
    "#fractions of the gene at the 5' and 3' ends to be excluded from analysis because they insertions there may not actually\n",
    "#be disruptive to protein function\n",
    "frac5p = 0.1\n",
    "frac3p = 0.25\n",
    "\n",
    "with open(metadata_path+\"rel606_reference.fasta\") as in_handle:\n",
    "    for title, seq in SimpleFastaParser(in_handle):\n",
    "        ta_sites = [m.start(0) for m in re.finditer('TA', seq)]\n",
    "ta_sites = np.array(ta_sites)\n",
    "\n",
    "#counting how many TA sites are present in each gene\n",
    "ta_gene = np.zeros(len(names))\n",
    "for i in range(0,len(names)):\n",
    "    start = locations[i, 0]\n",
    "    end = locations[i, 1]\n",
    "    length = end - start\n",
    "    #if the gene is on the forward strand\n",
    "    if locations[i,2]==1:\n",
    "        #counting sites only in the middle 80% of the gene, excluding 10% at each end\n",
    "        ta_gene[i] = np.sum((ta_sites > start+length*frac5p)&(ta_sites < end - length*frac3p))\n",
    "    elif locations[i,2]==-1:\n",
    "        ta_gene[i] = np.sum((ta_sites < start+length*frac5p)&(ta_sites > end - length*frac3p))"
   ]
  },
  {
   "cell_type": "code",
   "execution_count": 666,
   "id": "renewable-subsection",
   "metadata": {},
   "outputs": [],
   "source": [
    "#loading the fitness data files now:\n",
    "fitness_gene_corrected = np.load(datapath+'/fitness_corrected_genes.npy')\n",
    "fitness_gene_relaxed = np.load(datapath+'/fitness_genes_relaxed_thresholds_updated.npy')\n",
    "fitness_pseudogene = np.load(datapath+'/fitness_pseudogenes.npy')\n",
    "\n",
    "#these are all slightly different metrics of error\n",
    "error_gene_inv = np.load(datapath+'/errors_genes_inv.npy')\n",
    "error_pseudogene_inv = np.load(datapath+'/errors_pseudogenes_inv.npy')\n",
    "\n",
    "error_gene_hybrid = np.load(datapath+'/errors_genes_hybrid.npy')\n",
    "error_pseudogene_hybrid = np.load(datapath+'/errors_pseudogenes_hybrid.npy')"
   ]
  },
  {
   "cell_type": "code",
   "execution_count": 14,
   "id": "alert-obligation",
   "metadata": {},
   "outputs": [
    {
     "data": {
      "text/plain": [
       "array([[-0.32309008, -0.26881478],\n",
       "       [-0.24791682, -0.34827508],\n",
       "       [-0.13660168, -0.02533479],\n",
       "       [-0.03299209, -0.01883153],\n",
       "       [-0.18254041, -0.16316946],\n",
       "       [-0.07390178, -0.08912543],\n",
       "       [-0.10089448, -0.07464315],\n",
       "       [-0.15432662, -0.17637027],\n",
       "       [-0.06192539, -0.06884853],\n",
       "       [-0.08027262, -0.09543254],\n",
       "       [-0.08000855, -0.04871196],\n",
       "       [-0.2952767 , -0.16504088],\n",
       "       [-0.05312648, -0.0402353 ],\n",
       "       [-0.18650211, -0.17968245]])"
      ]
     },
     "execution_count": 14,
     "metadata": {},
     "output_type": "execute_result"
    }
   ],
   "source": [
    "#just checking in on my favorite example: sspA\n",
    "fitness_gene_relaxed[list(names).index('sspA')]"
   ]
  },
  {
   "cell_type": "markdown",
   "id": "olympic-titanium",
   "metadata": {},
   "source": [
    "## Supplementary Figure 1a: Fitness measurements are highly reproducible"
   ]
  },
  {
   "cell_type": "code",
   "execution_count": 694,
   "id": "parallel-maine",
   "metadata": {},
   "outputs": [
    {
     "data": {
      "image/png": "[encoded data removed]",
      "text/plain": [
       "<Figure size 360x144 with 2 Axes>"
      ]
     },
     "metadata": {},
     "output_type": "display_data"
    }
   ],
   "source": [
    "with sns.axes_style('ticks'):\n",
    "    fig,ax = plt.subplots(1,2,figsize=(5,2))\n",
    "    k = 8 #population: Ara-3\n",
    "    genes_analyzed_noness = np.where((fitness_gene_corrected[:,k,0]>-1))[0]\n",
    "    r_val = pearsonr(fitness_gene_corrected[genes_analyzed_noness,k,0],fitness_gene_corrected[genes_analyzed_noness,k,1])\n",
    "    ax[0].plot(fitness_gene_corrected[genes_analyzed_noness,k,0],fitness_gene_corrected[genes_analyzed_noness,k,1],'.', alpha=0.3)\n",
    "    ax[0].plot(np.linspace(-0.6,0.1),np.linspace(-0.6,0.1),'k')\n",
    "    ax[0].set(xlabel = 'Fitness, replicate 1', ylabel = 'Fitness, replicate 2')\n",
    "    ax[0].set_ylabel('Fitness, replicate 2')\n",
    "    ax[0].text(-0.55,  -0.1, f'Pearson r\\n = {np.round(r_val[0],3)}')\n",
    "    \n",
    "    ax[1].hist(error_gene[:,k][error_gene_inv[:,k]>-1],bins=20)\n",
    "    ax[1].set(xlabel='Measurement error', ylabel='Number of genes')\n",
    "    ax[1].text(0.025, 550, f'average error in \\n fitness = {np.round(np.mean(error_gene_inv[:,k][error_gene_inv[:,k]>-1]),3)}')    \n",
    "\n",
    "\n",
    "    sns.despine(offset=0)    \n",
    "    plt.subplots_adjust(wspace=0.6)\n",
    "    plt.suptitle(\"Fitness measurements are highly reproducible\")\n",
    "#     fig.savefig(figpath+\"reproducibility_fitness.pdf\", format='pdf',bbox_inches='tight')"
   ]
  },
  {
   "cell_type": "markdown",
   "id": "honey-jewelry",
   "metadata": {},
   "source": [
    "## Supplementary Figure 2b,c: Excluding Ara-2 and Ara+4 from further analysis\n",
    "\n",
    "NOTE: Supp. Figure 2A is generated in the fitness calculations notebook: I plot all the trajectories in that plot, and I didn't want to load all the sequencing counts data all over again (~50MB) per file"
   ]
  },
  {
   "cell_type": "code",
   "execution_count": 693,
   "id": "apart-overall",
   "metadata": {},
   "outputs": [
    {
     "data": {
      "image/png": "[encoded data removed]",
      "text/plain": [
       "<Figure size 360x144 with 2 Axes>"
      ]
     },
     "metadata": {},
     "output_type": "display_data"
    }
   ],
   "source": [
    "with sns.axes_style('ticks'):\n",
    "    fig,ax = plt.subplots(1,2,figsize=(5,2))\n",
    "    k = 11\n",
    "    genes_analyzed_noness = np.where((fitness_gene_corrected[:,k,0]>-1))[0]\n",
    "    r_val = pearsonr(fitness_gene_corrected[genes_analyzed_noness,k,0],fitness_gene_corrected[genes_analyzed_noness,k,1])\n",
    "    ax[0].plot(fitness_gene_corrected[genes_analyzed_noness,k,0],fitness_gene_corrected[genes_analyzed_noness,k,1],'.',color='gray')\n",
    "#     ax[0].plot(np.linspace(-0.7,0.1),np.linspace(-0.7,0.1),'k')\n",
    "    ax[0].set(xlabel = 'Fitness, replicate 1', ylabel = 'Fitness, replicate 2')\n",
    "    ax[0].set_ylabel('Fitness, replicate 2')\n",
    "    ax[0].text(-0.25,  -0.75, f'Pearson r\\n = {np.round(r_val[0],3)}')\n",
    "    \n",
    "    ax[1].hist(error_gene_inv[:,k][error_gene_inv[:,k]>-1],bins=np.linspace(0,0.06,25), label='Ara+4',color='gray')\n",
    "    ax[1].hist(error_gene_inv[:,8][error_gene_inv[:,8]>-1],bins=np.linspace(0,0.06,25), histtype='step', label='Ara+1',color='red')\n",
    "    ax[1].set(xlabel='Measurement error', ylabel='Number of genes')\n",
    "    ax[1].legend(loc=0, frameon=False)\n",
    "    ax[1].text(0.03, 450, f'average error \\nin Ara+4 = {np.round(np.mean(error_gene_inv[:,k][error_gene_inv[:,k]>-1]),3)}')    \n",
    "\n",
    "#     ax[2].hist(fitness_pseudogene[:,k,0][fitness_pseudogene[:,k,0]>-1],bins=np.linspace(-0.5, 0.1, 20), label='Ara+4',color='gray')\n",
    "#     ax[2].hist(fitness_pseudogene[:,6,0][fitness_pseudogene[:,6,0]>-1],bins=np.linspace(-0.5, 0.1, 20), histtype='step', label='Ara-5',color='red')\n",
    "#     ax[2].set(xlabel='Fitness estimate for pseudogene', ylabel='Number of genes',yscale='log')\n",
    "#     ax[2].legend(loc=2, frameon=False)\n",
    "    \n",
    "    sns.despine(offset=0)    \n",
    "    plt.subplots_adjust(wspace=0.6)\n",
    "    plt.suptitle(\"Fitness measurements are much noisier in Ara+4\")\n",
    "#     fig.savefig(figpath+\"not_reproducibility_fitness_araP4.png\", format='png',bbox_inches='tight',dpi=600)"
   ]
  },
  {
   "cell_type": "code",
   "execution_count": 797,
   "id": "serial-unemployment",
   "metadata": {},
   "outputs": [
    {
     "data": {
      "image/png": "[encoded data removed]",
      "text/plain": [
       "<Figure size 360x144 with 2 Axes>"
      ]
     },
     "metadata": {},
     "output_type": "display_data"
    }
   ],
   "source": [
    "with sns.axes_style('ticks'):\n",
    "    fig, ax = plt.subplots(1,2,figsize=(5,2))\n",
    "    ax[1].hist(np.mean(fitness_gene_corrected[:,0,:],axis=1), bins=np.linspace(-0.8,0.05,40),label='Anc')\n",
    "    ax[1].hist(np.mean(fitness_gene_corrected[:,3,:],axis=1), bins=np.linspace(-0.8,0.05,40),alpha=0.7, label='Ara–2')\n",
    "    ax[1].set_xlabel('Fitness effect')\n",
    "    ax[1].set_title('Genes')\n",
    "    ax[1].set_yscale('log')\n",
    "\n",
    "    ax[0].hist(np.mean(fitness_pseudogene[:,0,:],axis=1), bins=np.linspace(-0.4,0.05,40), label='Anc')\n",
    "    ax[0].hist(np.mean(fitness_pseudogene[:,3,:],axis=1), bins=np.linspace(-0.4,0.05,40),alpha=0.7, label='Ara–2')\n",
    "    ax[0].set_xlabel('Fitness effect')\n",
    "    ax[0].set_title('Pseudogenes')\n",
    "    ax[0].set_ylabel('Number')\n",
    "    ax[0].set_yscale('log')\n",
    "    ax[0].legend(loc='upper left',frameon=False)\n",
    "    ax[1].legend(loc=0,frameon=False)\n",
    "\n",
    "    # plt.subplots_adjust(wspace=0.6)\n",
    "    sns.despine()\n",
    "    plt.show()\n",
    "#     fig.savefig(figpath+'ara-2_exclusion.pdf',format='pdf',bbox_inches='tight')\n"
   ]
  },
  {
   "cell_type": "markdown",
   "id": "private-blake",
   "metadata": {},
   "source": [
    "## Figure 2: DFE remains unchanged over evolution"
   ]
  },
  {
   "cell_type": "code",
   "execution_count": 806,
   "id": "synthetic-tobago",
   "metadata": {},
   "outputs": [],
   "source": [
    "#the dfe data pandas frame which is used for plotting a lot of the figure 2 panels\n",
    "dfe_data = pd.read_csv(datapath+'/dfe_data_pandas.csv')"
   ]
  },
  {
   "cell_type": "code",
   "execution_count": 807,
   "id": "contemporary-section",
   "metadata": {},
   "outputs": [],
   "source": [
    "#renaming columns for purposes of the figure\n",
    "dfe_data.rename(columns={'Fitness estimate':'Fitness effect'}, inplace=True)"
   ]
  },
  {
   "cell_type": "markdown",
   "id": "479cb0a0",
   "metadata": {},
   "source": [
    "For the plot, I'm going to reordering the populations: ANC, Ara- populations, ANC, Ara+ Populations"
   ]
  },
  {
   "cell_type": "code",
   "execution_count": 808,
   "id": "f1045798",
   "metadata": {},
   "outputs": [],
   "source": [
    "dfe_data_minus = dfe_data[dfe_data['Ara Phenotype']=='Ara-']\n",
    "dfe_data_plus = dfe_data[dfe_data['Ara Phenotype']=='Ara+']\n",
    "dfe_data = pd.concat([dfe_data_minus, dfe_data_plus])"
   ]
  },
  {
   "cell_type": "code",
   "execution_count": 809,
   "id": "6edb1fc4",
   "metadata": {},
   "outputs": [
    {
     "data": {
      "text/html": [
       "<div>\n",
       "<style scoped>\n",
       "    .dataframe tbody tr th:only-of-type {\n",
       "        vertical-align: middle;\n",
       "    }\n",
       "\n",
       "    .dataframe tbody tr th {\n",
       "        vertical-align: top;\n",
       "    }\n",
       "\n",
       "    .dataframe thead th {\n",
       "        text-align: right;\n",
       "    }\n",
       "</style>\n",
       "<table border=\"1\" class=\"dataframe\">\n",
       "  <thead>\n",
       "    <tr style=\"text-align: right;\">\n",
       "      <th></th>\n",
       "      <th>Unnamed: 0</th>\n",
       "      <th>Fitness effect</th>\n",
       "      <th>Population</th>\n",
       "      <th>Evolutionary History</th>\n",
       "      <th>Replicate</th>\n",
       "      <th>Genes</th>\n",
       "      <th>Mutator</th>\n",
       "      <th>Ara Phenotype</th>\n",
       "    </tr>\n",
       "  </thead>\n",
       "  <tbody>\n",
       "    <tr>\n",
       "      <th>0</th>\n",
       "      <td>0</td>\n",
       "      <td>-0.583556</td>\n",
       "      <td>REL606</td>\n",
       "      <td>Ancestral</td>\n",
       "      <td>Green</td>\n",
       "      <td>thrA</td>\n",
       "      <td>non-mutator</td>\n",
       "      <td>Ara-</td>\n",
       "    </tr>\n",
       "    <tr>\n",
       "      <th>1</th>\n",
       "      <td>1</td>\n",
       "      <td>-0.441172</td>\n",
       "      <td>REL606</td>\n",
       "      <td>Ancestral</td>\n",
       "      <td>Green</td>\n",
       "      <td>thrB</td>\n",
       "      <td>non-mutator</td>\n",
       "      <td>Ara-</td>\n",
       "    </tr>\n",
       "    <tr>\n",
       "      <th>2</th>\n",
       "      <td>2</td>\n",
       "      <td>-0.529383</td>\n",
       "      <td>REL606</td>\n",
       "      <td>Ancestral</td>\n",
       "      <td>Green</td>\n",
       "      <td>thrC</td>\n",
       "      <td>non-mutator</td>\n",
       "      <td>Ara-</td>\n",
       "    </tr>\n",
       "    <tr>\n",
       "      <th>3</th>\n",
       "      <td>3</td>\n",
       "      <td>0.008559</td>\n",
       "      <td>REL606</td>\n",
       "      <td>Ancestral</td>\n",
       "      <td>Green</td>\n",
       "      <td>yaaX</td>\n",
       "      <td>non-mutator</td>\n",
       "      <td>Ara-</td>\n",
       "    </tr>\n",
       "    <tr>\n",
       "      <th>4</th>\n",
       "      <td>4</td>\n",
       "      <td>0.011353</td>\n",
       "      <td>REL606</td>\n",
       "      <td>Ancestral</td>\n",
       "      <td>Green</td>\n",
       "      <td>yaaA</td>\n",
       "      <td>non-mutator</td>\n",
       "      <td>Ara-</td>\n",
       "    </tr>\n",
       "    <tr>\n",
       "      <th>...</th>\n",
       "      <td>...</td>\n",
       "      <td>...</td>\n",
       "      <td>...</td>\n",
       "      <td>...</td>\n",
       "      <td>...</td>\n",
       "      <td>...</td>\n",
       "      <td>...</td>\n",
       "      <td>...</td>\n",
       "    </tr>\n",
       "    <tr>\n",
       "      <th>96513</th>\n",
       "      <td>96513</td>\n",
       "      <td>0.004395</td>\n",
       "      <td>Ara+6</td>\n",
       "      <td>Evolved</td>\n",
       "      <td>Red</td>\n",
       "      <td>yshB</td>\n",
       "      <td>mutator</td>\n",
       "      <td>Ara+</td>\n",
       "    </tr>\n",
       "    <tr>\n",
       "      <th>96514</th>\n",
       "      <td>96514</td>\n",
       "      <td>-0.016094</td>\n",
       "      <td>Ara+6</td>\n",
       "      <td>Evolved</td>\n",
       "      <td>Red</td>\n",
       "      <td>glnG</td>\n",
       "      <td>mutator</td>\n",
       "      <td>Ara+</td>\n",
       "    </tr>\n",
       "    <tr>\n",
       "      <th>96515</th>\n",
       "      <td>96515</td>\n",
       "      <td>-0.012090</td>\n",
       "      <td>Ara+6</td>\n",
       "      <td>Evolved</td>\n",
       "      <td>Red</td>\n",
       "      <td>glnL</td>\n",
       "      <td>mutator</td>\n",
       "      <td>Ara+</td>\n",
       "    </tr>\n",
       "    <tr>\n",
       "      <th>96516</th>\n",
       "      <td>96516</td>\n",
       "      <td>-0.215694</td>\n",
       "      <td>Ara+6</td>\n",
       "      <td>Evolved</td>\n",
       "      <td>Red</td>\n",
       "      <td>glnA</td>\n",
       "      <td>mutator</td>\n",
       "      <td>Ara+</td>\n",
       "    </tr>\n",
       "    <tr>\n",
       "      <th>96517</th>\n",
       "      <td>96517</td>\n",
       "      <td>-0.004380</td>\n",
       "      <td>Ara+6</td>\n",
       "      <td>Evolved</td>\n",
       "      <td>Red</td>\n",
       "      <td>bipA</td>\n",
       "      <td>mutator</td>\n",
       "      <td>Ara+</td>\n",
       "    </tr>\n",
       "  </tbody>\n",
       "</table>\n",
       "<p>96518 rows × 8 columns</p>\n",
       "</div>"
      ],
      "text/plain": [
       "       Unnamed: 0  Fitness effect Population Evolutionary History Replicate  \\\n",
       "0               0       -0.583556     REL606            Ancestral     Green   \n",
       "1               1       -0.441172     REL606            Ancestral     Green   \n",
       "2               2       -0.529383     REL606            Ancestral     Green   \n",
       "3               3        0.008559     REL606            Ancestral     Green   \n",
       "4               4        0.011353     REL606            Ancestral     Green   \n",
       "...           ...             ...        ...                  ...       ...   \n",
       "96513       96513        0.004395      Ara+6              Evolved       Red   \n",
       "96514       96514       -0.016094      Ara+6              Evolved       Red   \n",
       "96515       96515       -0.012090      Ara+6              Evolved       Red   \n",
       "96516       96516       -0.215694      Ara+6              Evolved       Red   \n",
       "96517       96517       -0.004380      Ara+6              Evolved       Red   \n",
       "\n",
       "      Genes      Mutator Ara Phenotype  \n",
       "0      thrA  non-mutator          Ara-  \n",
       "1      thrB  non-mutator          Ara-  \n",
       "2      thrC  non-mutator          Ara-  \n",
       "3      yaaX  non-mutator          Ara-  \n",
       "4      yaaA  non-mutator          Ara-  \n",
       "...     ...          ...           ...  \n",
       "96513  yshB      mutator          Ara+  \n",
       "96514  glnG      mutator          Ara+  \n",
       "96515  glnL      mutator          Ara+  \n",
       "96516  glnA      mutator          Ara+  \n",
       "96517  bipA      mutator          Ara+  \n",
       "\n",
       "[96518 rows x 8 columns]"
      ]
     },
     "execution_count": 809,
     "metadata": {},
     "output_type": "execute_result"
    }
   ],
   "source": [
    "dfe_data"
   ]
  },
  {
   "cell_type": "markdown",
   "id": "09874eca",
   "metadata": {},
   "source": [
    "Now, renaming the populations to be stylistically consistent with the companion paper."
   ]
  },
  {
   "cell_type": "code",
   "execution_count": 810,
   "id": "7b89a665",
   "metadata": {},
   "outputs": [],
   "source": [
    "pop_names_old = ['REL606', 'REL607', 'Ara-1', 'Ara-2', 'Ara-3', 'Ara-4', 'Ara-5', 'Ara-6', 'Ara+1', 'Ara+2', 'Ara+3', 'Ara+4', 'Ara+5', 'Ara+6']\n",
    "for k in range(len(pop_names_old)):\n",
    "    pop = pop_names_old[k]\n",
    "    dfe_data.loc[(dfe_data['Population'] == pop)&(dfe_data['Mutator'] == 'non-mutator'), 'Population' ] = libraries2[k]\n",
    "    dfe_data.loc[(dfe_data['Population'] == pop)&(dfe_data['Mutator'] == 'mutator'), 'Population' ] = libraries2[k]\n"
   ]
  },
  {
   "cell_type": "markdown",
   "id": "based-spread",
   "metadata": {},
   "source": [
    "### Figure 2a) Ridgeplot of DFEs"
   ]
  },
  {
   "cell_type": "code",
   "execution_count": 802,
   "id": "curious-lover",
   "metadata": {},
   "outputs": [
    {
     "data": {
      "text/html": [
       "<svg  width=\"550\" height=\"55\"><rect x=\"0\" y=\"0\" width=\"55\" height=\"55\" style=\"fill:#4c72b0;stroke-width:2;stroke:rgb(255,255,255)\"/><rect x=\"55\" y=\"0\" width=\"55\" height=\"55\" style=\"fill:#dd8452;stroke-width:2;stroke:rgb(255,255,255)\"/><rect x=\"110\" y=\"0\" width=\"55\" height=\"55\" style=\"fill:#55a868;stroke-width:2;stroke:rgb(255,255,255)\"/><rect x=\"165\" y=\"0\" width=\"55\" height=\"55\" style=\"fill:#c44e52;stroke-width:2;stroke:rgb(255,255,255)\"/><rect x=\"220\" y=\"0\" width=\"55\" height=\"55\" style=\"fill:#8172b3;stroke-width:2;stroke:rgb(255,255,255)\"/><rect x=\"275\" y=\"0\" width=\"55\" height=\"55\" style=\"fill:#937860;stroke-width:2;stroke:rgb(255,255,255)\"/><rect x=\"330\" y=\"0\" width=\"55\" height=\"55\" style=\"fill:#da8bc3;stroke-width:2;stroke:rgb(255,255,255)\"/><rect x=\"385\" y=\"0\" width=\"55\" height=\"55\" style=\"fill:#8c8c8c;stroke-width:2;stroke:rgb(255,255,255)\"/><rect x=\"440\" y=\"0\" width=\"55\" height=\"55\" style=\"fill:#ccb974;stroke-width:2;stroke:rgb(255,255,255)\"/><rect x=\"495\" y=\"0\" width=\"55\" height=\"55\" style=\"fill:#64b5cd;stroke-width:2;stroke:rgb(255,255,255)\"/></svg>"
      ],
      "text/plain": [
       "[(0.2980392156862745, 0.4470588235294118, 0.6901960784313725),\n",
       " (0.8666666666666667, 0.5176470588235295, 0.3215686274509804),\n",
       " (0.3333333333333333, 0.6588235294117647, 0.40784313725490196),\n",
       " (0.7686274509803922, 0.3058823529411765, 0.3215686274509804),\n",
       " (0.5058823529411764, 0.4470588235294118, 0.7019607843137254),\n",
       " (0.5764705882352941, 0.47058823529411764, 0.3764705882352941),\n",
       " (0.8549019607843137, 0.5450980392156862, 0.7647058823529411),\n",
       " (0.5490196078431373, 0.5490196078431373, 0.5490196078431373),\n",
       " (0.8, 0.7254901960784313, 0.4549019607843137),\n",
       " (0.39215686274509803, 0.7098039215686275, 0.803921568627451)]"
      ]
     },
     "execution_count": 802,
     "metadata": {},
     "output_type": "execute_result"
    }
   ],
   "source": [
    "sns.color_palette('deep')"
   ]
  },
  {
   "cell_type": "code",
   "execution_count": 803,
   "id": "composite-student",
   "metadata": {},
   "outputs": [],
   "source": [
    "ridgeplot_palette = []\n",
    "k_reordered = [0,2,3,4,5,6,7,1,8,9,10,11,12,13]\n",
    "for k in k_reordered:\n",
    "    if k<2:\n",
    "        ridgeplot_palette.append(sns.color_palette('deep')[0])#blue\n",
    "    elif k==3 or k==11: ###note, these are Ara-2 and Ara+4 which we want to exclude from our analysis\n",
    "        ridgeplot_palette.append(sns.color_palette('deep')[7])#gray\n",
    "    else:\n",
    "        ridgeplot_palette.append(sns.color_palette('deep')[1])#orange"
   ]
  },
  {
   "cell_type": "code",
   "execution_count": 812,
   "id": "toxic-handy",
   "metadata": {},
   "outputs": [
    {
     "name": "stderr",
     "output_type": "stream",
     "text": [
      "/Users/anuraglimdi/opt/miniconda3/envs/sns_env/lib/python3.10/site-packages/seaborn/axisgrid.py:88: UserWarning: Tight layout not applied. tight_layout cannot make axes height small enough to accommodate all axes decorations.\n",
      "  self._figure.tight_layout(*args, **kwargs)\n",
      "/Users/anuraglimdi/opt/miniconda3/envs/sns_env/lib/python3.10/site-packages/seaborn/axisgrid.py:88: UserWarning: Tight layout not applied. tight_layout cannot make axes height small enough to accommodate all axes decorations.\n",
      "  self._figure.tight_layout(*args, **kwargs)\n",
      "/Users/anuraglimdi/opt/miniconda3/envs/sns_env/lib/python3.10/site-packages/seaborn/axisgrid.py:88: UserWarning: Tight layout not applied. tight_layout cannot make axes height small enough to accommodate all axes decorations.\n",
      "  self._figure.tight_layout(*args, **kwargs)\n"
     ]
    },
    {
     "data": {
      "image/png": "[encoded data removed]",
      "text/plain": [
       "<Figure size 151.2x302.4 with 14 Axes>"
      ]
     },
     "metadata": {},
     "output_type": "display_data"
    }
   ],
   "source": [
    "dfe_ridgeplot_inverse_var = dfe_data.loc[(dfe_data['Fitness effect']<0.05)&(dfe_data['Fitness effect']>-0.1)]\n",
    "\n",
    "g = sns.FacetGrid(dfe_ridgeplot_inverse_var, row=\"Population\",hue='Population',aspect=7, height=0.3, palette=ridgeplot_palette)\n",
    "sns.set_theme(context=\"paper\", rc={\"axes.facecolor\": (0, 0, 0, 0)},style='white')\n",
    "g.map(sns.kdeplot, \"Fitness effect\",\n",
    "      bw_adjust=.5, clip_on=True,\n",
    "      fill=True, alpha=1, linewidth=1)\n",
    "g.map(sns.kdeplot, \"Fitness effect\", clip_on=False, color=\"white\", lw=0.5, bw_adjust=.5)\n",
    "# g.map(plt.axhline, y=0, lw=1, clip_on=True)\n",
    "\n",
    "# Define and use a simple function to label the plot in axes coordinates\n",
    "def label(x, color, label):\n",
    "    ax = plt.gca()\n",
    "    ax.text(0.03, .2, label, color='black', size=8,\n",
    "            ha=\"left\", va=\"center\", transform=ax.transAxes)\n",
    "\n",
    "g.map(label, \"Fitness effect\")\n",
    "\n",
    "# Set the subplots to overlap\n",
    "g.fig.subplots_adjust(hspace=-0.6)\n",
    "\n",
    "# Remove axes details that don't play well with overlap\n",
    "g.set_titles(\"\")\n",
    "g.set(yticks=[],ylabel='')\n",
    "g.set(xticks=[-0.1, -0.05, 0, 0.05])\n",
    "g.despine(left=True)\n",
    "# g.set(xlim=(-0.2,0.1))\n",
    "# g.set_xlabel('Fitness effect of insertion mutation', fontsize=10)\n",
    "\n",
    "# g.savefig(figpath+'DFE_comparison_ridgeplot.pdf', format='pdf', bbox_inches='tight')"
   ]
  },
  {
   "cell_type": "code",
   "execution_count": 134,
   "id": "focal-parameter",
   "metadata": {},
   "outputs": [],
   "source": [
    "means_dfe = np.loadtxt(datapath+'/mean_dfe.txt')\n",
    "var_dfe = np.loadtxt(datapath+'/variance_dfe.txt')\n",
    "\n",
    "error_mean_inv = np.loadtxt(datapath+'/error_mean_inv.txt')\n",
    "error_var_inv = np.loadtxt(datapath+'/error_variance_inv.txt')"
   ]
  },
  {
   "cell_type": "markdown",
   "id": "1b5728a2",
   "metadata": {},
   "source": [
    "I'm using the inverse variance weighted standard error estimates for Fig 2. See Methods for formulae on how they're calculated"
   ]
  },
  {
   "cell_type": "markdown",
   "id": "4fe866fd",
   "metadata": {},
   "source": [
    "### Z-statistic calculation for whether means and variances differ"
   ]
  },
  {
   "cell_type": "code",
   "execution_count": 492,
   "id": "b4e9f200",
   "metadata": {},
   "outputs": [],
   "source": [
    "ridgeplot_palette_2 =  []\n",
    "for k in range(len(libraries2)):\n",
    "    if k<2:\n",
    "        ridgeplot_palette_2.append(sns.color_palette('deep')[0])\n",
    "    elif k==3 or k==11: ###note, these are Ara-2 and Ara+4 which we want to exclude from our analysis\n",
    "        ridgeplot_palette_2.append(sns.color_palette('deep')[7])\n",
    "    else:\n",
    "        ridgeplot_palette_2.append(sns.color_palette('deep')[1])\n",
    "        "
   ]
  },
  {
   "cell_type": "code",
   "execution_count": 850,
   "id": "7af27e26",
   "metadata": {},
   "outputs": [
    {
     "name": "stdout",
     "output_type": "stream",
     "text": [
      "Anc* Bonferroni Corrected p value 1.45918 Z-statistic -1.0541\n",
      "Ara–1 Bonferroni Corrected p value 1.95528 Z-statistic -0.8577\n",
      "Ara–3 Bonferroni Corrected p value 0.0 Z-statistic -6.8894\n",
      "Ara–4 Bonferroni Corrected p value 3.72852 Z-statistic 0.3243\n",
      "Ara–5 Bonferroni Corrected p value 4.61052 Z-statistic 0.0978\n",
      "Ara–6 Bonferroni Corrected p value 0.00356 Z-statistic 3.3847\n",
      "Ara+1 Bonferroni Corrected p value 0.02964 Z-statistic 2.7518\n",
      "Ara+2 Bonferroni Corrected p value 3.88917 Z-statistic -0.2821\n",
      "Ara+3 Bonferroni Corrected p value 0.00272 Z-statistic -3.4576\n",
      "Ara+5 Bonferroni Corrected p value 4.357 Z-statistic 0.1619\n",
      "Ara+6 Bonferroni Corrected p value 0.0 Z-statistic -6.4235\n"
     ]
    }
   ],
   "source": [
    "for comp in [1,2,4,5,6,7,8,9,10,12,13]:\n",
    "    anc_num = int((comp-1)/7) #comparing the ara+ populations against REL607\n",
    "    z_test = (means_dfe[comp] - means_dfe[anc_num])/np.sqrt(error_mean_inv[comp]**2+error_mean_inv[anc_num]**2)\n",
    "    print(libraries2[comp], 'Bonferroni Corrected p value', np.round(stats.norm.sf(abs(z_test))*10,5), 'Z-statistic', np.round(z_test, 4))"
   ]
  },
  {
   "cell_type": "code",
   "execution_count": 851,
   "id": "b3955f06",
   "metadata": {},
   "outputs": [
    {
     "name": "stdout",
     "output_type": "stream",
     "text": [
      "Anc* Bonferroni Corrected p value 0.0 Z-statistic 7.7751\n",
      "Ara–1 Bonferroni Corrected p value 0.0 Z-statistic 7.7601\n",
      "Ara–3 Bonferroni Corrected p value 0.0 Z-statistic 41.868\n",
      "Ara–4 Bonferroni Corrected p value 2.7077 Z-statistic -0.6105\n",
      "Ara–5 Bonferroni Corrected p value 0.2551 Z-statistic -1.9513\n",
      "Ara–6 Bonferroni Corrected p value 0.0 Z-statistic -17.9465\n",
      "Ara+1 Bonferroni Corrected p value 0.0 Z-statistic -28.3336\n",
      "Ara+2 Bonferroni Corrected p value 0.0 Z-statistic -7.818\n",
      "Ara+3 Bonferroni Corrected p value 0.0 Z-statistic 17.1047\n",
      "Ara+5 Bonferroni Corrected p value 1.4558 Z-statistic -1.0556\n",
      "Ara+6 Bonferroni Corrected p value 0.0 Z-statistic 17.7637\n"
     ]
    }
   ],
   "source": [
    "for comp in [1,2,4,5,6,7,8,9,10,12,13]:\n",
    "    anc_num = int((comp-1)/7) #comparing the ara+ populations against REL607\n",
    "    z_test = (var_dfe[comp] - var_dfe[anc_num])/np.sqrt(error_var_inv[comp]**2+error_var_inv[anc_num]**2)\n",
    "\n",
    "    print(libraries2[comp], 'Bonferroni Corrected p value', np.round(stats.norm.sf(abs(z_test))*10,4), 'Z-statistic', np.round(z_test, 4))\n"
   ]
  },
  {
   "cell_type": "code",
   "execution_count": 144,
   "id": "consolidated-substance",
   "metadata": {},
   "outputs": [],
   "source": [
    "n_comps = 1\n",
    "p_val = 0.05/n_comps\n",
    "n_sd = stats.norm.ppf(p_val/2)\n",
    "order = [0,2,4,5,6,7,1,8,9,10,12,13]"
   ]
  },
  {
   "cell_type": "code",
   "execution_count": 813,
   "id": "ed277049",
   "metadata": {},
   "outputs": [
    {
     "name": "stdout",
     "output_type": "stream",
     "text": [
      "6 4 REL11330\n",
      "14 22 REL11364\n",
      "13 19 REL11336\n",
      "15 11 REL11339\n",
      "17 6 REL11389\n",
      "13 16 REL11392\n",
      "13 13 REL11342\n",
      "10 10 REL11345\n",
      "11 13 REL11367\n",
      "27 25 REL11370\n"
     ]
    },
    {
     "data": {
      "image/png": "[encoded data removed]",
      "text/plain": [
       "<Figure size 396x306 with 4 Axes>"
      ]
     },
     "metadata": {},
     "output_type": "display_data"
    }
   ],
   "source": [
    "with sns.axes_style('ticks'):\n",
    "    #2x2 grid\n",
    "    bins=np.linspace(-0.8,0.2,50)\n",
    "    fig, ax = plt.subplots(2,2, figsize=(5.5,4.25))\n",
    "\n",
    "    #panel B: comparison of DFEs\n",
    "    anc_data = np.reshape(np.mean(fitness_gene_corrected[:,[0,1],:],axis=2), newshape=len(names)*2)\n",
    "    ax[0,0].hist(anc_data, density=1, bins=bins, histtype='step', label='Ancestors')\n",
    "    evo_data = np.reshape(np.mean(fitness_gene_corrected[:,[2,4,5,6,7,8,9,10,12,13],:], axis=2), newshape=len(names)*10)\n",
    "    ax[0,0].hist(evo_data, density=1, bins=bins,histtype='bar', label='Evolved')\n",
    "    ax[0,0].legend(loc=2,frameon=False)\n",
    "    ax[0,0].set_yscale('log')\n",
    "    ax[0,0].set_xlim((-0.8,0.2))\n",
    "    ax[0,0].set_yticks([10**-2, 10**-1, 1])\n",
    "\n",
    "    ax[0,0].set_xlabel('Fitness effect')\n",
    "    ax[0,0].set_ylabel('Probability density')\n",
    "\n",
    "    \n",
    "    #panels C and D\n",
    "    for pop in order:\n",
    "        x = [libraries2[pop]]\n",
    "        y = [means_dfe[pop]]        \n",
    "        ax[0,1].errorbar(x,y, yerr = n_sd*error_mean_hybrid[pop],ecolor=ridgeplot_palette_2[pop])\n",
    "        ax[0,1].plot(libraries2[pop], means_dfe[pop], 'o', c=ridgeplot_palette_2[pop])\n",
    "#         ax[0,1].set_xticklabels([])\n",
    "        ax[0,1].set_ylabel('DFE Mean')\n",
    "\n",
    "    for k in [2,4,5,6,7,8,9,10,12,13]:\n",
    "        plot_volc = np.where((fitness_gene_corrected[:,0,0]>-0.2)&(fitness_gene_corrected[:,k,0]>-0.2)&((np.mean(fitness_gene_corrected[:,k,:],axis=1)>-0.2)|(np.mean(fitness_gene_corrected[:,0,:],axis=1)>-0.2)))[0]\n",
    "        diff = np.mean(fitness_gene_corrected[plot_volc,k,:],axis=1) - np.mean(fitness_gene_corrected[plot_volc,0,:],axis=1)\n",
    "        meas_error = np.sqrt(error_gene_hybrid[plot_volc,0]**2+error_gene_hybrid[plot_volc,k]**2)\n",
    "        pval_diff = stats.norm.sf(abs(diff/meas_error))\n",
    "        significant1 = np.where((pval_diff<0.05/len(diff))&(diff>0))[0]\n",
    "        significant2 = np.where((pval_diff<0.05/len(diff))&(diff<-0))[0]\n",
    "        print(len(significant1), len(significant2), libraries[k])\n",
    "        \n",
    "        ax[1,1].plot(diff, -np.log10(pval_diff),'k.', alpha=0.1)\n",
    "        ax[1,1].plot(diff[significant1], -np.log10(pval_diff[significant1]),'.',color=sns.mpl_palette('viridis',2)[0])\n",
    "        ax[1,1].plot(diff[significant2], -np.log10(pval_diff[significant2]),'.',color=sns.mpl_palette('viridis',2)[1])\n",
    "\n",
    "    # ax.set_yscale('symlog', linthresh=10**-8)\n",
    "    # ticks =  ax.get_yticks()\n",
    "    # ax.set_yticklabels([np.abs(tick) for tick in ticks])\n",
    "    \n",
    "    ax[1,1].set_ylabel('-log(p-value)')\n",
    "    ax[1,1].set_xlabel('$\\it{s}$(evolved) - $\\it{s}$(ancestor)')\n",
    "    ax[1,1].set_ylim(0,29)\n",
    "    \n",
    "    \n",
    "    mut_data = np.reshape(np.mean(fitness_gene_corrected[:,mutpops,:],axis=2), newshape=len(names)*5)\n",
    "    nonmut_data = np.reshape(np.mean(fitness_gene_corrected[:,nonmutpops,:], axis=2), newshape=len(names)*5)\n",
    "\n",
    "    ax[1,0].hist(nonmutator_pops, density=1, bins=bins,histtype='step', label='Nonmutators', color = sns.color_palette(\"Paired\")[5])\n",
    "\n",
    "    ax[1,0].hist(mutator_pops, density=1, bins=bins, histtype='bar', label='Mutators', color = sns.color_palette(\"Paired\")[9], alpha=0.5)\n",
    "    \n",
    "    ax[1,0].legend(loc=2,frameon=False)\n",
    "    ax[1,0].set_xlabel('Fitness effect')\n",
    "    ax[1,0].set_yscale('log')\n",
    "    ax[1,0].set_ylabel('Probability density')\n",
    "    ax[1,0].set_xlim((-0.8,0.2))\n",
    "    ax[1,0].set_yticks([10**-2, 10**-1, 1])\n",
    "    \n",
    "    \n",
    "    sns.despine(offset=0)\n",
    "    ax[0,1].tick_params(axis='x', which='both', labelrotation = 45)    \n",
    "\n",
    "    \n",
    "    fig.tight_layout()\n",
    "\n",
    "fig.savefig(figpath+'fig2_bcde.png',format='png',bbox_inches='tight', dpi=600)\n"
   ]
  },
  {
   "cell_type": "markdown",
   "id": "d06441c6",
   "metadata": {},
   "source": [
    "## Supplementary Figure 3: figure panel with just the variances of the DFE. "
   ]
  },
  {
   "cell_type": "code",
   "execution_count": 814,
   "id": "2c5138a4",
   "metadata": {},
   "outputs": [
    {
     "data": {
      "image/png": "[encoded data removed]",
      "text/plain": [
       "<Figure size 216x180 with 1 Axes>"
      ]
     },
     "metadata": {},
     "output_type": "display_data"
    }
   ],
   "source": [
    "with sns.axes_style(\"ticks\"):\n",
    "    bins=np.linspace(-0.8,0.2,50)\n",
    "    fig,ax = plt.subplots(1,1,figsize=(3,2.5))\n",
    "    \n",
    "    for pop in order:\n",
    "        x = [libraries2[pop]]\n",
    "        y = [var_dfe[pop]]        \n",
    "        ax.errorbar(x,y, yerr = n_sd*error_var_hybrid[pop],ecolor=ridgeplot_palette_2[pop])\n",
    "        ax.plot(libraries2[pop], var_dfe[pop], 'o', c=ridgeplot_palette_2[pop])\n",
    "        \n",
    "#     ax[1,1].tick_params(axis='x', labelrotation = 45)\n",
    "    sns.despine(offset=0)\n",
    "\n",
    "    ax.tick_params(axis='x', which='both', labelrotation = 45, labelsize=9)\n",
    "#     ax[0].set_xticklabels(xlabels, Fontsize= )\n",
    "\n",
    "    ax.set_ylabel('Variance(DFE)')\n",
    "\n",
    "#     fig.savefig(figpath+'dfe_variances.pdf', format='pdf', bbox_inches='tight')"
   ]
  },
  {
   "cell_type": "markdown",
   "id": "nonprofit-auditor",
   "metadata": {},
   "source": [
    "### Supplementary Figure 4: Comparison of mutator and nonmutator populations"
   ]
  },
  {
   "cell_type": "code",
   "execution_count": 122,
   "id": "sized-consolidation",
   "metadata": {},
   "outputs": [],
   "source": [
    "nonmutator_pops = dfe_data.loc[(dfe_data['Evolutionary History']=='Evolved')&(dfe_data['Mutator']=='non-mutator')&(dfe_data['Population']!='Ara+4'), 'Fitness effect']\n",
    "mutator_pops = dfe_data.loc[(dfe_data['Evolutionary History']=='Evolved')&(dfe_data['Mutator']=='mutator')&(dfe_data['Population']!='Ara-2'), 'Fitness effect']"
   ]
  },
  {
   "cell_type": "code",
   "execution_count": 633,
   "id": "explicit-alfred",
   "metadata": {},
   "outputs": [],
   "source": [
    "mutpops = [2,4,5,10,13]\n",
    "nonmutpops = [6,7,8,9,12]\n",
    "pal_mutator = [sns.color_palette(\"Paired\")[9], sns.color_palette(\"Paired\")[5]]"
   ]
  },
  {
   "cell_type": "code",
   "execution_count": 757,
   "id": "d495bc61",
   "metadata": {},
   "outputs": [
    {
     "data": {
      "image/png": "[encoded data removed]",
      "text/plain": [
       "<Figure size 360x180 with 2 Axes>"
      ]
     },
     "metadata": {},
     "output_type": "display_data"
    }
   ],
   "source": [
    "n_comps = 1\n",
    "p_val = 0.05/n_comps\n",
    "n_sd = stats.norm.ppf(p_val/2)\n",
    "with sns.axes_style(\"ticks\"):\n",
    "    bins=np.linspace(-0.8,0.2,50)\n",
    "    fig,ax = plt.subplots(1,2,figsize=(5,2.5))   \n",
    "\n",
    "    for pop in mutpops:\n",
    "        x = [libraries2[pop]]\n",
    "        y = [means_dfe[pop]]        \n",
    "        ax[0].errorbar(x,y, yerr = n_sd*error_mean_hybrid[pop],ecolor=pal_mutator[0])\n",
    "        ax[0].plot(libraries2[pop], means_dfe[pop], 'o', c=pal_mutator[0])\n",
    "#     ax[1].tick_params(axis='x', labelrotation = 45)\n",
    "    \n",
    "    for pop in nonmutpops:\n",
    "        x = [libraries2[pop]]\n",
    "        y = [means_dfe[pop]]        \n",
    "        ax[0].errorbar(x,y, yerr = n_sd*error_mean_hybrid[pop],ecolor=pal_mutator[1])\n",
    "        ax[0].plot(libraries2[pop], means_dfe[pop], 'o', c=pal_mutator[1])\n",
    "    \n",
    "#     ax[0].tick_params(axis='x', labelrotation = 45)\n",
    "    ax[0].tick_params(axis='x', labelrotation = 45)\n",
    "    ax[0].set_ylabel('Mean(DFE)')\n",
    "    \n",
    "    \n",
    "    for pop in mutpops:\n",
    "        x = [libraries2[pop]]\n",
    "        y = [var_dfe[pop]]        \n",
    "        ax[1].errorbar(x,y, yerr = n_sd*error_var_hybrid[pop],ecolor=pal_mutator[0])\n",
    "        ax[1].plot(libraries2[pop], var_dfe[pop], 'o', c=pal_mutator[0])\n",
    "\n",
    "    ax[1].tick_params(axis='x', labelrotation = 45)\n",
    "    \n",
    "    for pop in nonmutpops:\n",
    "        x = [libraries2[pop]]\n",
    "        y = [var_dfe[pop]]        \n",
    "        ax[1].errorbar(x,y, yerr = n_sd*error_var_hybrid[pop],ecolor=pal_mutator[1])\n",
    "        ax[1].plot(libraries2[pop], var_dfe[pop], 'o', c=pal_mutator[1])\n",
    "    ax[1].tick_params(axis='x', labelrotation = 45)\n",
    "    ax[1].tick_params(axis='y', labelrotation = 0)\n",
    "    ax[1].set_ylabel('Variance(DFE)')\n",
    "    \n",
    "    sns.despine()\n",
    "#     plt.subplots_adjust(hspace=0.6)\n",
    "fig.tight_layout()    \n",
    "# fig.savefig(figpath+'mutator_comparison.png', format='png', dpi=600, bbox_inches='tight')"
   ]
  },
  {
   "cell_type": "markdown",
   "id": "baecd956",
   "metadata": {},
   "source": [
    "Calculating p-values comparing means and variances of the different groups (anc vs evolved, mutator vs non-mutators)"
   ]
  },
  {
   "cell_type": "code",
   "execution_count": 852,
   "id": "90d3602d",
   "metadata": {},
   "outputs": [],
   "source": [
    "from scipy.stats import ttest_ind, mannwhitneyu, levene\n",
    "pops_compare=[2,4,5,6,7,8,9,10,12,13]"
   ]
  },
  {
   "cell_type": "code",
   "execution_count": 854,
   "id": "durable-integral",
   "metadata": {},
   "outputs": [
    {
     "name": "stdout",
     "output_type": "stream",
     "text": [
      "mutator vs nonmutator, means\n",
      "Ttest_indResult(statistic=-2.457412310189867, pvalue=0.048713620414552725)\n",
      "mutator vs nonmutator, variances\n",
      "Ttest_indResult(statistic=2.8076741097404563, pvalue=0.030545504314286587)\n"
     ]
    }
   ],
   "source": [
    "#comparing means of mutator and nonmutator populations, ttest\n",
    "print('mutator vs nonmutator, means')\n",
    "print(ttest_ind(means_dfe[mutpops], means_dfe[nonmutpops], equal_var=False))\n",
    "print('mutator vs nonmutator, variances')\n",
    "\n",
    "#comparing variances of the dfes of mutator and nonmutator populations, t-test\n",
    "print(ttest_ind(var_dfe[mutpops], var_dfe[nonmutpops], equal_var=False))"
   ]
  },
  {
   "cell_type": "code",
   "execution_count": 855,
   "id": "8d66bb16",
   "metadata": {},
   "outputs": [
    {
     "name": "stdout",
     "output_type": "stream",
     "text": [
      "anc vs evolved, means\n",
      "Ttest_indResult(statistic=0.9420039769220943, pvalue=0.37024282864174973)\n",
      "anc vs evolved, variances\n",
      "Ttest_indResult(statistic=-0.5963836864034037, pvalue=0.5682205005196477)\n"
     ]
    }
   ],
   "source": [
    "#comparing means of ancestor and evolved populations, t-test\n",
    "print('anc vs evolved, means')\n",
    "print(ttest_ind(means_dfe[:2], means_dfe[pops_compare], equal_var=False))\n",
    "\n",
    "#comparing variances of the dfes of mutator and nonmutator populations, t-test\n",
    "print('anc vs evolved, variances')\n",
    "print(ttest_ind(var_dfe[:2], var_dfe[pops_compare], equal_var=False))\n",
    "\n"
   ]
  },
  {
   "cell_type": "code",
   "execution_count": 856,
   "id": "charitable-switch",
   "metadata": {},
   "outputs": [
    {
     "name": "stdout",
     "output_type": "stream",
     "text": [
      "anc vs evolved mutators, variances\n",
      "Ttest_indResult(statistic=-1.9206144838093115, pvalue=0.11314509669863909)\n",
      "anc vs evolved nonmutators, variances\n",
      "Ttest_indResult(statistic=1.5299333144330023, pvalue=0.20478478634521732)\n"
     ]
    }
   ],
   "source": [
    "print('anc vs evolved mutators, variances')\n",
    "print(ttest_ind(var_dfe[:2], var_dfe[mutpops], equal_var=False))\n",
    "print('anc vs evolved nonmutators, variances')\n",
    "print(ttest_ind(var_dfe[:2], var_dfe[nonmutpops], equal_var=False))"
   ]
  },
  {
   "cell_type": "code",
   "execution_count": 857,
   "id": "blind-narrow",
   "metadata": {},
   "outputs": [
    {
     "name": "stdout",
     "output_type": "stream",
     "text": [
      "anc vs evolved mutators, means\n",
      "Ttest_indResult(statistic=2.0166578179236496, pvalue=0.10308631980007575)\n",
      "anc vs evolved nonmutators, means\n",
      "Ttest_indResult(statistic=-1.0343866197281368, pvalue=0.3506785369304392)\n"
     ]
    }
   ],
   "source": [
    "print('anc vs evolved mutators, means')\n",
    "print(ttest_ind(means_dfe[:2], means_dfe[mutpops], equal_var=False))\n",
    "print('anc vs evolved nonmutators, means')\n",
    "print(ttest_ind(means_dfe[:2], means_dfe[nonmutpops], equal_var=False))"
   ]
  },
  {
   "cell_type": "markdown",
   "id": "mental-objective",
   "metadata": {},
   "source": [
    "## Figure 3: Extensive and parallel differential essentiality changes"
   ]
  },
  {
   "cell_type": "markdown",
   "id": "plastic-terminal",
   "metadata": {},
   "source": [
    "#### Preliminary Estimation of differential essentiality in DM25:\n",
    "- $s_{gene}$ must be > -0.15 in strain 1, and $s_{gene|relaxed}$ in (-1,0.3) in strain 2: i.e. it should be highly deleterious/essential in strain 2, and fairly close to neutrality in strain 1\n",
    "- max($s_{gene|relaxed}$) across the two replicates must be less than -0.2: Because the relaxed estimates may have higher errors, the mean may be quite off if one replicate is calculated as highly deleterious."
   ]
  },
  {
   "cell_type": "code",
   "execution_count": 230,
   "id": "deadly-advancement",
   "metadata": {},
   "outputs": [],
   "source": [
    "diff_ess_DM25 = np.zeros([len(names), len(libraries)-1])"
   ]
  },
  {
   "cell_type": "code",
   "execution_count": 231,
   "id": "broke-sierra",
   "metadata": {},
   "outputs": [
    {
     "name": "stdout",
     "output_type": "stream",
     "text": [
      "REL607 0 0\n",
      "REL11330 4 16\n",
      "REL11333 99 0\n",
      "REL11364 6 18\n",
      "REL11336 6 7\n",
      "REL11339 1 10\n",
      "REL11389 38 6\n",
      "REL11392 4 5\n",
      "REL11342 7 10\n",
      "REL11345 2 19\n",
      "REL11348 6 87\n",
      "REL11367 6 7\n",
      "REL11370 4 17\n"
     ]
    }
   ],
   "source": [
    "noness_DM25 = -0.15\n",
    "for k in range(1,len(libraries)):\n",
    "    anc_num = 0\n",
    "    ess_ev = np.where((np.mean(fitness_gene_corrected[:,anc_num,:], axis=1)>noness_DM25)&(np.mean(fitness_gene_relaxed[:,k,:], axis=1)<-0.3)&(np.max(fitness_gene_relaxed[:,k,:], axis=1)<-0.2)&(np.mean(fitness_gene_relaxed[:,k,:], axis=1)>-1)&(exclude_genes[k,:]==0))[0]\n",
    "    ess_anc = np.where((np.mean(fitness_gene_corrected[:,k,:], axis=1)>noness_DM25)&(np.mean(fitness_gene_relaxed[:,0,:], axis=1)<-0.3)&(np.max(fitness_gene_relaxed[:,0,:], axis=1)<-0.2)&(np.mean(fitness_gene_relaxed[:,0,:], axis=1)>-1))[0]\n",
    "    diff_ess_DM25[ess_ev, k-1] = 2\n",
    "    diff_ess_DM25[ess_anc, k-1] = 1\n",
    "    print(libraries[k], len(ess_anc), len(ess_ev))\n",
    "#     print('based on fraction_t0', len(ess_anc2), len(ess_ev2))\n"
   ]
  },
  {
   "cell_type": "markdown",
   "id": "institutional-attitude",
   "metadata": {},
   "source": [
    "#### Preliminary estimation of differential essentiality in LB\n",
    "If a gene has fitness above -0.15 in strain 1, but -1 in strain 2 even with relaxed thresholds, there are two possible reasons:\n",
    "- gene is actually essential in LB in strain 2\n",
    "- gene may not be essential strain 2, but we don't have enough info because the gene is too small or data is missing due to randomness\n",
    "\n",
    "To distinguish these possibilities, I will do the following analysis:\n",
    "- n1 = number of sites in gene in strain 1 that are above threshold\n",
    "- n2 = number of sites in gene in strain 2 that are above threshold\n",
    "- compute poisson.cdf(n1|mean=n2): basically, what is the probability of seeing less than or equal to n1 sites if the expected mean is n2? This should ideally help with filtering out genes where differences may be due to stochasticity and the small size of the gene"
   ]
  },
  {
   "cell_type": "code",
   "execution_count": 232,
   "id": "encouraging-desire",
   "metadata": {},
   "outputs": [],
   "source": [
    "diff_ess_LB = np.zeros([len(names), len(libraries)-1])"
   ]
  },
  {
   "cell_type": "code",
   "execution_count": 233,
   "id": "basic-reverse",
   "metadata": {},
   "outputs": [],
   "source": [
    "fraction_t0 = np.loadtxt(datapath+'fraction_t0_site_thresh_5_ta_min_5.txt')"
   ]
  },
  {
   "cell_type": "code",
   "execution_count": 234,
   "id": "leading-mining",
   "metadata": {},
   "outputs": [
    {
     "name": "stdout",
     "output_type": "stream",
     "text": [
      "REL607\n",
      "0 essential in LB in evo\n",
      "0 essential in LB in anc\n",
      "\n",
      "\n",
      "REL11330\n",
      "5 essential in LB in anc\n",
      "\n",
      "\n",
      "REL11333\n",
      "9 essential in LB in evo\n",
      "11 essential in LB in anc\n",
      "\n",
      "\n",
      "REL11364\n",
      "3 essential in LB in evo\n",
      "0 essential in LB in anc\n",
      "\n",
      "\n",
      "REL11336\n",
      "15 essential in LB in evo\n",
      "6 essential in LB in anc\n",
      "\n",
      "\n",
      "REL11339\n",
      "6 essential in LB in evo\n",
      "5 essential in LB in anc\n",
      "\n",
      "\n",
      "REL11389\n",
      "9 essential in LB in evo\n",
      "29 essential in LB in anc\n",
      "\n",
      "\n",
      "REL11392\n",
      "8 essential in LB in evo\n",
      "2 essential in LB in anc\n",
      "\n",
      "\n",
      "REL11342\n",
      "10 essential in LB in evo\n",
      "9 essential in LB in anc\n",
      "\n",
      "\n",
      "REL11345\n",
      "3 essential in LB in evo\n",
      "2 essential in LB in anc\n",
      "\n",
      "\n",
      "REL11348\n",
      "17 essential in LB in evo\n",
      "5 essential in LB in anc\n",
      "\n",
      "\n",
      "REL11367\n",
      "13 essential in LB in evo\n",
      "2 essential in LB in anc\n",
      "\n",
      "\n",
      "REL11370\n",
      "12 essential in LB in evo\n",
      "6 essential in LB in anc\n",
      "\n",
      "\n"
     ]
    }
   ],
   "source": [
    "for k in range(1, len(libraries)):\n",
    "    #genes that are calculated in the ancestor, but not in the evolved clone, even with relaxed thresholds\n",
    "    ess_ev2 = np.where((np.mean(fitness_gene_corrected[:,anc_num,:], axis=1)>noness_DM25)&(np.abs(fraction_t0[:,k])<0.1)&(np.mean(fitness_gene_relaxed[:,k,:], axis=1)==-1)&(exclude_genes[k,:]==0))[0]\n",
    "    count_ev = 0\n",
    "    #genes that are calculated in the evolved clone, but not in the ancestor, even with relaxed thresholds\n",
    "    ess_anc2 = np.where((np.mean(fitness_gene_corrected[:,k,:], axis=1)>noness_DM25)&(np.abs(fraction_t0[:,0])<0.1)&(np.mean(fitness_gene_relaxed[:,0,:], axis=1)==-1))[0]\n",
    "    count_anc = 0\n",
    "    \n",
    "    #calculating the p-values assuming a poisson distribution of how many sites are above a threshold\n",
    "    pvals_ev = []\n",
    "    for gene in ess_ev2:\n",
    "        n_anc = fraction_t0[gene, anc_num]*ta_gene[gene]\n",
    "        n_evo = fraction_t0[gene, k]*ta_gene[gene]\n",
    "        pvals_ev.append(poisson.cdf(n_evo, n_anc))\n",
    "    \n",
    "    pvals_anc = []\n",
    "    for gene in ess_anc2:\n",
    "        n_anc = fraction_t0[gene, anc_num]*ta_gene[gene]\n",
    "        n_evo = fraction_t0[gene, k]*ta_gene[gene]\n",
    "        pvals_anc.append(poisson.cdf(n_anc, n_evo))\n",
    "        \n",
    "    #FDR correction: Benjamini Hochberg\n",
    "    print(libraries[k])\n",
    "    if pvals_ev!=[]:\n",
    "        rejected,corrected_pvals,sidak,bonf = multipletests(pvals_ev, alpha=0.05, method='fdr_bh', is_sorted=False, returnsorted=False)\n",
    "        print(np.sum(rejected==True), 'essential in LB in evo')\n",
    "#         print(ess_ev2[rejected==True])\n",
    "        diff_ess_LB[ess_ev2[rejected==True], k-1] = 2\n",
    "        \n",
    "    if pvals_anc!=[]:\n",
    "        rejected,corrected_pvals,sidak,bonf = multipletests(pvals_anc, alpha=0.05, method='fdr_bh', is_sorted=False, returnsorted=False)\n",
    "        print(np.sum(rejected==True),'essential in LB in anc')\n",
    "#         print(ess_anc2[rejected==True])\n",
    "        diff_ess_LB[ess_anc2[rejected==True], k-1] = 1\n",
    "    \n",
    "    print('\\n')"
   ]
  },
  {
   "cell_type": "code",
   "execution_count": 235,
   "id": "higher-transformation",
   "metadata": {},
   "outputs": [],
   "source": [
    "pops_include = [1,3,4,5,6,7,8,9,11,12]\n",
    "libraries4 = ['ANC', 'ANC', 'Ara–1', 'Ara–3', 'Ara–4', 'Ara–5', 'Ara–6', 'Ara+1', 'Ara+2', 'Ara+3', 'Ara+5', 'Ara+6']\n",
    "diff_ess_combined = diff_ess_DM25[:,pops_include] +diff_ess_LB[:,pops_include]"
   ]
  },
  {
   "cell_type": "code",
   "execution_count": 236,
   "id": "hidden-accused",
   "metadata": {},
   "outputs": [
    {
     "name": "stdout",
     "output_type": "stream",
     "text": [
      "Ara–1 (array([0., 1., 2.]), array([3992,    9,   16]))\n",
      "Ara–3 (array([0., 1., 2.]), array([3990,    6,   21]))\n",
      "Ara–4 (array([0., 1., 2.]), array([3983,   12,   22]))\n",
      "Ara–5 (array([0., 1., 2.]), array([3995,    6,   16]))\n",
      "Ara–6 (array([0., 1., 2.]), array([3935,   67,   15]))\n",
      "Ara+1 (array([0., 1., 2.]), array([3998,    6,   13]))\n",
      "Ara+2 (array([0., 1., 2.]), array([3981,   16,   20]))\n",
      "Ara+3 (array([0., 1., 2.]), array([3991,    4,   22]))\n",
      "Ara+5 (array([0., 1., 2.]), array([3989,    8,   20]))\n",
      "Ara+6 (array([0., 1., 2.]), array([3978,   10,   29]))\n"
     ]
    }
   ],
   "source": [
    "for k in range(0,len(pops_include)):\n",
    "    print(libraries4[k+2], np.unique(diff_ess_combined[:,k], return_counts=1))"
   ]
  },
  {
   "cell_type": "markdown",
   "id": "neural-rebecca",
   "metadata": {},
   "source": [
    "Some sanity checks:\n",
    "- make sure that the same gene is not classified as differentially essential in opposite directions or multiple times in the two environments"
   ]
  },
  {
   "cell_type": "code",
   "execution_count": 237,
   "id": "abstract-elevation",
   "metadata": {
    "collapsed": true
   },
   "outputs": [
    {
     "name": "stdout",
     "output_type": "stream",
     "text": [
      "REL607\n",
      "0\n",
      "0\n",
      "0\n",
      "0\n",
      "REL11330\n",
      "0\n",
      "0\n",
      "0\n",
      "0\n",
      "REL11333\n",
      "0\n",
      "0\n",
      "0\n",
      "0\n",
      "REL11364\n",
      "0\n",
      "0\n",
      "0\n",
      "0\n",
      "REL11336\n",
      "0\n",
      "0\n",
      "0\n",
      "0\n",
      "REL11339\n",
      "0\n",
      "0\n",
      "0\n",
      "0\n",
      "REL11389\n",
      "0\n",
      "0\n",
      "0\n",
      "0\n",
      "REL11392\n",
      "0\n",
      "0\n",
      "0\n",
      "0\n",
      "REL11342\n",
      "0\n",
      "0\n",
      "0\n",
      "0\n",
      "REL11345\n",
      "0\n",
      "0\n",
      "0\n",
      "0\n",
      "REL11348\n",
      "0\n",
      "0\n",
      "0\n",
      "0\n",
      "REL11367\n",
      "0\n",
      "0\n",
      "0\n",
      "0\n",
      "REL11370\n",
      "0\n",
      "0\n",
      "0\n",
      "0\n"
     ]
    }
   ],
   "source": [
    "for k in range(1,len(libraries)):\n",
    "    print(libraries[k])\n",
    "    print(np.sum((diff_ess_LB[:,k-1]==1)&(diff_ess_DM25[:,k-1]==1)))\n",
    "    print(np.sum((diff_ess_LB[:,k-1]==2)&(diff_ess_DM25[:,k-1]==1)))\n",
    "    print(np.sum((diff_ess_LB[:,k-1]==1)&(diff_ess_DM25[:,k-1]==2)))\n",
    "    print(np.sum((diff_ess_LB[:,k-1]==2)&(diff_ess_DM25[:,k-1]==2)))\n"
   ]
  },
  {
   "cell_type": "markdown",
   "id": "strange-algorithm",
   "metadata": {},
   "source": [
    "Sanity check looks fine"
   ]
  },
  {
   "cell_type": "code",
   "execution_count": 238,
   "id": "defined-frederick",
   "metadata": {},
   "outputs": [
    {
     "name": "stderr",
     "output_type": "stream",
     "text": [
      "/var/folders/f8/92wybs9d7wqfthlqj1drht_c0000gn/T/ipykernel_20621/1952534757.py:16: FutureWarning: The frame.append method is deprecated and will be removed from pandas in a future version. Use pandas.concat instead.\n",
      "  diff_data_total = diff_data_total.append(redundant, ignore_index=True)\n",
      "/var/folders/f8/92wybs9d7wqfthlqj1drht_c0000gn/T/ipykernel_20621/1952534757.py:17: FutureWarning: The frame.append method is deprecated and will be removed from pandas in a future version. Use pandas.concat instead.\n",
      "  diff_data_total = diff_data_total.append(essential, ignore_index=True)\n"
     ]
    }
   ],
   "source": [
    "diff_data_total = diff_data = pd.DataFrame()\n",
    "redundant = pd.DataFrame()\n",
    "essential = pd.DataFrame()\n",
    "\n",
    "redundant1 = np.sum(diff_ess_combined==1, axis=0)\n",
    "essential1 = np.sum(diff_ess_combined==2, axis=0)\n",
    "    \n",
    "redundant[\"Number of changes\"] = redundant1\n",
    "redundant[\"Change in Essentiality\"] = \"Becomes nonessential over evolution\"\n",
    "redundant[\"Evolved Population\"] = libraries4[2:]\n",
    "\n",
    "essential[\"Number of changes\"] = essential1\n",
    "essential[\"Change in Essentiality\"] = \"Becomes essential over evolution\"\n",
    "essential[\"Evolved Population\"] = libraries4[2:]\n",
    "\n",
    "diff_data_total = diff_data_total.append(redundant, ignore_index=True)\n",
    "diff_data_total = diff_data_total.append(essential, ignore_index=True)"
   ]
  },
  {
   "cell_type": "code",
   "execution_count": 243,
   "id": "atomic-mexico",
   "metadata": {},
   "outputs": [
    {
     "data": {
      "text/html": [
       "<div>\n",
       "<style scoped>\n",
       "    .dataframe tbody tr th:only-of-type {\n",
       "        vertical-align: middle;\n",
       "    }\n",
       "\n",
       "    .dataframe tbody tr th {\n",
       "        vertical-align: top;\n",
       "    }\n",
       "\n",
       "    .dataframe thead th {\n",
       "        text-align: right;\n",
       "    }\n",
       "</style>\n",
       "<table border=\"1\" class=\"dataframe\">\n",
       "  <thead>\n",
       "    <tr style=\"text-align: right;\">\n",
       "      <th></th>\n",
       "      <th>Number of changes</th>\n",
       "      <th>Change in Essentiality</th>\n",
       "      <th>Evolved Population</th>\n",
       "    </tr>\n",
       "  </thead>\n",
       "  <tbody>\n",
       "    <tr>\n",
       "      <th>0</th>\n",
       "      <td>9</td>\n",
       "      <td>Becomes nonessential over evolution</td>\n",
       "      <td>Ara–1</td>\n",
       "    </tr>\n",
       "    <tr>\n",
       "      <th>1</th>\n",
       "      <td>6</td>\n",
       "      <td>Becomes nonessential over evolution</td>\n",
       "      <td>Ara–3</td>\n",
       "    </tr>\n",
       "    <tr>\n",
       "      <th>2</th>\n",
       "      <td>12</td>\n",
       "      <td>Becomes nonessential over evolution</td>\n",
       "      <td>Ara–4</td>\n",
       "    </tr>\n",
       "    <tr>\n",
       "      <th>3</th>\n",
       "      <td>6</td>\n",
       "      <td>Becomes nonessential over evolution</td>\n",
       "      <td>Ara–5</td>\n",
       "    </tr>\n",
       "    <tr>\n",
       "      <th>4</th>\n",
       "      <td>67</td>\n",
       "      <td>Becomes nonessential over evolution</td>\n",
       "      <td>Ara–6</td>\n",
       "    </tr>\n",
       "    <tr>\n",
       "      <th>5</th>\n",
       "      <td>6</td>\n",
       "      <td>Becomes nonessential over evolution</td>\n",
       "      <td>Ara+1</td>\n",
       "    </tr>\n",
       "    <tr>\n",
       "      <th>6</th>\n",
       "      <td>16</td>\n",
       "      <td>Becomes nonessential over evolution</td>\n",
       "      <td>Ara+2</td>\n",
       "    </tr>\n",
       "    <tr>\n",
       "      <th>7</th>\n",
       "      <td>4</td>\n",
       "      <td>Becomes nonessential over evolution</td>\n",
       "      <td>Ara+3</td>\n",
       "    </tr>\n",
       "    <tr>\n",
       "      <th>8</th>\n",
       "      <td>8</td>\n",
       "      <td>Becomes nonessential over evolution</td>\n",
       "      <td>Ara+5</td>\n",
       "    </tr>\n",
       "    <tr>\n",
       "      <th>9</th>\n",
       "      <td>10</td>\n",
       "      <td>Becomes nonessential over evolution</td>\n",
       "      <td>Ara+6</td>\n",
       "    </tr>\n",
       "    <tr>\n",
       "      <th>10</th>\n",
       "      <td>16</td>\n",
       "      <td>Becomes essential over evolution</td>\n",
       "      <td>Ara–1</td>\n",
       "    </tr>\n",
       "    <tr>\n",
       "      <th>11</th>\n",
       "      <td>21</td>\n",
       "      <td>Becomes essential over evolution</td>\n",
       "      <td>Ara–3</td>\n",
       "    </tr>\n",
       "    <tr>\n",
       "      <th>12</th>\n",
       "      <td>22</td>\n",
       "      <td>Becomes essential over evolution</td>\n",
       "      <td>Ara–4</td>\n",
       "    </tr>\n",
       "    <tr>\n",
       "      <th>13</th>\n",
       "      <td>16</td>\n",
       "      <td>Becomes essential over evolution</td>\n",
       "      <td>Ara–5</td>\n",
       "    </tr>\n",
       "    <tr>\n",
       "      <th>14</th>\n",
       "      <td>15</td>\n",
       "      <td>Becomes essential over evolution</td>\n",
       "      <td>Ara–6</td>\n",
       "    </tr>\n",
       "    <tr>\n",
       "      <th>15</th>\n",
       "      <td>13</td>\n",
       "      <td>Becomes essential over evolution</td>\n",
       "      <td>Ara+1</td>\n",
       "    </tr>\n",
       "    <tr>\n",
       "      <th>16</th>\n",
       "      <td>20</td>\n",
       "      <td>Becomes essential over evolution</td>\n",
       "      <td>Ara+2</td>\n",
       "    </tr>\n",
       "    <tr>\n",
       "      <th>17</th>\n",
       "      <td>22</td>\n",
       "      <td>Becomes essential over evolution</td>\n",
       "      <td>Ara+3</td>\n",
       "    </tr>\n",
       "    <tr>\n",
       "      <th>18</th>\n",
       "      <td>20</td>\n",
       "      <td>Becomes essential over evolution</td>\n",
       "      <td>Ara+5</td>\n",
       "    </tr>\n",
       "    <tr>\n",
       "      <th>19</th>\n",
       "      <td>29</td>\n",
       "      <td>Becomes essential over evolution</td>\n",
       "      <td>Ara+6</td>\n",
       "    </tr>\n",
       "  </tbody>\n",
       "</table>\n",
       "</div>"
      ],
      "text/plain": [
       "    Number of changes               Change in Essentiality Evolved Population\n",
       "0                   9  Becomes nonessential over evolution              Ara–1\n",
       "1                   6  Becomes nonessential over evolution              Ara–3\n",
       "2                  12  Becomes nonessential over evolution              Ara–4\n",
       "3                   6  Becomes nonessential over evolution              Ara–5\n",
       "4                  67  Becomes nonessential over evolution              Ara–6\n",
       "5                   6  Becomes nonessential over evolution              Ara+1\n",
       "6                  16  Becomes nonessential over evolution              Ara+2\n",
       "7                   4  Becomes nonessential over evolution              Ara+3\n",
       "8                   8  Becomes nonessential over evolution              Ara+5\n",
       "9                  10  Becomes nonessential over evolution              Ara+6\n",
       "10                 16     Becomes essential over evolution              Ara–1\n",
       "11                 21     Becomes essential over evolution              Ara–3\n",
       "12                 22     Becomes essential over evolution              Ara–4\n",
       "13                 16     Becomes essential over evolution              Ara–5\n",
       "14                 15     Becomes essential over evolution              Ara–6\n",
       "15                 13     Becomes essential over evolution              Ara+1\n",
       "16                 20     Becomes essential over evolution              Ara+2\n",
       "17                 22     Becomes essential over evolution              Ara+3\n",
       "18                 20     Becomes essential over evolution              Ara+5\n",
       "19                 29     Becomes essential over evolution              Ara+6"
      ]
     },
     "execution_count": 243,
     "metadata": {},
     "output_type": "execute_result"
    }
   ],
   "source": [
    "diff_data_total"
   ]
  },
  {
   "cell_type": "code",
   "execution_count": 73,
   "id": "through-dealer",
   "metadata": {
    "scrolled": true
   },
   "outputs": [
    {
     "data": {
      "text/html": [
       "<div>\n",
       "<style scoped>\n",
       "    .dataframe tbody tr th:only-of-type {\n",
       "        vertical-align: middle;\n",
       "    }\n",
       "\n",
       "    .dataframe tbody tr th {\n",
       "        vertical-align: top;\n",
       "    }\n",
       "\n",
       "    .dataframe thead th {\n",
       "        text-align: right;\n",
       "    }\n",
       "</style>\n",
       "<table border=\"1\" class=\"dataframe\">\n",
       "  <thead>\n",
       "    <tr style=\"text-align: right;\">\n",
       "      <th></th>\n",
       "      <th>Number of genes changing</th>\n",
       "      <th>Change in Essentiality</th>\n",
       "      <th>Evolved Population</th>\n",
       "    </tr>\n",
       "  </thead>\n",
       "  <tbody>\n",
       "    <tr>\n",
       "      <th>0</th>\n",
       "      <td>9</td>\n",
       "      <td>Becomes nonessential over evolution</td>\n",
       "      <td>Ara-1</td>\n",
       "    </tr>\n",
       "    <tr>\n",
       "      <th>1</th>\n",
       "      <td>6</td>\n",
       "      <td>Becomes nonessential over evolution</td>\n",
       "      <td>Ara-3</td>\n",
       "    </tr>\n",
       "    <tr>\n",
       "      <th>2</th>\n",
       "      <td>12</td>\n",
       "      <td>Becomes nonessential over evolution</td>\n",
       "      <td>Ara-4</td>\n",
       "    </tr>\n",
       "    <tr>\n",
       "      <th>3</th>\n",
       "      <td>6</td>\n",
       "      <td>Becomes nonessential over evolution</td>\n",
       "      <td>Ara-5</td>\n",
       "    </tr>\n",
       "    <tr>\n",
       "      <th>4</th>\n",
       "      <td>67</td>\n",
       "      <td>Becomes nonessential over evolution</td>\n",
       "      <td>Ara-6</td>\n",
       "    </tr>\n",
       "    <tr>\n",
       "      <th>5</th>\n",
       "      <td>6</td>\n",
       "      <td>Becomes nonessential over evolution</td>\n",
       "      <td>Ara+1</td>\n",
       "    </tr>\n",
       "    <tr>\n",
       "      <th>6</th>\n",
       "      <td>16</td>\n",
       "      <td>Becomes nonessential over evolution</td>\n",
       "      <td>Ara+2</td>\n",
       "    </tr>\n",
       "    <tr>\n",
       "      <th>7</th>\n",
       "      <td>4</td>\n",
       "      <td>Becomes nonessential over evolution</td>\n",
       "      <td>Ara+3</td>\n",
       "    </tr>\n",
       "    <tr>\n",
       "      <th>8</th>\n",
       "      <td>8</td>\n",
       "      <td>Becomes nonessential over evolution</td>\n",
       "      <td>Ara+5</td>\n",
       "    </tr>\n",
       "    <tr>\n",
       "      <th>9</th>\n",
       "      <td>10</td>\n",
       "      <td>Becomes nonessential over evolution</td>\n",
       "      <td>Ara+6</td>\n",
       "    </tr>\n",
       "    <tr>\n",
       "      <th>10</th>\n",
       "      <td>16</td>\n",
       "      <td>Becomes essential over evolution</td>\n",
       "      <td>Ara-1</td>\n",
       "    </tr>\n",
       "    <tr>\n",
       "      <th>11</th>\n",
       "      <td>21</td>\n",
       "      <td>Becomes essential over evolution</td>\n",
       "      <td>Ara-3</td>\n",
       "    </tr>\n",
       "    <tr>\n",
       "      <th>12</th>\n",
       "      <td>22</td>\n",
       "      <td>Becomes essential over evolution</td>\n",
       "      <td>Ara-4</td>\n",
       "    </tr>\n",
       "    <tr>\n",
       "      <th>13</th>\n",
       "      <td>16</td>\n",
       "      <td>Becomes essential over evolution</td>\n",
       "      <td>Ara-5</td>\n",
       "    </tr>\n",
       "    <tr>\n",
       "      <th>14</th>\n",
       "      <td>15</td>\n",
       "      <td>Becomes essential over evolution</td>\n",
       "      <td>Ara-6</td>\n",
       "    </tr>\n",
       "    <tr>\n",
       "      <th>15</th>\n",
       "      <td>13</td>\n",
       "      <td>Becomes essential over evolution</td>\n",
       "      <td>Ara+1</td>\n",
       "    </tr>\n",
       "    <tr>\n",
       "      <th>16</th>\n",
       "      <td>20</td>\n",
       "      <td>Becomes essential over evolution</td>\n",
       "      <td>Ara+2</td>\n",
       "    </tr>\n",
       "    <tr>\n",
       "      <th>17</th>\n",
       "      <td>22</td>\n",
       "      <td>Becomes essential over evolution</td>\n",
       "      <td>Ara+3</td>\n",
       "    </tr>\n",
       "    <tr>\n",
       "      <th>18</th>\n",
       "      <td>20</td>\n",
       "      <td>Becomes essential over evolution</td>\n",
       "      <td>Ara+5</td>\n",
       "    </tr>\n",
       "    <tr>\n",
       "      <th>19</th>\n",
       "      <td>29</td>\n",
       "      <td>Becomes essential over evolution</td>\n",
       "      <td>Ara+6</td>\n",
       "    </tr>\n",
       "  </tbody>\n",
       "</table>\n",
       "</div>"
      ],
      "text/plain": [
       "    Number of genes changing               Change in Essentiality  \\\n",
       "0                          9  Becomes nonessential over evolution   \n",
       "1                          6  Becomes nonessential over evolution   \n",
       "2                         12  Becomes nonessential over evolution   \n",
       "3                          6  Becomes nonessential over evolution   \n",
       "4                         67  Becomes nonessential over evolution   \n",
       "5                          6  Becomes nonessential over evolution   \n",
       "6                         16  Becomes nonessential over evolution   \n",
       "7                          4  Becomes nonessential over evolution   \n",
       "8                          8  Becomes nonessential over evolution   \n",
       "9                         10  Becomes nonessential over evolution   \n",
       "10                        16     Becomes essential over evolution   \n",
       "11                        21     Becomes essential over evolution   \n",
       "12                        22     Becomes essential over evolution   \n",
       "13                        16     Becomes essential over evolution   \n",
       "14                        15     Becomes essential over evolution   \n",
       "15                        13     Becomes essential over evolution   \n",
       "16                        20     Becomes essential over evolution   \n",
       "17                        22     Becomes essential over evolution   \n",
       "18                        20     Becomes essential over evolution   \n",
       "19                        29     Becomes essential over evolution   \n",
       "\n",
       "   Evolved Population  \n",
       "0               Ara-1  \n",
       "1               Ara-3  \n",
       "2               Ara-4  \n",
       "3               Ara-5  \n",
       "4               Ara-6  \n",
       "5               Ara+1  \n",
       "6               Ara+2  \n",
       "7               Ara+3  \n",
       "8               Ara+5  \n",
       "9               Ara+6  \n",
       "10              Ara-1  \n",
       "11              Ara-3  \n",
       "12              Ara-4  \n",
       "13              Ara-5  \n",
       "14              Ara-6  \n",
       "15              Ara+1  \n",
       "16              Ara+2  \n",
       "17              Ara+3  \n",
       "18              Ara+5  \n",
       "19              Ara+6  "
      ]
     },
     "execution_count": 73,
     "metadata": {},
     "output_type": "execute_result"
    }
   ],
   "source": [
    "diff_data_total"
   ]
  },
  {
   "cell_type": "markdown",
   "id": "intimate-visit",
   "metadata": {},
   "source": [
    "### Figure 3a) Number of differentially essential genes"
   ]
  },
  {
   "cell_type": "code",
   "execution_count": 240,
   "id": "compound-pharmacology",
   "metadata": {},
   "outputs": [
    {
     "data": {
      "image/png": "[encoded data removed]",
      "text/plain": [
       "<Figure size 306x108 with 1 Axes>"
      ]
     },
     "metadata": {},
     "output_type": "display_data"
    }
   ],
   "source": [
    "f, ax = plt.subplots(figsize=(4.25,1.5))\n",
    "with sns.axes_style('ticks'):\n",
    "    sns.barplot(x=\"Evolved Population\", y=\"Number of changes\", data=diff_data_total, hue='Change in Essentiality', palette=sns.mpl_palette('viridis',2))\n",
    "    # sns.barplot(x=\"Evolved Population\", y=\"Number of Genes changing\", data=diff_data_dm, hue='Change in Essentiality', palette=cm.Paired([3,1]), color=\"r\")\n",
    "    ax.legend_.remove()\n",
    "    \n",
    "\n",
    "    # add legend\n",
    "    top_bar_1 = mpatches.Patch(color=sns.mpl_palette('viridis',2)[0], label='Essential -> Nonessential')\n",
    "    # bottom_bar_1 = mpatches.Patch(color=cm.Paired(3), label='Essential in DM25 to \\nNonessential in DM25')\n",
    "    top_bar_2 = mpatches.Patch(color=sns.mpl_palette('viridis',2)[1], label='Nonessential -> Essential')\n",
    "    top_bar_3 = mpatches.Patch(color=sns.color_palette('pastel')[7], label='Expectation due to chance')\n",
    "    # bottom_bar_2 = mpatches.Patch(color=cm.Paired(1), label='Nonessential in DM25 to \\nEssential in DM25')\n",
    "    ax.tick_params(labelsize=8)\n",
    "    sns.despine(offset=0)\n",
    "#     plt.savefig(figpath+'differential_essentiality.pdf', format='pdf', bbox_inches='tight')"
   ]
  },
  {
   "cell_type": "code",
   "execution_count": 858,
   "id": "national-turtle",
   "metadata": {},
   "outputs": [
    {
     "name": "stdout",
     "output_type": "stream",
     "text": [
      "number of essential-> nonessential changes vs nonessential -> essential changes\n"
     ]
    },
    {
     "data": {
      "text/plain": [
       "MannwhitneyuResult(statistic=87.0, pvalue=0.005612995828391462)"
      ]
     },
     "execution_count": 858,
     "metadata": {},
     "output_type": "execute_result"
    }
   ],
   "source": [
    "print('number of essential-> nonessential changes vs nonessential -> essential changes')\n",
    "mannwhitneyu(np.sum(diff_ess_combined==2,axis=0), np.sum(diff_ess_combined==1,axis=0))"
   ]
  },
  {
   "cell_type": "markdown",
   "id": "satellite-sigma",
   "metadata": {},
   "source": [
    "## Supplementary Figure 8: Changes in differential essentiality partitioned by environment"
   ]
  },
  {
   "cell_type": "code",
   "execution_count": 768,
   "id": "bronze-lying",
   "metadata": {},
   "outputs": [
    {
     "name": "stderr",
     "output_type": "stream",
     "text": [
      "/var/folders/f8/92wybs9d7wqfthlqj1drht_c0000gn/T/ipykernel_20621/3171374192.py:22: FutureWarning: The frame.append method is deprecated and will be removed from pandas in a future version. Use pandas.concat instead.\n",
      "  diff_data_dm = diff_data_dm.append(redundant_dm, ignore_index=True)\n",
      "/var/folders/f8/92wybs9d7wqfthlqj1drht_c0000gn/T/ipykernel_20621/3171374192.py:23: FutureWarning: The frame.append method is deprecated and will be removed from pandas in a future version. Use pandas.concat instead.\n",
      "  diff_data_dm = diff_data_dm.append(essential_dm, ignore_index=True)\n"
     ]
    }
   ],
   "source": [
    "diff_data_dm = pd.DataFrame()\n",
    "\n",
    "redundant_dm = pd.DataFrame()\n",
    "essential_dm = pd.DataFrame()\n",
    "\n",
    "redundant1 = []\n",
    "essential1 = []\n",
    "\n",
    "for k in range(2,len(libraries)):\n",
    "    if k not in [3,11]:\n",
    "        redundant1.append(np.sum(diff_ess_DM25[:,k-1]==1))\n",
    "        essential1.append(np.sum(diff_ess_DM25[:,k-1]==2))\n",
    "    \n",
    "redundant_dm[\"Number of changes\"] = redundant1\n",
    "redundant_dm[\"Change in Essentiality\"] = \"Becomes nonessential over evolution\"\n",
    "redundant_dm[\"Evolved Population\"] = libraries4[2:]\n",
    "\n",
    "essential_dm[\"Number of changes\"] = essential1\n",
    "essential_dm[\"Change in Essentiality\"] = \"Becomes essential over evolution\"\n",
    "essential_dm[\"Evolved Population\"] = libraries4[2:]\n",
    "\n",
    "diff_data_dm = diff_data_dm.append(redundant_dm, ignore_index=True)\n",
    "diff_data_dm = diff_data_dm.append(essential_dm, ignore_index=True)"
   ]
  },
  {
   "cell_type": "code",
   "execution_count": 769,
   "id": "spare-shift",
   "metadata": {},
   "outputs": [
    {
     "data": {
      "text/html": [
       "<div>\n",
       "<style scoped>\n",
       "    .dataframe tbody tr th:only-of-type {\n",
       "        vertical-align: middle;\n",
       "    }\n",
       "\n",
       "    .dataframe tbody tr th {\n",
       "        vertical-align: top;\n",
       "    }\n",
       "\n",
       "    .dataframe thead th {\n",
       "        text-align: right;\n",
       "    }\n",
       "</style>\n",
       "<table border=\"1\" class=\"dataframe\">\n",
       "  <thead>\n",
       "    <tr style=\"text-align: right;\">\n",
       "      <th></th>\n",
       "      <th>Number of changes</th>\n",
       "      <th>Change in Essentiality</th>\n",
       "      <th>Evolved Population</th>\n",
       "    </tr>\n",
       "  </thead>\n",
       "  <tbody>\n",
       "    <tr>\n",
       "      <th>0</th>\n",
       "      <td>4</td>\n",
       "      <td>Becomes nonessential over evolution</td>\n",
       "      <td>Ara–1</td>\n",
       "    </tr>\n",
       "    <tr>\n",
       "      <th>1</th>\n",
       "      <td>6</td>\n",
       "      <td>Becomes nonessential over evolution</td>\n",
       "      <td>Ara–3</td>\n",
       "    </tr>\n",
       "    <tr>\n",
       "      <th>2</th>\n",
       "      <td>6</td>\n",
       "      <td>Becomes nonessential over evolution</td>\n",
       "      <td>Ara–4</td>\n",
       "    </tr>\n",
       "    <tr>\n",
       "      <th>3</th>\n",
       "      <td>1</td>\n",
       "      <td>Becomes nonessential over evolution</td>\n",
       "      <td>Ara–5</td>\n",
       "    </tr>\n",
       "    <tr>\n",
       "      <th>4</th>\n",
       "      <td>38</td>\n",
       "      <td>Becomes nonessential over evolution</td>\n",
       "      <td>Ara–6</td>\n",
       "    </tr>\n",
       "    <tr>\n",
       "      <th>5</th>\n",
       "      <td>4</td>\n",
       "      <td>Becomes nonessential over evolution</td>\n",
       "      <td>Ara+1</td>\n",
       "    </tr>\n",
       "    <tr>\n",
       "      <th>6</th>\n",
       "      <td>7</td>\n",
       "      <td>Becomes nonessential over evolution</td>\n",
       "      <td>Ara+2</td>\n",
       "    </tr>\n",
       "    <tr>\n",
       "      <th>7</th>\n",
       "      <td>2</td>\n",
       "      <td>Becomes nonessential over evolution</td>\n",
       "      <td>Ara+3</td>\n",
       "    </tr>\n",
       "    <tr>\n",
       "      <th>8</th>\n",
       "      <td>6</td>\n",
       "      <td>Becomes nonessential over evolution</td>\n",
       "      <td>Ara+5</td>\n",
       "    </tr>\n",
       "    <tr>\n",
       "      <th>9</th>\n",
       "      <td>4</td>\n",
       "      <td>Becomes nonessential over evolution</td>\n",
       "      <td>Ara+6</td>\n",
       "    </tr>\n",
       "    <tr>\n",
       "      <th>10</th>\n",
       "      <td>16</td>\n",
       "      <td>Becomes essential over evolution</td>\n",
       "      <td>Ara–1</td>\n",
       "    </tr>\n",
       "    <tr>\n",
       "      <th>11</th>\n",
       "      <td>18</td>\n",
       "      <td>Becomes essential over evolution</td>\n",
       "      <td>Ara–3</td>\n",
       "    </tr>\n",
       "    <tr>\n",
       "      <th>12</th>\n",
       "      <td>7</td>\n",
       "      <td>Becomes essential over evolution</td>\n",
       "      <td>Ara–4</td>\n",
       "    </tr>\n",
       "    <tr>\n",
       "      <th>13</th>\n",
       "      <td>10</td>\n",
       "      <td>Becomes essential over evolution</td>\n",
       "      <td>Ara–5</td>\n",
       "    </tr>\n",
       "    <tr>\n",
       "      <th>14</th>\n",
       "      <td>6</td>\n",
       "      <td>Becomes essential over evolution</td>\n",
       "      <td>Ara–6</td>\n",
       "    </tr>\n",
       "    <tr>\n",
       "      <th>15</th>\n",
       "      <td>5</td>\n",
       "      <td>Becomes essential over evolution</td>\n",
       "      <td>Ara+1</td>\n",
       "    </tr>\n",
       "    <tr>\n",
       "      <th>16</th>\n",
       "      <td>10</td>\n",
       "      <td>Becomes essential over evolution</td>\n",
       "      <td>Ara+2</td>\n",
       "    </tr>\n",
       "    <tr>\n",
       "      <th>17</th>\n",
       "      <td>19</td>\n",
       "      <td>Becomes essential over evolution</td>\n",
       "      <td>Ara+3</td>\n",
       "    </tr>\n",
       "    <tr>\n",
       "      <th>18</th>\n",
       "      <td>7</td>\n",
       "      <td>Becomes essential over evolution</td>\n",
       "      <td>Ara+5</td>\n",
       "    </tr>\n",
       "    <tr>\n",
       "      <th>19</th>\n",
       "      <td>17</td>\n",
       "      <td>Becomes essential over evolution</td>\n",
       "      <td>Ara+6</td>\n",
       "    </tr>\n",
       "  </tbody>\n",
       "</table>\n",
       "</div>"
      ],
      "text/plain": [
       "    Number of changes               Change in Essentiality Evolved Population\n",
       "0                   4  Becomes nonessential over evolution              Ara–1\n",
       "1                   6  Becomes nonessential over evolution              Ara–3\n",
       "2                   6  Becomes nonessential over evolution              Ara–4\n",
       "3                   1  Becomes nonessential over evolution              Ara–5\n",
       "4                  38  Becomes nonessential over evolution              Ara–6\n",
       "5                   4  Becomes nonessential over evolution              Ara+1\n",
       "6                   7  Becomes nonessential over evolution              Ara+2\n",
       "7                   2  Becomes nonessential over evolution              Ara+3\n",
       "8                   6  Becomes nonessential over evolution              Ara+5\n",
       "9                   4  Becomes nonessential over evolution              Ara+6\n",
       "10                 16     Becomes essential over evolution              Ara–1\n",
       "11                 18     Becomes essential over evolution              Ara–3\n",
       "12                  7     Becomes essential over evolution              Ara–4\n",
       "13                 10     Becomes essential over evolution              Ara–5\n",
       "14                  6     Becomes essential over evolution              Ara–6\n",
       "15                  5     Becomes essential over evolution              Ara+1\n",
       "16                 10     Becomes essential over evolution              Ara+2\n",
       "17                 19     Becomes essential over evolution              Ara+3\n",
       "18                  7     Becomes essential over evolution              Ara+5\n",
       "19                 17     Becomes essential over evolution              Ara+6"
      ]
     },
     "execution_count": 769,
     "metadata": {},
     "output_type": "execute_result"
    }
   ],
   "source": [
    "diff_data_dm"
   ]
  },
  {
   "cell_type": "code",
   "execution_count": 771,
   "id": "third-growth",
   "metadata": {},
   "outputs": [
    {
     "data": {
      "image/png": "[encoded data removed]",
      "text/plain": [
       "<Figure size 432x216 with 1 Axes>"
      ]
     },
     "metadata": {},
     "output_type": "display_data"
    }
   ],
   "source": [
    "with sns.axes_style('ticks'):    \n",
    "    f, ax = plt.subplots(figsize=(6, 3))\n",
    "    sns.barplot(x=\"Evolved Population\", y=\"Number of changes\", data=diff_data_total, hue='Change in Essentiality', palette=sns.mpl_palette('viridis',2), alpha=0.4)\n",
    "    sns.barplot(x=\"Evolved Population\", y=\"Number of changes\", data=diff_data_dm, hue='Change in Essentiality', palette=sns.mpl_palette('viridis',2), color=\"r\")\n",
    "    ax.legend_.remove()\n",
    "\n",
    "    # add legend\n",
    "    top_bar_1 = mpatches.Patch(color=sns.mpl_palette('viridis',2)[0],  alpha=0.4, label='Essential in LB -> Nonessential in both')\n",
    "    bottom_bar_1 = mpatches.Patch(color=sns.mpl_palette('viridis',2)[0], label='Essential in DM25 -> Nonessential in both')\n",
    "    top_bar_2 = mpatches.Patch(color=sns.mpl_palette('viridis',2)[1], alpha=0.4, label='Nonessential in both -> Essential in LB')\n",
    "    bottom_bar_2 = mpatches.Patch(color=sns.mpl_palette('viridis',2)[1],  label='Nonessential in both -> Essential in DM25')\n",
    "\n",
    "    plt.legend(handles=[top_bar_1,bottom_bar_1, top_bar_2, bottom_bar_2], bbox_to_anchor=(0.5,1),frameon=False)\n",
    "    sns.despine(offset=0)\n",
    "    ax.set_xlabel('Evolved population')\n",
    "    \n",
    "#     plt.savefig(figpath+'differential_essentiality_media.pdf', format='pdf',bbox_inches='tight')"
   ]
  },
  {
   "cell_type": "markdown",
   "id": "killing-newport",
   "metadata": {},
   "source": [
    "### Figure 3b) Parallelism in gene essentiality changes\n",
    "\n",
    "For the parallelism analysis, I take the profile of differential essentiality for all the evolved populations, and shuffle it 10,000 times, and for shuffle, count the multiplicity for each gene: in how many populations did it change essentiality?\n",
    "\n",
    "The idea is that the shuffled data would give a comparison for what we'd expect if there were the same number of gene essentiality changes, but occuring completely randomly across the genome."
   ]
  },
  {
   "cell_type": "code",
   "execution_count": 247,
   "id": "cloudy-engineer",
   "metadata": {},
   "outputs": [],
   "source": [
    "ess_ev_combined = np.sum(diff_ess_combined==2,axis=1)\n",
    "ess_anc_combined = np.sum(diff_ess_combined==1,axis=1)"
   ]
  },
  {
   "cell_type": "code",
   "execution_count": 248,
   "id": "roman-ozone",
   "metadata": {},
   "outputs": [],
   "source": [
    "unique_combined,counts_essev_combined = np.unique(ess_ev_combined, return_counts=True)\n",
    "unique2_combined,counts_essanc_combined = np.unique(ess_anc_combined, return_counts=True)"
   ]
  },
  {
   "cell_type": "code",
   "execution_count": 249,
   "id": "arranged-outline",
   "metadata": {},
   "outputs": [],
   "source": [
    "sims = 10**4\n",
    "results_essanc_combined = np.zeros(len(pops_include)+1)\n",
    "results_essev_combined = np.zeros(len(pops_include)+1)"
   ]
  },
  {
   "cell_type": "code",
   "execution_count": 250,
   "id": "conservative-special",
   "metadata": {},
   "outputs": [],
   "source": [
    "for i in range(sims):\n",
    "    #shuffle:\n",
    "    shuffled_diff_essentiality = np.zeros([len(names),len(pops_include)])\n",
    "    #shuffling the data for each population:\n",
    "    for k in range(0,len(pops_include)):\n",
    "        shuffled_diff_essentiality[:,k] = np.random.permutation(diff_ess_combined[:,k])\n",
    "    \n",
    "    shuffled_ess_ev = np.sum(shuffled_diff_essentiality==2,axis=1)\n",
    "    shuffled_ess_anc = np.sum(shuffled_diff_essentiality==1,axis=1)\n",
    "    unique_shuffled, counts_essev_shuffled = np.unique(shuffled_ess_ev, return_counts=True)\n",
    "    unique2_shuffled, counts_essanc_shuffled = np.unique(shuffled_ess_anc, return_counts=True)\n",
    "    results_essanc_combined[unique2_shuffled] += counts_essanc_shuffled\n",
    "    results_essev_combined[unique_shuffled] += counts_essev_shuffled"
   ]
  },
  {
   "cell_type": "code",
   "execution_count": 253,
   "id": "twenty-detroit",
   "metadata": {},
   "outputs": [
    {
     "data": {
      "image/png": "[encoded data removed]",
      "text/plain": [
       "<Figure size 216x108 with 2 Axes>"
      ]
     },
     "metadata": {},
     "output_type": "display_data"
    }
   ],
   "source": [
    "with sns.axes_style('ticks'):\n",
    "    fig, ax = plt.subplots(1,2, figsize=(3,1.5),sharey=True)\n",
    "    actual_ess = counts_essev_combined[1:]\n",
    "    simulated = results_essev_combined[1:]/sims\n",
    "    ax[0].plot(unique_combined[1:], np.cumsum(actual_ess[::-1])[::-1] , color=sns.mpl_palette('viridis',2)[1], alpha=0.5)\n",
    "    ax[0].plot(unique_combined[1:], np.cumsum(actual_ess[::-1])[::-1] ,'o',label='Nonessential -> Essential',color=sns.mpl_palette('viridis',2)[1])\n",
    "    ax[0].plot(np.linspace(1,len(pops_include),len(pops_include)), np.cumsum(simulated[::-1])[::-1] , color=\"black\",alpha=0.5)\n",
    "    ax[0].plot(np.linspace(1,len(pops_include),len(pops_include)), np.cumsum(simulated[::-1])[::-1] , 'o',color=\"black\")\n",
    "    \n",
    "    ax[0].set(yscale='log', xticks = np.linspace(1,len(pops_include),len(pops_include)), ylabel='Number of genes\\n with multiplicity >= $\\it{m}$')\n",
    "    \n",
    "    actual_noness = counts_essanc_combined[1:]\n",
    "    simulated = results_essanc_combined[1:]/sims\n",
    "    \n",
    "    \n",
    "    ax[1].plot(unique2_combined[1:], np.cumsum(actual_noness[::-1])[::-1] ,color=sns.mpl_palette('viridis',2)[0], alpha=0.5)\n",
    "    ax[1].plot(unique2_combined[1:], np.cumsum(actual_noness[::-1])[::-1] ,'o',label='Essential -> Nonessential',color=sns.mpl_palette('viridis',2)[0])\n",
    "\n",
    "    ax[1].plot(np.linspace(1,len(pops_include),len(pops_include)), np.cumsum(simulated[::-1])[::-1] , color=\"black\",alpha=0.5)\n",
    "    ax[1].plot(np.linspace(1,len(pops_include),len(pops_include)), np.cumsum(simulated[::-1])[::-1] , 'o', color=\"black\",label='Expectation due to chance')\n",
    "\n",
    "    ax[1].set(yscale='log', xticks = np.linspace(1,len(pops_include),len(pops_include)))\n",
    "\n",
    "    fig.text(0.12, -0.25, 'Multiplicity $\\it{m}$: number of evolved clones\\n where gene is differentially essential ')\n",
    "    \n",
    "    \n",
    "    lines = []\n",
    "    labels = []\n",
    "\n",
    "    for ax in fig.axes:\n",
    "        axLine, axLabel = ax.get_legend_handles_labels()\n",
    "        lines.extend(axLine)\n",
    "        labels.extend(axLabel)\n",
    "        \n",
    "#     fig.legend(lines, labels,           \n",
    "           #bbox_to_anchor=(1.55,0.8),ncol=1,frameon=False)\n",
    "    \n",
    "    sns.despine(offset=0)\n",
    "    \n",
    "#     fig.savefig(figpath+'parallelism_diff_ess_with_legend.pdf', format='pdf',bbox_inches='tight')\n",
    "#     fig.savefig(figpath+'parallelism_diff_ess.pdf', format='pdf',bbox_inches='tight')\n"
   ]
  },
  {
   "cell_type": "markdown",
   "id": "disciplinary-sperm",
   "metadata": {},
   "source": [
    "### Figure 3c,d) Clustered heatmaps of fitness effects\n",
    "\n",
    "- For all genes with fitness less than -0.3, which is our cutoff for essentiality in DM25, I set the fitness effect to -0.3. \n",
    "- Moreover, if a gene is inferred to be differentially essential in LB, I also set the fitness effect to be -0.3. \n",
    "- The reason for this is most genes that are essential in LB are likely to be essential in DM25, and whether a gene is classified as differentially essential in LB or DM25 depends on how well the transposon library in the evolved clone grows on LB\n",
    "    - If it grows poorly, there are usually fewer generations, and the deleterious mutants don't get outcompeted to the same extent, and so we detect a deleterious fitness effect in DM 25 (using timecourse data) and call the gene as differentially essential in DM25\n",
    "    - If it grows well, there are many more generations, the deleterious mutants get outcompeted, and we don't calculate a fitness effect in DM25 as we had zero (or very few) cells to begin with at the start of the fitness assay, and we call the gene as differentially essential in LB\n",
    "    \n",
    "- In summary: whether we call a gene as differentially essential in LB or DM25 is not super important to the main message of the paper, we cannot always tell the difference, so we don't focus too much on the difference."
   ]
  },
  {
   "cell_type": "code",
   "execution_count": 254,
   "id": "norwegian-reference",
   "metadata": {},
   "outputs": [],
   "source": [
    "heatmap_pops = np.array([0,2,4,5,6,7,8,9,10,12,13])\n",
    "cutoffs = np.ones(14)*-0.3"
   ]
  },
  {
   "cell_type": "code",
   "execution_count": 255,
   "id": "introductory-vaccine",
   "metadata": {},
   "outputs": [],
   "source": [
    "plot_ev = np.where(np.sum(diff_ess_combined==2, axis=1)>0)[0]\n",
    "plot_anc = np.where((np.sum(diff_ess_combined==1, axis=1)>0))[0]"
   ]
  },
  {
   "cell_type": "code",
   "execution_count": 256,
   "id": "according-block",
   "metadata": {},
   "outputs": [],
   "source": [
    "del_index = []\n",
    "for index in range(len(plot_ev)):\n",
    "    gene = plot_ev[index]\n",
    "    if 'FJKN' in names[gene]:## some genes are unknown and don't have a name assigned to them; excluding them from heatmap\n",
    "        del_index.append(index)\n",
    "        \n",
    "plot_ev = np.delete(plot_ev, del_index)"
   ]
  },
  {
   "cell_type": "code",
   "execution_count": 257,
   "id": "proved-objective",
   "metadata": {},
   "outputs": [],
   "source": [
    "del_index = []\n",
    "for index in range(len(plot_anc)):\n",
    "    gene = plot_anc[index]\n",
    "    if 'FJKN' in names[gene]:\n",
    "        del_index.append(index)\n",
    "        \n",
    "plot_anc = np.delete(plot_anc, del_index)"
   ]
  },
  {
   "cell_type": "markdown",
   "id": "1cf32401",
   "metadata": {},
   "source": [
    "#### NOTE: Genes that are not annotated (so they have a FJKNNBLA_xxxx) tag are excluded from analysis from here on.\n",
    "\n",
    "Rationale: a part parallelism analysis is focused on the functional analysis; what roles do these proteins play in physiological processes? I wanted to exclude these genes with unknown functions/annotations just to keep things simple.\n",
    "\n",
    "In any case, there are two such genes (index numbers 1837 and 1855), so they don't make an impact on the major findings of the paper."
   ]
  },
  {
   "cell_type": "code",
   "execution_count": 258,
   "id": "spread-awareness",
   "metadata": {},
   "outputs": [],
   "source": [
    "fitness_plot_ev = np.zeros([len(plot_ev), 11])\n",
    "fitness_plot_anc = np.zeros([len(plot_anc), 11])\n",
    "fitness_plot_ev2 = np.zeros([len(plot_ev), 11])\n",
    "fitness_plot_anc2 = np.zeros([len(plot_anc), 11])"
   ]
  },
  {
   "cell_type": "code",
   "execution_count": 259,
   "id": "accepting-processor",
   "metadata": {},
   "outputs": [],
   "source": [
    "j = 0\n",
    "for pop in heatmap_pops:\n",
    "    #if a gene is essential under the relaxed criteria, then set the value to -0.3, which is the lowest\n",
    "    fitness_plot_ev[:,j] = np.maximum(np.mean(fitness_gene_relaxed[plot_ev,pop,:],axis=1), cutoffs[pop])\n",
    "    fitness_plot_anc[:,j] = np.maximum(np.mean(fitness_gene_relaxed[plot_anc,pop,:],axis=1), cutoffs[pop])\n",
    "    fitness_plot_ev2[:,j] = np.maximum(np.mean(fitness_gene_relaxed[plot_ev,pop,:],axis=1), cutoffs[pop])\n",
    "    fitness_plot_anc2[:,j] = np.maximum(np.mean(fitness_gene_relaxed[plot_anc,pop,:],axis=1), cutoffs[pop])\n",
    "    j+=1\n",
    "\n",
    "#if a gene is lost over evolution, exclude from analysis\n",
    "for count in range(len(plot_ev)):\n",
    "    gene = plot_ev[count]\n",
    "    pops_lost = exclude_genes[heatmap_pops,gene] == 1\n",
    "    #if a gene is lost setting it to 0 by default\n",
    "    fitness_plot_ev[count,pops_lost] =  0\n",
    "    \n",
    "    fitness_plot_ev2[count,pops_lost] =  -0.4\n",
    "\n",
    "#if a gene is lost over evolution, exclude from analysis\n",
    "for count in range(len(plot_anc)):\n",
    "    gene = plot_anc[count]\n",
    "    pops_lost = exclude_genes[heatmap_pops,gene] == 1\n",
    "    #if a gene is lost setting it to 0 by default\n",
    "    fitness_plot_anc2[count,pops_lost] =  -0.4\n",
    "    fitness_plot_anc[count,pops_lost] =  0"
   ]
  },
  {
   "cell_type": "markdown",
   "id": "sticky-profit",
   "metadata": {},
   "source": [
    "### NOTE: For seaborn clustermap to work, there cannot be any NaNs in the data. \n",
    "\n",
    "This is annoying as I don't want to display genes that are lost over evolution the same way as the others.\n",
    "\n",
    "Solution:\n",
    "- use zero as a placeholder, do the agglomerative clustering, and then extract data on the order of genes.\n",
    "- use seaborn heatmap with a custom colormap which indicates genes lost over evolution with a different color (for instance white)"
   ]
  },
  {
   "cell_type": "code",
   "execution_count": 815,
   "id": "antique-treasury",
   "metadata": {},
   "outputs": [],
   "source": [
    "sns_essentiality = pd.DataFrame(fitness_plot_ev, columns = np.array(libraries2)[heatmap_pops[:]], index = names[plot_ev])\n",
    "sns_redundancy = pd.DataFrame(fitness_plot_anc, columns = np.array(libraries2)[heatmap_pops[:]], index = names[plot_anc])"
   ]
  },
  {
   "cell_type": "code",
   "execution_count": 816,
   "id": "9e09b6d5",
   "metadata": {},
   "outputs": [],
   "source": [
    "names_label = []\n",
    "for gene in names:\n",
    "    names_label.append('$\\it{'+ gene +'}$')\n",
    "names_label = np.array(names_label)"
   ]
  },
  {
   "cell_type": "code",
   "execution_count": 817,
   "id": "adaptive-weekly",
   "metadata": {},
   "outputs": [],
   "source": [
    "sns_essentiality2 = pd.DataFrame(fitness_plot_ev2, columns = np.array(libraries2)[heatmap_pops[:]], index = names_label[plot_ev])\n",
    "sns_redundancy2 = pd.DataFrame(fitness_plot_anc2, columns = np.array(libraries2)[heatmap_pops[:]], index = names_label[plot_anc])"
   ]
  },
  {
   "cell_type": "code",
   "execution_count": 818,
   "id": "coordinated-difficulty",
   "metadata": {},
   "outputs": [],
   "source": [
    "sns_essentiality3 = pd.DataFrame(fitness_plot_ev3, columns = np.array(libraries2)[heatmap_pops[1:]], index = names[plot_ev])\n",
    "sns_redundancy3 = pd.DataFrame(fitness_plot_anc3, columns = np.array(libraries2)[heatmap_pops[1:]], index = names[plot_anc])"
   ]
  },
  {
   "cell_type": "code",
   "execution_count": 265,
   "id": "severe-genealogy",
   "metadata": {},
   "outputs": [],
   "source": [
    "from scipy.cluster.hierarchy import dendrogram, linkage"
   ]
  },
  {
   "cell_type": "code",
   "execution_count": 266,
   "id": "australian-rebound",
   "metadata": {},
   "outputs": [],
   "source": [
    "Z_ev = linkage(fitness_plot_ev, 'ward')"
   ]
  },
  {
   "cell_type": "code",
   "execution_count": 267,
   "id": "qualified-south",
   "metadata": {
    "scrolled": false
   },
   "outputs": [
    {
     "data": {
      "image/png": "[encoded data removed]",
      "text/plain": [
       "<Figure size 432x288 with 1 Axes>"
      ]
     },
     "metadata": {},
     "output_type": "display_data"
    }
   ],
   "source": [
    "fig = plt.figure()\n",
    "dn_ev = dendrogram(Z_ev)"
   ]
  },
  {
   "cell_type": "code",
   "execution_count": 268,
   "id": "recreational-retention",
   "metadata": {},
   "outputs": [
    {
     "data": {
      "image/png": "[encoded data removed]",
      "text/plain": [
       "<Figure size 432x288 with 1 Axes>"
      ]
     },
     "metadata": {},
     "output_type": "display_data"
    }
   ],
   "source": [
    "Z_anc = linkage(fitness_plot_anc, 'ward')\n",
    "fig = plt.figure()\n",
    "dn_anc = dendrogram(Z_anc)\n",
    "sns.despine()"
   ]
  },
  {
   "cell_type": "code",
   "execution_count": 873,
   "id": "received-community",
   "metadata": {},
   "outputs": [
    {
     "name": "stdout",
     "output_type": "stream",
     "text": [
      "80 Distinct genes becoming essential\n",
      "98 Distinct genes becoming nonessential\n"
     ]
    }
   ],
   "source": [
    "print(len(dn_ev['ivl']),'Distinct genes becoming essential')\n",
    "print(len(dn_anc['ivl']),'Distinct genes becoming nonessential')"
   ]
  },
  {
   "cell_type": "markdown",
   "id": "southeast-spanking",
   "metadata": {},
   "source": [
    "### What I'm doing in the following lines is to rearrange the genes in the order determined by the clustering algorithm. Then I plot this rearranged numpy array directly using the seaborn heatmap function.\n",
    "\n",
    "What I do is to consider genes that are lost as having fitness = 0 for the purposes of clustering but highlight the genes as lost using a different assigned value plus custom colormap. \n",
    "\n",
    "This would not be possible in clustermap as the value used for clustering is what will be plotted, and there's no way to get around this, by having NaN for genes that are lost. \n",
    "\n",
    "If needed, I'll save the dendrogram separately and attach it to the heatmap in Illustrator."
   ]
  },
  {
   "cell_type": "code",
   "execution_count": 819,
   "id": "illegal-coral",
   "metadata": {},
   "outputs": [],
   "source": [
    "sns_essentiality_test2 = sns_essentiality2.iloc[np.array(dn_ev['ivl']).astype('float'), :]\n",
    "sns_redundancy_test2 = sns_redundancy2.iloc[np.array(dn_anc['ivl']).astype('float'), :]"
   ]
  },
  {
   "cell_type": "markdown",
   "id": "decimal-domain",
   "metadata": {},
   "source": [
    "Defining a new colormap"
   ]
  },
  {
   "cell_type": "code",
   "execution_count": 286,
   "id": "physical-sweden",
   "metadata": {},
   "outputs": [],
   "source": [
    "from matplotlib import cm\n",
    "from matplotlib.colors import ListedColormap, LinearSegmentedColormap"
   ]
  },
  {
   "cell_type": "code",
   "execution_count": 287,
   "id": "smooth-coach",
   "metadata": {},
   "outputs": [],
   "source": [
    "color_num = 51\n",
    "newcolors = np.zeros([51,4])\n",
    "\n",
    "\n",
    "# viridis = cm.get_cmap('viridis', 121)\n",
    "\n",
    "# newcolors = viridis(np.linspace(-1, 0.1, 121))\n",
    "white = np.array([1,1,1,1])\n",
    "# viridis = cm.get_cmap('RdGy', 41)\n",
    "viridis = sns.color_palette(\"flare\", as_cmap=True)\n",
    "\n",
    "\n",
    "newcolors[:1, :] = white\n",
    "newcolors[10:, :] = viridis(np.linspace(0, 1, 41))\n",
    "\n",
    "\n",
    "newcmp = ListedColormap(newcolors)"
   ]
  },
  {
   "cell_type": "code",
   "execution_count": 821,
   "id": "failing-breach",
   "metadata": {},
   "outputs": [
    {
     "data": {
      "image/png": "[encoded data removed]",
      "text/plain": [
       "<Figure size 432x129.6 with 1 Axes>"
      ]
     },
     "metadata": {},
     "output_type": "display_data"
    }
   ],
   "source": [
    "with sns.axes_style('ticks'):\n",
    "    fig,ax = plt.subplots(figsize=(6,1.8))\n",
    "    ax=sns.heatmap(sns_essentiality_test2.transpose(), cmap = newcmp, square=True\n",
    "                   ,cbar_kws={'ticks': [0.0,-0.1,-0.2,-0.3], \"shrink\": 0.4, 'label':'Fitness effect'}\n",
    "                  ,linecolor='white', vmax = np.max(fitness_plot_ev2),xticklabels=True, yticklabels=True,cbar=0)\n",
    "    \n",
    "#     ax.ax_heatmap.set_xticklabels(ax.ax_heatmap.get_xmajorticklabels(), fontsize = 5)\n",
    "    \n",
    "    ax.xaxis.set_tick_params(width=0.5)\n",
    "    ax.yaxis.set_tick_params(width=0.5)\n",
    "    ax.set_xticklabels(ax.get_xmajorticklabels(), fontsize = 4, rotation = 90)\n",
    "    ax.set_yticklabels(ax.get_ymajorticklabels(), fontsize = 5)\n",
    "    ax.set_xlabel('')\n",
    "\n",
    "    \n",
    "#     fig.savefig(figpath+'heatmap_fitness_essential.pdf', format='pdf',bbox_inches='tight')"
   ]
  },
  {
   "cell_type": "code",
   "execution_count": 291,
   "id": "premier-light",
   "metadata": {},
   "outputs": [
    {
     "data": {
      "image/png": "[encoded data removed]",
      "text/plain": [
       "<Figure size 72x108 with 1 Axes>"
      ]
     },
     "metadata": {},
     "output_type": "display_data"
    }
   ],
   "source": [
    "fig,ax = plt.subplots(figsize=(1,1.5))\n",
    "\n",
    "mpb = ax.imshow(sns_essentiality.transpose(),cmap=ListedColormap(newcolors[10:]))\n",
    "plt.colorbar(mpb,ax=ax,label='Fitness \\n effect')\n",
    "ax.remove()\n",
    "plt.savefig('plot_onlycbar.png')\n",
    "\n",
    "# save the same figure with some approximate autocropping\n",
    "# plt.savefig(figpath+'plot_onlycbar_tight.pdf',format='pdf',bbox_inches='tight')"
   ]
  },
  {
   "cell_type": "code",
   "execution_count": 822,
   "id": "dimensional-scheduling",
   "metadata": {},
   "outputs": [
    {
     "data": {
      "image/png": "[encoded data removed]",
      "text/plain": [
       "<Figure size 518.4x129.6 with 1 Axes>"
      ]
     },
     "metadata": {},
     "output_type": "display_data"
    }
   ],
   "source": [
    "with sns.axes_style('ticks'):\n",
    "    fig,ax = plt.subplots(figsize=(7.2,1.8))\n",
    "    ax=sns.heatmap(sns_redundancy_test2.transpose(), cmap = cm.get_cmap('flare', 41), square=True, cbar_kws={'ticks': [0.0,-0.1,-0.2,-0.3], 'label':'Fitness effect'}\n",
    "                  ,linecolor='white', vmax = np.max(fitness_plot_ev2),xticklabels=True, yticklabels=True,cbar=False)\n",
    "    \n",
    "    ax.xaxis.set_tick_params(width=0.5)\n",
    "    ax.yaxis.set_tick_params(width=0.5)\n",
    "    ax.set_xticklabels(ax.get_xmajorticklabels(), fontsize = 4, rotation = 90)\n",
    "    ax.set_yticklabels(ax.get_ymajorticklabels(), fontsize = 5)\n",
    "    ax.set_xlabel('')\n",
    "\n",
    "    \n",
    "#     fig.savefig(figpath+'heatmap_fitness_nonessential.pdf', format='pdf',bbox_inches='tight')\n"
   ]
  },
  {
   "cell_type": "markdown",
   "id": "laden-testing",
   "metadata": {},
   "source": [
    "## Supplementary Figure 9a,b: Parallelism in differential essentiality partitioned by environments"
   ]
  },
  {
   "cell_type": "code",
   "execution_count": 293,
   "id": "surrounded-tourism",
   "metadata": {},
   "outputs": [],
   "source": [
    "ess_ev = np.sum(diff_ess_LB[:,pops_include]==2,axis=1)\n",
    "ess_anc = np.sum(diff_ess_LB[:,pops_include]==1,axis=1)\n",
    "\n",
    "unique,counts_essev = np.unique(ess_ev, return_counts=True)\n",
    "unique2,counts_essanc = np.unique(ess_anc, return_counts=True)\n",
    "\n",
    "sims = 10**4\n",
    "results_essanc = np.zeros(len(pops_include)+1)\n",
    "results_essev = np.zeros(len(pops_include)+1)\n",
    "\n",
    "for i in range(sims):\n",
    "    #shuffle:\n",
    "    shuffled_diff_essentiality = np.zeros([len(names),len(pops_include)])\n",
    "    #shuffling the data for each population:\n",
    "    for k in range(0,len(pops_include)):\n",
    "        shuffled_diff_essentiality[:,k] = np.random.permutation(diff_ess_LB[:,pops_include[k]])\n",
    "    \n",
    "    shuffled_ess_ev = np.sum(shuffled_diff_essentiality==2,axis=1)\n",
    "    shuffled_ess_anc = np.sum(shuffled_diff_essentiality==1,axis=1)\n",
    "    unique_shuffled, counts_essev_shuffled = np.unique(shuffled_ess_ev, return_counts=True)\n",
    "    unique2_shuffled, counts_essanc_shuffled = np.unique(shuffled_ess_anc, return_counts=True)\n",
    "    results_essanc[unique2_shuffled] += counts_essanc_shuffled\n",
    "    results_essev[unique_shuffled] += counts_essev_shuffled"
   ]
  },
  {
   "cell_type": "code",
   "execution_count": 294,
   "id": "engaged-moses",
   "metadata": {},
   "outputs": [
    {
     "data": {
      "image/png": "[encoded data removed]",
      "text/plain": [
       "<Figure size 216x144 with 2 Axes>"
      ]
     },
     "metadata": {},
     "output_type": "display_data"
    }
   ],
   "source": [
    "with sns.axes_style('ticks'):\n",
    "    fig, ax = plt.subplots(1,2, figsize=(3,2),sharey=True)\n",
    "    actual_ess = counts_essev[1:]\n",
    "    simulated = results_essev[1:]/sims\n",
    "    ax[0].plot(unique[1:], np.cumsum(actual_ess[::-1])[::-1] , color=sns.mpl_palette('viridis',2)[1], alpha=0.5)\n",
    "    ax[0].plot(unique[1:], np.cumsum(actual_ess[::-1])[::-1] ,'o',label='Nonessential -> Essential',color=sns.mpl_palette('viridis',2)[1])\n",
    "    ax[0].plot(np.linspace(1,len(pops_include),len(pops_include)), np.cumsum(simulated[::-1])[::-1] , color=\"black\",alpha=0.5)\n",
    "    ax[0].plot(np.linspace(1,len(pops_include),len(pops_include)), np.cumsum(simulated[::-1])[::-1] , 'o',color=\"black\")\n",
    "    \n",
    "    ax[0].set(ylabel='Number of genes\\n with multiplicity >= $\\it{m}$', yscale='log', xticks = np.linspace(1,len(pops_include),len(pops_include)))\n",
    "    \n",
    "    actual_noness = counts_essanc[1:]\n",
    "    simulated = results_essanc[1:]/sims\n",
    "    \n",
    "    \n",
    "    ax[1].plot(unique2[1:], np.cumsum(actual_noness[::-1])[::-1] ,color=sns.mpl_palette('viridis',2)[0], alpha=0.5)\n",
    "    ax[1].plot(unique2[1:], np.cumsum(actual_noness[::-1])[::-1] ,'o',label='Essential -> Nonessential',color=sns.mpl_palette('viridis',2)[0])\n",
    "\n",
    "    ax[1].plot(np.linspace(1,len(pops_include),len(pops_include)), np.cumsum(simulated[::-1])[::-1] , color=\"black\",alpha=0.5)\n",
    "    ax[1].plot(np.linspace(1,len(pops_include),len(pops_include)), np.cumsum(simulated[::-1])[::-1] , 'o', color=\"black\",label='Expectation due to chance')\n",
    "\n",
    "    ax[1].set(yscale='log', xticks = np.linspace(1,len(pops_include),len(pops_include)))\n",
    "\n",
    "    fig.text(0.12, -0.15, 'Multiplicity $\\it{m}$: number of evolved clones\\n where gene is differentially essential ')\n",
    "    \n",
    "    \n",
    "    lines = []\n",
    "    labels = []\n",
    "\n",
    "    for ax in fig.axes:\n",
    "        axLine, axLabel = ax.get_legend_handles_labels()\n",
    "        lines.extend(axLine)\n",
    "        labels.extend(axLabel)\n",
    "        \n",
    "    fig.legend(lines, labels,           \n",
    "           bbox_to_anchor=(2,1.25),ncol=3,frameon=False)\n",
    "    \n",
    "    sns.despine(offset=0)\n",
    "    plt.suptitle('Essentiality in LB',fontsize=10)\n",
    "    \n",
    "#     plt.savefig(figpath+'parallel_essentiality_LB.pdf', format='pdf',bbox_inches = 'tight')\n"
   ]
  },
  {
   "cell_type": "code",
   "execution_count": 295,
   "id": "chinese-champion",
   "metadata": {},
   "outputs": [],
   "source": [
    "ess_ev_dm = np.sum(diff_ess_DM25==2,axis=1)\n",
    "ess_anc_dm = np.sum(diff_ess_DM25==1,axis=1)\n",
    "unique_dm,counts_essev_dm = np.unique(ess_ev_dm, return_counts=True)\n",
    "unique2_dm,counts_essanc_dm = np.unique(ess_anc_dm, return_counts=True)\n",
    "\n",
    "sims = 10**4\n",
    "results_essanc_dm = np.zeros(len(pops_include)+1)\n",
    "results_essev_dm = np.zeros(len(pops_include)+1)\n",
    "\n",
    "for i in range(sims):\n",
    "    #shuffle:\n",
    "    shuffled_diff_essentiality = np.zeros([len(names),len(pops_include)])\n",
    "    #shuffling the data for each population:\n",
    "    for k in range(0,len(pops_include)):\n",
    "        shuffled_diff_essentiality[:,k] = np.random.permutation(diff_ess_DM25[:,k])\n",
    "    \n",
    "    shuffled_ess_ev = np.sum(shuffled_diff_essentiality==2,axis=1)\n",
    "    shuffled_ess_anc = np.sum(shuffled_diff_essentiality==1,axis=1)\n",
    "    unique_shuffled, counts_essev_shuffled = np.unique(shuffled_ess_ev, return_counts=True)\n",
    "    unique2_shuffled, counts_essanc_shuffled = np.unique(shuffled_ess_anc, return_counts=True)\n",
    "    results_essanc_dm[unique2_shuffled] += counts_essanc_shuffled\n",
    "    results_essev_dm[unique_shuffled] += counts_essev_shuffled"
   ]
  },
  {
   "cell_type": "code",
   "execution_count": 296,
   "id": "blank-router",
   "metadata": {},
   "outputs": [
    {
     "data": {
      "image/png": "[encoded data removed]",
      "text/plain": [
       "<Figure size 216x144 with 2 Axes>"
      ]
     },
     "metadata": {},
     "output_type": "display_data"
    }
   ],
   "source": [
    "with sns.axes_style('ticks'):\n",
    "    fig, ax = plt.subplots(1,2, figsize=(3,2),sharey=True)\n",
    "    actual_ess = counts_essev_dm[1:]\n",
    "    simulated = results_essev_dm[1:]/sims\n",
    "    ax[0].plot(unique_dm[1:], np.cumsum(actual_ess[::-1])[::-1] , color=sns.mpl_palette('viridis',2)[1], alpha=0.5)\n",
    "    ax[0].plot(unique_dm[1:], np.cumsum(actual_ess[::-1])[::-1] ,'o',label='Nonessential -> Essential',color=sns.mpl_palette('viridis',2)[1])\n",
    "    ax[0].plot(np.linspace(1,len(pops_include),len(pops_include)), np.cumsum(simulated[::-1])[::-1] , color=\"black\",alpha=0.5)\n",
    "    ax[0].plot(np.linspace(1,len(pops_include),len(pops_include)), np.cumsum(simulated[::-1])[::-1] , 'o',color=\"black\")\n",
    "    \n",
    "    ax[0].set(ylabel='Number of genes\\n with multiplicity >= $\\it{m}$', yscale='log', xticks = np.linspace(1,len(pops_include),len(pops_include)))\n",
    "    \n",
    "    actual_noness = counts_essanc_dm[1:]\n",
    "    simulated = results_essanc_dm[1:]/sims\n",
    "    \n",
    "    \n",
    "    ax[1].plot(unique2_dm[1:], np.cumsum(actual_noness[::-1])[::-1] ,color=sns.mpl_palette('viridis',2)[0], alpha=0.5)\n",
    "    ax[1].plot(unique2_dm[1:], np.cumsum(actual_noness[::-1])[::-1] ,'o',label='Essential -> Nonessential',color=sns.mpl_palette('viridis',2)[0])\n",
    "\n",
    "    ax[1].plot(np.linspace(1,len(pops_include),len(pops_include)), np.cumsum(simulated[::-1])[::-1] , color=\"black\",alpha=0.5)\n",
    "    ax[1].plot(np.linspace(1,len(pops_include),len(pops_include)), np.cumsum(simulated[::-1])[::-1] , 'o', color=\"black\",label='Expectation due to chance')\n",
    "\n",
    "    ax[1].set(yscale='log', xticks = np.linspace(1,len(pops_include),len(pops_include)))\n",
    "\n",
    "    fig.text(0.12, -0.15, 'Multiplicity $\\it{m}$: number of evolved clones\\n where gene is differentially essential ')\n",
    "    \n",
    "    \n",
    "    lines = []\n",
    "    labels = []\n",
    "\n",
    "    for ax in fig.axes:\n",
    "        axLine, axLabel = ax.get_legend_handles_labels()\n",
    "        lines.extend(axLine)\n",
    "        labels.extend(axLabel)\n",
    "        \n",
    "    \n",
    "    sns.despine(offset=0)\n",
    "    plt.suptitle('Essentiality in DM25',fontsize=10)\n",
    "    \n",
    "    plt.savefig(figpath+'parallel_essentiality_DM25.pdf', format='pdf',bbox_inches = 'tight')\n"
   ]
  },
  {
   "cell_type": "markdown",
   "id": "confidential-franklin",
   "metadata": {},
   "source": [
    "## Supplementary Figure 9c: Parallelism in neutral->deleterious fitness effect changes"
   ]
  },
  {
   "cell_type": "markdown",
   "id": "5c1c0e2d",
   "metadata": {},
   "source": [
    "rationale for this analysis: our choice of -0.3 and -0.15 are arbitrary; by changing the thresholds and repeating the parallelism analysis, we can show that our observation of parallel changes in gene essentiality/fitness effects isn't an artifact of how we define essentiality "
   ]
  },
  {
   "cell_type": "code",
   "execution_count": 297,
   "id": "reported-creek",
   "metadata": {},
   "outputs": [],
   "source": [
    "neut_del_data = np.zeros([len(names), len(pops_include)])"
   ]
  },
  {
   "cell_type": "code",
   "execution_count": 298,
   "id": "decimal-particle",
   "metadata": {},
   "outputs": [],
   "source": [
    "neutral = -0.05\n",
    "deleterious = -0.2"
   ]
  },
  {
   "cell_type": "code",
   "execution_count": 299,
   "id": "excellent-night",
   "metadata": {},
   "outputs": [],
   "source": [
    "var = 0\n",
    "#iterating over all the populations we plan to analyze:\n",
    "for pop in libraries4[2:]:\n",
    "    k = pops_include[var]\n",
    "    anc_num = 0\n",
    "    #extracting genes that are -1 in ancestor and near neutral in the evolved population\n",
    "    ess_anc = np.where((np.mean(fitness_gene_relaxed[:,anc_num,:],axis=1)<deleterious)& (np.mean(fitness_gene_relaxed[:,anc_num,:],axis=1)>-1)&(np.mean(fitness_gene_relaxed[:,k+1,:],axis=1)>neutral)&(exclude_genes[k+1,:]==0))[0]\n",
    "    #extracting genes that are -1 in the evolved population and near neutral in the ancestor\n",
    "    ess_ev = np.where((np.mean(fitness_gene_relaxed[:,k+1,:],axis=1)<deleterious)&(np.mean(fitness_gene_relaxed[:,k+1,:],axis=1)>-1)&(np.mean(fitness_gene_relaxed[:,anc_num,:],axis=1)>neutral)&(exclude_genes[k+1,:]==0))[0]\n",
    "#     print(pop,k)\n",
    "    neut_del_data[ess_anc, var] = 1\n",
    "    neut_del_data[ess_ev, var] = 2\n",
    "#     print(len(ess_anc), len(ess_ev))\n",
    "    var+=1"
   ]
  },
  {
   "cell_type": "code",
   "execution_count": 300,
   "id": "concerned-puppy",
   "metadata": {
    "scrolled": true
   },
   "outputs": [
    {
     "name": "stdout",
     "output_type": "stream",
     "text": [
      "Ara–1\n",
      "deleterious over evolution 23\n",
      "neutral over evolution 14\n",
      "Ara–3\n",
      "deleterious over evolution 22\n",
      "neutral over evolution 7\n",
      "Ara–4\n",
      "deleterious over evolution 15\n",
      "neutral over evolution 9\n",
      "Ara–5\n",
      "deleterious over evolution 10\n",
      "neutral over evolution 6\n",
      "Ara–6\n",
      "deleterious over evolution 8\n",
      "neutral over evolution 29\n",
      "Ara+1\n",
      "deleterious over evolution 8\n",
      "neutral over evolution 4\n",
      "Ara+2\n",
      "deleterious over evolution 13\n",
      "neutral over evolution 12\n",
      "Ara+3\n",
      "deleterious over evolution 31\n",
      "neutral over evolution 6\n",
      "Ara+5\n",
      "deleterious over evolution 15\n",
      "neutral over evolution 6\n",
      "Ara+6\n",
      "deleterious over evolution 26\n",
      "neutral over evolution 9\n"
     ]
    }
   ],
   "source": [
    "del_ev = np.sum(neut_del_data==2,axis=1)\n",
    "del_anc = np.sum(neut_del_data==1,axis=1)\n",
    "for pop in range(len(pops_include)):\n",
    "    print(libraries2[pops_include[pop]+1])\n",
    "    print('deleterious over evolution '+ str(np.sum(neut_del_data[:,pop]==2)))\n",
    "    print('neutral over evolution ' + str(np.sum(neut_del_data[:,pop]==1)))"
   ]
  },
  {
   "cell_type": "code",
   "execution_count": 301,
   "id": "authentic-taylor",
   "metadata": {},
   "outputs": [],
   "source": [
    "unique_del, counts_essev_del = np.unique(del_ev, return_counts=True)\n",
    "unique2_del, counts_essanc_del = np.unique(del_anc, return_counts=True)"
   ]
  },
  {
   "cell_type": "code",
   "execution_count": 302,
   "id": "criminal-consumer",
   "metadata": {},
   "outputs": [],
   "source": [
    "sims = 10**4\n",
    "results_del_anc = np.zeros(len(pops_include)+1)\n",
    "results_del_ev = np.zeros(len(pops_include)+1)\n",
    "\n",
    "for i in range(sims):\n",
    "    #shuffle:\n",
    "    shuffled_diff_essentiality = np.zeros([len(names),len(pops_include)])\n",
    "    #shuffling the data for each population:\n",
    "    for k in range(0,len(pops_include)):\n",
    "        shuffled_diff_essentiality[:,k] = np.random.permutation(neut_del_data[:,k])\n",
    "    \n",
    "    shuffled_ess_ev = np.sum(shuffled_diff_essentiality==2,axis=1)\n",
    "    shuffled_ess_anc = np.sum(shuffled_diff_essentiality==1,axis=1)\n",
    "    unique_shuffled, counts_essev_shuffled = np.unique(shuffled_ess_ev, return_counts=True)\n",
    "    unique2_shuffled, counts_essanc_shuffled = np.unique(shuffled_ess_anc, return_counts=True)\n",
    "    results_del_anc[unique2_shuffled] += counts_essanc_shuffled\n",
    "    results_del_ev[unique_shuffled] += counts_essev_shuffled"
   ]
  },
  {
   "cell_type": "code",
   "execution_count": 303,
   "id": "responsible-convention",
   "metadata": {},
   "outputs": [
    {
     "data": {
      "image/png": "[encoded data removed]",
      "text/plain": [
       "<Figure size 216x144 with 2 Axes>"
      ]
     },
     "metadata": {},
     "output_type": "display_data"
    }
   ],
   "source": [
    "with sns.axes_style('ticks'):\n",
    "    fig, ax = plt.subplots(1,2, figsize=(3,2), sharey=True)\n",
    "    actual_ess = counts_essev_del[1:]\n",
    "    simulated = results_del_ev[1:]/sims\n",
    "    ax[0].plot(unique_del[1:], np.cumsum(actual_ess[::-1])[::-1] , color=sns.mpl_palette('viridis',2)[1], alpha=0.5)\n",
    "    ax[0].plot(unique_del[1:], np.cumsum(actual_ess[::-1])[::-1] ,'^',label='Neutral -> Deleterious',color=sns.mpl_palette('viridis',2)[1])\n",
    "    ax[0].plot(np.linspace(1,len(pops_include),len(pops_include)), np.cumsum(simulated[::-1])[::-1] , color=\"black\",alpha=0.5)\n",
    "    ax[0].plot(np.linspace(1,len(pops_include),len(pops_include)), np.cumsum(simulated[::-1])[::-1] , 'o',color=\"black\")\n",
    "    \n",
    "    ax[0].set(ylabel='Number of genes\\n with multiplicity >= $\\it{m}$',\n",
    "             yscale='log', xticks = np.linspace(1,len(pops_include),len(pops_include)))\n",
    "    \n",
    "    actual_noness = counts_essanc_del[1:]\n",
    "    simulated = results_del_anc[1:]/sims\n",
    "    \n",
    "    \n",
    "    ax[1].plot(unique2_del[1:], np.cumsum(actual_noness[::-1])[::-1] ,color=sns.mpl_palette('viridis',2)[0], alpha=0.5)\n",
    "    ax[1].plot(unique2_del[1:], np.cumsum(actual_noness[::-1])[::-1] ,'^',label='Deleterious -> Neutral',color=sns.mpl_palette('viridis',2)[0])\n",
    "\n",
    "    ax[1].plot(np.linspace(1,len(pops_include),len(pops_include)), np.cumsum(simulated[::-1])[::-1] , color=\"black\",alpha=0.5)\n",
    "    ax[1].plot(np.linspace(1,len(pops_include),len(pops_include)), np.cumsum(simulated[::-1])[::-1] , 'o', color=\"black\",label='Expectation due to chance')\n",
    "\n",
    "    ax[1].set(yscale='log', xticks = np.linspace(1,len(pops_include),len(pops_include)))\n",
    "\n",
    "    fig.text(0.12, -0.15, 'Multiplicity $\\it{m}$: number of evolved clones \\nwhere fitness effect changes')\n",
    "    \n",
    "    \n",
    "    lines = []\n",
    "    labels = []\n",
    "\n",
    "    for ax in fig.axes:\n",
    "        axLine, axLabel = ax.get_legend_handles_labels()\n",
    "        lines.extend(axLine)\n",
    "        labels.extend(axLabel)\n",
    "        \n",
    "    fig.legend(lines, labels,           \n",
    "           bbox_to_anchor=(1.55,0.8),ncol=1,frameon=False)\n",
    "    \n",
    "    sns.despine(offset=0)\n",
    "    \n",
    "#     plt.savefig(figpath+'parallel_fitness_effects.pdf', format='pdf',bbox_inches = 'tight')\n",
    "    "
   ]
  },
  {
   "cell_type": "markdown",
   "id": "becoming-sixth",
   "metadata": {},
   "source": [
    "## Supplementary Figure 7: Correlation between change in gene expression and gene essentiality\n",
    "\n",
    "Note: we have not generated this gene expression data. It is from the following paper (which is very cool):\n",
    "https://www.biorxiv.org/content/10.1101/2021.01.12.426406v1.full"
   ]
  },
  {
   "cell_type": "code",
   "execution_count": 305,
   "id": "filled-radical",
   "metadata": {},
   "outputs": [],
   "source": [
    "expression_lvls = np.loadtxt(datapath+'expression_means.txt')\n",
    "normalized_expression = expression_lvls/np.sum(expression_lvls,axis=0)*10**5"
   ]
  },
  {
   "cell_type": "code",
   "execution_count": 306,
   "id": "valuable-assets",
   "metadata": {},
   "outputs": [
    {
     "data": {
      "image/png": "[encoded data removed]",
      "text/plain": [
       "<Figure size 144x144 with 1 Axes>"
      ]
     },
     "metadata": {},
     "output_type": "display_data"
    }
   ],
   "source": [
    "with sns.axes_style('ticks'):\n",
    "    k = 2    \n",
    "    bins=np.linspace(0,8,80)\n",
    "    ess = np.where((np.mean(fitness_gene_relaxed[:,k],axis=1)>-1)&(np.mean(fitness_gene_relaxed[:,k],axis=1)<-0.3))[0]\n",
    "    #getting indices of nonessential genes\n",
    "    noness = np.where((np.mean(fitness_gene_corrected[:,k],axis=1)>-0.2))[0]\n",
    "    fig,ax = plt.subplots(figsize=(2,2))\n",
    "    ax.hist(np.log(1.01+ normalized_expression[ess,k]), label='Essential',bins=bins,density=1)\n",
    "    ax.hist(np.log(1.01+ normalized_expression[noness,k]), label='Nonessential',bins=bins,density=1)\n",
    "    ax.set(xlim=0, title=f'Expression levels for essential \\nand non-essential genes in {libraries2[k]}',\n",
    "          xlabel='log(Expression level)',ylabel='Number of genes')\n",
    "    ax.legend(loc=0, frameon=False)\n",
    "    sns.despine()\n",
    "    plt.show()\n",
    "#     fig.savefig(figpath+'expression_lvls.pdf', format='pdf', bbox_inches='tight')"
   ]
  },
  {
   "cell_type": "markdown",
   "id": "d7876b3b",
   "metadata": {},
   "source": [
    "### The pattern of higher expression for essential genes is observed in all strains analyzed."
   ]
  },
  {
   "cell_type": "code",
   "execution_count": 868,
   "id": "ef12d410",
   "metadata": {},
   "outputs": [
    {
     "data": {
      "image/png": "[encoded data removed]",
      "text/plain": [
       "<Figure size 144x144 with 1 Axes>"
      ]
     },
     "metadata": {},
     "output_type": "display_data"
    },
    {
     "data": {
      "image/png": "[encoded data removed]",
      "text/plain": [
       "<Figure size 144x144 with 1 Axes>"
      ]
     },
     "metadata": {},
     "output_type": "display_data"
    },
    {
     "data": {
      "image/png": "[encoded data removed]",
      "text/plain": [
       "<Figure size 144x144 with 1 Axes>"
      ]
     },
     "metadata": {},
     "output_type": "display_data"
    },
    {
     "data": {
      "image/png": "[encoded data removed]",
      "text/plain": [
       "<Figure size 144x144 with 1 Axes>"
      ]
     },
     "metadata": {},
     "output_type": "display_data"
    },
    {
     "data": {
      "image/png": "[encoded data removed]",
      "text/plain": [
       "<Figure size 144x144 with 1 Axes>"
      ]
     },
     "metadata": {},
     "output_type": "display_data"
    },
    {
     "data": {
      "image/png": "[encoded data removed]",
      "text/plain": [
       "<Figure size 144x144 with 1 Axes>"
      ]
     },
     "metadata": {},
     "output_type": "display_data"
    },
    {
     "data": {
      "image/png": "[encoded data removed]",
      "text/plain": [
       "<Figure size 144x144 with 1 Axes>"
      ]
     },
     "metadata": {},
     "output_type": "display_data"
    },
    {
     "data": {
      "image/png": "[encoded data removed]",
      "text/plain": [
       "<Figure size 144x144 with 1 Axes>"
      ]
     },
     "metadata": {},
     "output_type": "display_data"
    },
    {
     "data": {
      "image/png": "[encoded data removed]",
      "text/plain": [
       "<Figure size 144x144 with 1 Axes>"
      ]
     },
     "metadata": {},
     "output_type": "display_data"
    },
    {
     "data": {
      "image/png": "[encoded data removed]",
      "text/plain": [
       "<Figure size 144x144 with 1 Axes>"
      ]
     },
     "metadata": {},
     "output_type": "display_data"
    },
    {
     "data": {
      "image/png": "[encoded data removed]",
      "text/plain": [
       "<Figure size 144x144 with 1 Axes>"
      ]
     },
     "metadata": {},
     "output_type": "display_data"
    },
    {
     "data": {
      "image/png": "[encoded data removed]",
      "text/plain": [
       "<Figure size 144x144 with 1 Axes>"
      ]
     },
     "metadata": {},
     "output_type": "display_data"
    }
   ],
   "source": [
    "for k in [0,1,2,4,5,6,7,8,9,10,11,12]: \n",
    "    bins=np.linspace(0,8,80)\n",
    "    ess = np.where((np.mean(fitness_gene_relaxed[:,k],axis=1)>-1)&(np.mean(fitness_gene_relaxed[:,k],axis=1)<-0.3))[0]\n",
    "    #getting indices of nonessential genes\n",
    "    noness = np.where((np.mean(fitness_gene_corrected[:,k],axis=1)>-0.2))[0]\n",
    "    fig,ax = plt.subplots(figsize=(2,2))\n",
    "    ax.hist(np.log(1.01+ normalized_expression[ess,k]), label='Essential',bins=bins,density=1)\n",
    "    ax.hist(np.log(1.01+ normalized_expression[noness,k]), label='Nonessential',bins=bins,density=1)\n",
    "    ax.set(xlim=0, title=f'Expression levels for essential \\nand non-essential genes in {libraries2[k]}',\n",
    "          xlabel='log(Expression level)',ylabel='Number of genes')\n",
    "    ax.legend(loc=0, frameon=False)\n",
    "    sns.despine()\n",
    "    plt.show()"
   ]
  },
  {
   "cell_type": "markdown",
   "id": "0f50f7e6",
   "metadata": {},
   "source": [
    "#### Overarching question: is change in gene essentiality linked to a corresponding change in gene expression?"
   ]
  },
  {
   "cell_type": "code",
   "execution_count": 308,
   "id": "assured-wings",
   "metadata": {},
   "outputs": [],
   "source": [
    "anc_expression = []\n",
    "evo_expression = []\n",
    "\n",
    "count = 0\n",
    "for pops in pops_include[:-1]:\n",
    "    anc_ess = np.where(diff_ess_combined[:,count]==1)[0]\n",
    "\n",
    "    for gene in anc_ess:\n",
    "        anc_expression.append(float(normalized_expression[gene,0]))\n",
    "        evo_expression.append(float(normalized_expression[gene,pops+1]))\n",
    "    \n",
    "    \n",
    "    count+=1\n"
   ]
  },
  {
   "cell_type": "code",
   "execution_count": 309,
   "id": "shaped-plymouth",
   "metadata": {},
   "outputs": [
    {
     "data": {
      "text/plain": [
       "[1, 3, 4, 5, 6, 7, 8, 9, 11, 12]"
      ]
     },
     "execution_count": 309,
     "metadata": {},
     "output_type": "execute_result"
    }
   ],
   "source": [
    "pops_include"
   ]
  },
  {
   "cell_type": "code",
   "execution_count": 310,
   "id": "rapid-mixture",
   "metadata": {},
   "outputs": [],
   "source": [
    "anc_expression2 = []\n",
    "evo_expression2 = []\n",
    "\n",
    "count = 0\n",
    "for pops in pops_include[:-1]:\n",
    "    anc_ess = np.where(diff_ess_combined[:,count]==2)[0]\n",
    "\n",
    "    for gene in anc_ess:\n",
    "        anc_expression2.append(float(normalized_expression[gene,0]))\n",
    "        evo_expression2.append(float(normalized_expression[gene,pops+1]))\n",
    "    \n",
    "    \n",
    "    count+=1\n"
   ]
  },
  {
   "cell_type": "code",
   "execution_count": 311,
   "id": "virgin-christmas",
   "metadata": {},
   "outputs": [],
   "source": [
    "expression_comparison = pd.DataFrame()\n",
    "\n",
    "group1 = pd.DataFrame()\n",
    "group2 = pd.DataFrame()\n",
    "group3 = pd.DataFrame()\n",
    "group4 = pd.DataFrame()\n",
    "\n",
    "anc_expression = np.array(anc_expression)\n",
    "evo_expression = np.array(evo_expression)\n",
    "anc_expression2 = np.array(anc_expression2)\n",
    "evo_expression2 = np.array(evo_expression2)\n",
    "\n",
    "\n",
    "group1['log(Expression level)'] = np.log(anc_expression[anc_expression>-1]+1)\n",
    "group1['Population'] = 'Ancestral'\n",
    "group1[''] = 'Essential -> \\nNonessential'\n",
    "\n",
    "group2['log(Expression level)'] = np.log(evo_expression[evo_expression>-1]+1.0)\n",
    "group2['Population'] = 'Evolved'\n",
    "group2[''] = 'Essential -> \\nNonessential'\n",
    "\n",
    "group3['log(Expression level)'] = np.log(anc_expression2[anc_expression2>-1]+1)\n",
    "group3['Population'] = 'Ancestral'\n",
    "group3[''] = 'Nonessential -> \\nEssential'\n",
    "\n",
    "group4['log(Expression level)'] = np.log(evo_expression2[evo_expression2>-1]+1)\n",
    "group4['Population'] = 'Evolved'\n",
    "group4[''] = 'Nonessential -> \\nEssential'"
   ]
  },
  {
   "cell_type": "code",
   "execution_count": 313,
   "id": "major-coral",
   "metadata": {},
   "outputs": [
    {
     "name": "stderr",
     "output_type": "stream",
     "text": [
      "/var/folders/f8/92wybs9d7wqfthlqj1drht_c0000gn/T/ipykernel_20621/3789841112.py:1: FutureWarning: The frame.append method is deprecated and will be removed from pandas in a future version. Use pandas.concat instead.\n",
      "  expression_comparison = expression_comparison.append(group1)\n",
      "/var/folders/f8/92wybs9d7wqfthlqj1drht_c0000gn/T/ipykernel_20621/3789841112.py:2: FutureWarning: The frame.append method is deprecated and will be removed from pandas in a future version. Use pandas.concat instead.\n",
      "  expression_comparison = expression_comparison.append(group2)\n",
      "/var/folders/f8/92wybs9d7wqfthlqj1drht_c0000gn/T/ipykernel_20621/3789841112.py:3: FutureWarning: The frame.append method is deprecated and will be removed from pandas in a future version. Use pandas.concat instead.\n",
      "  expression_comparison = expression_comparison.append(group3)\n",
      "/var/folders/f8/92wybs9d7wqfthlqj1drht_c0000gn/T/ipykernel_20621/3789841112.py:4: FutureWarning: The frame.append method is deprecated and will be removed from pandas in a future version. Use pandas.concat instead.\n",
      "  expression_comparison = expression_comparison.append(group4)\n"
     ]
    }
   ],
   "source": [
    "expression_comparison = expression_comparison.append(group1)\n",
    "expression_comparison = expression_comparison.append(group2)\n",
    "expression_comparison = expression_comparison.append(group3)\n",
    "expression_comparison = expression_comparison.append(group4)"
   ]
  },
  {
   "cell_type": "code",
   "execution_count": 314,
   "id": "numeric-stability",
   "metadata": {},
   "outputs": [
    {
     "data": {
      "image/png": "[encoded data removed]",
      "text/plain": [
       "<Figure size 241.92x172.8 with 2 Axes>"
      ]
     },
     "metadata": {},
     "output_type": "display_data"
    }
   ],
   "source": [
    "with sns.axes_style('ticks'):\n",
    "    g = sns.catplot(x=\"Population\", y=\"log(Expression level)\", col=\"\",\n",
    "                    data=expression_comparison, kind=\"violin\", split=False,\n",
    "                    height=2.4, aspect=.7);\n",
    "    g.savefig(figpath+'expression_diff_ess.pdf', format='pdf', bbox_inches='tight')"
   ]
  },
  {
   "cell_type": "code",
   "execution_count": 315,
   "id": "civil-north",
   "metadata": {},
   "outputs": [
    {
     "data": {
      "text/plain": [
       "MannwhitneyuResult(statistic=8508.0, pvalue=0.4592480384146387)"
      ]
     },
     "execution_count": 315,
     "metadata": {},
     "output_type": "execute_result"
    }
   ],
   "source": [
    "mannwhitneyu(np.log(anc_expression+1), np.log(evo_expression+1))"
   ]
  },
  {
   "cell_type": "markdown",
   "id": "uniform-exhaust",
   "metadata": {},
   "source": [
    "## Figure 4: Changes in gene essentiality linked to structural variation"
   ]
  },
  {
   "cell_type": "code",
   "execution_count": 877,
   "id": "3834be20",
   "metadata": {},
   "outputs": [],
   "source": [
    "#duplicated regions in four populations. Got coordinates from examination of relative coverage and where it changes significantly from 1\n",
    "\n",
    "dup389 = np.loadtxt(repo+'/Analysis/Part_2_WGS_analysis/Duplicated_genes_REL11389_Ara-6.txt')\n",
    "dup364 = np.loadtxt(repo+'/Analysis/Part_2_WGS_analysis/Duplicated_genes_REL11364_Ara-3.txt')\n",
    "dup342 = np.loadtxt(repo+'/Analysis/Part_2_WGS_analysis/Duplicated_genes_REL11342_Ara+2.txt')\n",
    "dup367 = np.loadtxt(repo+'/Analysis/Part_2_WGS_analysis/Duplicated_genes_REL11367_Ara+5.txt')"
   ]
  },
  {
   "cell_type": "code",
   "execution_count": 878,
   "id": "improved-professional",
   "metadata": {},
   "outputs": [],
   "source": [
    "dup_any = list(set(dup389) | set(dup364) | set(dup342) | set(dup367))"
   ]
  },
  {
   "cell_type": "code",
   "execution_count": 704,
   "id": "substantial-mailman",
   "metadata": {},
   "outputs": [
    {
     "name": "stdout",
     "output_type": "stream",
     "text": [
      "38 nonessential in duplicated regions\n",
      "67 nonessential overall\n"
     ]
    }
   ],
   "source": [
    "print(np.sum(diff_ess_combined[dup389.astype('int'),libraries4[2:].index('Ara–6')]==1), 'nonessential in duplicated regions')\n",
    "print(np.sum(diff_ess_combined[:,libraries4[2:].index('Ara–6')]==1), 'nonessential overall')\n",
    "dup389_count = np.sum(diff_ess_combined[dup389.astype('int'),libraries4[2:].index('Ara–6')]==1)"
   ]
  },
  {
   "cell_type": "code",
   "execution_count": 705,
   "id": "viral-tyler",
   "metadata": {},
   "outputs": [
    {
     "name": "stdout",
     "output_type": "stream",
     "text": [
      "0 nonessential in duplicated regions\n",
      "6 nonessential overall\n"
     ]
    }
   ],
   "source": [
    "print(np.sum(diff_ess_combined[dup364.astype('int'),libraries4[2:].index('Ara–3')]==1), 'nonessential in duplicated regions')\n",
    "print(np.sum(diff_ess_combined[:,libraries4[2:].index('Ara–3')]==1), 'nonessential overall')\n",
    "dup364_count = np.sum(diff_ess_combined[dup364.astype('int'),libraries4[2:].index('Ara–3')]==1)"
   ]
  },
  {
   "cell_type": "code",
   "execution_count": 706,
   "id": "younger-justice",
   "metadata": {},
   "outputs": [
    {
     "name": "stdout",
     "output_type": "stream",
     "text": [
      "7 nonessential in duplicated regions\n",
      "16 nonessential overall\n"
     ]
    }
   ],
   "source": [
    "print(np.sum(diff_ess_combined[dup342.astype('int'),libraries4[2:].index('Ara+2')]==1), 'nonessential in duplicated regions')\n",
    "print(np.sum(diff_ess_combined[:,libraries4[2:].index('Ara+2')]==1), 'nonessential overall')\n",
    "dup342_count = np.sum(diff_ess_combined[dup342.astype('int'),libraries4[2:].index('Ara+2')]==1)"
   ]
  },
  {
   "cell_type": "code",
   "execution_count": 707,
   "id": "departmental-platinum",
   "metadata": {},
   "outputs": [
    {
     "name": "stdout",
     "output_type": "stream",
     "text": [
      "0 nonessential in duplicated regions\n",
      "8 nonessential overall\n"
     ]
    }
   ],
   "source": [
    "print(np.sum(diff_ess_combined[dup367.astype('int'),libraries4[2:].index('Ara+5')]==1), 'nonessential in duplicated regions')\n",
    "print(np.sum(diff_ess_combined[:,libraries4[2:].index('Ara+5')]==1), 'nonessential overall')\n",
    "dup367_count = np.sum(diff_ess_combined[dup367.astype('int'),libraries4[2:].index('Ara+5')]==1)"
   ]
  },
  {
   "cell_type": "code",
   "execution_count": 708,
   "id": "connected-onion",
   "metadata": {},
   "outputs": [],
   "source": [
    "dup_noness = [0,dup364_count,0,0,dup389_count,0,dup342_count,0,dup367_count,0]"
   ]
  },
  {
   "cell_type": "markdown",
   "id": "necessary-hawaii",
   "metadata": {},
   "source": [
    "### b) number of changes linked to duplication"
   ]
  },
  {
   "cell_type": "code",
   "execution_count": 324,
   "id": "meaningful-accountability",
   "metadata": {},
   "outputs": [
    {
     "data": {
      "image/png": "[encoded data removed]",
      "text/plain": [
       "<Figure size 216x144 with 1 Axes>"
      ]
     },
     "metadata": {},
     "output_type": "display_data"
    }
   ],
   "source": [
    "with sns.axes_style('ticks'):\n",
    "    f, ax = plt.subplots(figsize=(3, 2))\n",
    "    ax.bar(libraries4[2:], np.sum(diff_ess_combined==1,axis=0),color=sns.mpl_palette('viridis',2)[0], label='Essential -> nonessential')\n",
    "    ax.bar(libraries4[2:], dup_noness, color=sns.mpl_palette('bone',2)[1], label='Essential -> nonessential\\ndue to duplication')\n",
    "    ax.legend(loc=0, frameon=False, bbox_to_anchor=(0.5,1))\n",
    "    sns.despine(offset=0)\n",
    "\n",
    "    ax.set_ylabel('Number of genes')\n",
    "    ax.tick_params(axis='x', labelrotation = 45, labelsize=9)\n",
    "#     f.savefig(figpath+'redundant.pdf', format='pdf',bbox_inches='tight')"
   ]
  },
  {
   "cell_type": "markdown",
   "id": "satisfied-conditions",
   "metadata": {},
   "source": [
    "### c) Comparison of coverage and spatial localization of differentially essential genes"
   ]
  },
  {
   "cell_type": "code",
   "execution_count": 325,
   "id": "controversial-beads",
   "metadata": {},
   "outputs": [],
   "source": [
    "coverage_am6 = np.loadtxt(repo+'/Analysis/Part_2_WGS_analysis/ara-6_coverage_relative_to_anc.txt')"
   ]
  },
  {
   "cell_type": "code",
   "execution_count": 326,
   "id": "fifteen-friendly",
   "metadata": {},
   "outputs": [],
   "source": [
    "from mpl_toolkits.axes_grid1.inset_locator import zoomed_inset_axes,inset_axes\n",
    "from mpl_toolkits.axes_grid1.inset_locator import mark_inset"
   ]
  },
  {
   "cell_type": "code",
   "execution_count": 328,
   "id": "appropriate-oxford",
   "metadata": {
    "scrolled": true
   },
   "outputs": [
    {
     "data": {
      "image/png": "[encoded data removed]",
      "text/plain": [
       "<Figure size 216x216 with 2 Axes>"
      ]
     },
     "metadata": {},
     "output_type": "display_data"
    }
   ],
   "source": [
    "fig,ax = plt.subplots(2,figsize=(3,3),sharex=True)\n",
    "ax[0].hist(np.where(diff_ess_combined[:, 4]==1), bins=np.linspace(0, 4017, 50))\n",
    "ax[1].plot(coverage_am6)\n",
    "ax[0].set(title='Number of genes\\nbecoming nonessential')\n",
    "ax[1].set(title='Ara–6 coverage \\nnormalized to ancestor', xlabel='Gene Number')\n",
    "plt.subplots_adjust(hspace=1)\n",
    "sns.despine(offset=0)\n",
    "\n",
    "\n",
    "\n",
    "# fig.savefig(figpath+'araM6_coverage.pdf', format='pdf', bbox_inches='tight')"
   ]
  },
  {
   "cell_type": "code",
   "execution_count": 329,
   "id": "mounted-geology",
   "metadata": {},
   "outputs": [
    {
     "data": {
      "image/png": "[encoded data removed]",
      "text/plain": [
       "<Figure size 72x36 with 1 Axes>"
      ]
     },
     "metadata": {},
     "output_type": "display_data"
    }
   ],
   "source": [
    "with sns.axes_style('white'):\n",
    "    fig,ax = plt.subplots(figsize=(1,0.5),sharey=True)\n",
    "    ax.plot(np.linspace(3570,3630,60), coverage_am6[3570:3630])\n",
    "    ax.set_xticklabels('')\n",
    "    ax.set_yticklabels('')\n",
    "\n",
    "    sns.despine(offset=0)\n",
    "#     fig.savefig(figpath+'araM6_coverage_zoomed.pdf', format='pdf', bbox_inches='tight')"
   ]
  },
  {
   "cell_type": "markdown",
   "id": "444467f5",
   "metadata": {},
   "source": [
    "### a) Loss of homologs and induced gene essentiality"
   ]
  },
  {
   "cell_type": "code",
   "execution_count": 838,
   "id": "designing-mitchell",
   "metadata": {},
   "outputs": [],
   "source": [
    "rffG = np.load(datapath+'/rffG_trajectories.npy')\n",
    "rffH = np.load(datapath+'/rffH_trajectories.npy')"
   ]
  },
  {
   "cell_type": "code",
   "execution_count": 839,
   "id": "little-cardiff",
   "metadata": {},
   "outputs": [],
   "source": [
    "def construct_dict_rffG(input_array,trajectory,pop,gene):\n",
    "    assert len(trajectory) == 5\n",
    "    for k in range(len(trajectory)):\n",
    "        dict1 = {}\n",
    "        dict1[\"timepoint\"] = k\n",
    "        dict1[\"number of reads per TA site\"] = trajectory[k]\n",
    "        dict1[\"population\"] = libraries2[pop]\n",
    "        dict1[\"gene\"] = '$\\it{rffG}$'\n",
    "        if exclude_genes[pop,list(names).index('rfbB')]==1:\n",
    "            dict1[\"homolog\"] = 'absent'\n",
    "        else:\n",
    "            dict1[\"homolog\"] = 'present'\n",
    "        input_array.append(dict1)\n",
    "    return None"
   ]
  },
  {
   "cell_type": "code",
   "execution_count": 840,
   "id": "animated-phoenix",
   "metadata": {},
   "outputs": [],
   "source": [
    "def construct_dict_rffH(input_array,trajectory,pop,gene):\n",
    "    assert len(trajectory) == 5\n",
    "    for k in range(len(trajectory)):\n",
    "        dict1 = {}\n",
    "        dict1[\"timepoint\"] = k\n",
    "        dict1[\"number of reads per TA site\"] = trajectory[k]\n",
    "        dict1[\"population\"] = libraries2[pop]\n",
    "        dict1[\"gene\"] = '$\\it{rffH}$'\n",
    "        \n",
    "        if exclude_genes[pop,list(names).index('rfbA')]==1:\n",
    "            dict1[\"homolog\"] = 'absent'\n",
    "        else:\n",
    "            dict1[\"homolog\"] = 'present'\n",
    "        input_array.append(dict1)\n",
    "    return None"
   ]
  },
  {
   "cell_type": "code",
   "execution_count": 841,
   "id": "selective-closer",
   "metadata": {},
   "outputs": [],
   "source": [
    "rows_list = []"
   ]
  },
  {
   "cell_type": "code",
   "execution_count": 842,
   "id": "declared-technique",
   "metadata": {},
   "outputs": [],
   "source": [
    "for k in range(0,len(libraries)):\n",
    "    if k not in [3,11]:\n",
    "        for site in range(rffG.shape[2]):\n",
    "            construct_dict_rffG(rows_list, rffG[k,:,site], k, 'rffG')"
   ]
  },
  {
   "cell_type": "code",
   "execution_count": 843,
   "id": "signed-gateway",
   "metadata": {},
   "outputs": [],
   "source": [
    "rffG_df = pd.DataFrame(rows_list)"
   ]
  },
  {
   "cell_type": "code",
   "execution_count": 844,
   "id": "funny-processing",
   "metadata": {},
   "outputs": [],
   "source": [
    "rows_list = []\n",
    "\n",
    "for k in range(0,len(libraries)):\n",
    "    if k not in [3,11]:\n",
    "        for site in range(rffH.shape[2]):\n",
    "            construct_dict_rffH(rows_list, rffH[k,:,site], k, 'rffH')"
   ]
  },
  {
   "cell_type": "code",
   "execution_count": 845,
   "id": "numeric-southeast",
   "metadata": {},
   "outputs": [],
   "source": [
    "rffH_df = pd.DataFrame(rows_list)"
   ]
  },
  {
   "cell_type": "code",
   "execution_count": 846,
   "id": "handed-space",
   "metadata": {},
   "outputs": [
    {
     "name": "stderr",
     "output_type": "stream",
     "text": [
      "/var/folders/f8/92wybs9d7wqfthlqj1drht_c0000gn/T/ipykernel_20621/3270852756.py:1: FutureWarning: The frame.append method is deprecated and will be removed from pandas in a future version. Use pandas.concat instead.\n",
      "  rff_df = rffG_df.append(rffH_df)\n"
     ]
    }
   ],
   "source": [
    "rff_df = rffG_df.append(rffH_df)"
   ]
  },
  {
   "cell_type": "code",
   "execution_count": 847,
   "id": "3fb40897",
   "metadata": {},
   "outputs": [
    {
     "data": {
      "image/png": "[encoded data removed]",
      "text/plain": [
       "<Figure size 234.105x144 with 2 Axes>"
      ]
     },
     "metadata": {},
     "output_type": "display_data"
    }
   ],
   "source": [
    "with sns.axes_style('ticks'):\n",
    "\n",
    "    ax = sns.relplot(kind='line',data=rff_df, x='timepoint',y='number of reads per TA site',hue='homolog',palette='coolwarm', col='gene',\n",
    "                    height=2, aspect=0.6)\n",
    "    ax.set(yscale=\"log\", xticks=np.linspace(0,4,5), ylabel='number of reads\\nper TA site', xlabel='Time (days)')\n",
    "    \n",
    "#     ax.savefig(figpath+'rffG_rffH_trajectories.pdf', format='pdf', bbox_inches='tight')\n"
   ]
  },
  {
   "cell_type": "markdown",
   "id": "based-rebate",
   "metadata": {},
   "source": [
    "### d) Parallelism in differential essentiality after accounting for gene loss/duplication"
   ]
  },
  {
   "cell_type": "code",
   "execution_count": 889,
   "id": "illegal-customs",
   "metadata": {},
   "outputs": [],
   "source": [
    "eca_genes = np.arange(3432, 3438)"
   ]
  },
  {
   "cell_type": "code",
   "execution_count": 890,
   "id": "overhead-chaos",
   "metadata": {},
   "outputs": [],
   "source": [
    "#note: only removing duplicated genes that are duplicated in Ara-6 and Ara+2 as those are the only populations where this \n",
    "#duplication leads to differential essentiality\n",
    "remove_genes = set(dup389)| set(dup342) | set(eca_genes)\n",
    "retain_genes = list(set(np.arange(0,len(names))) - remove_genes)"
   ]
  },
  {
   "cell_type": "code",
   "execution_count": 727,
   "id": "twenty-tuning",
   "metadata": {},
   "outputs": [],
   "source": [
    "#differential essentiality for genes that are not linked to structurl variation\n",
    "diff_ess_not_struct = diff_ess_combined[retain_genes,:]"
   ]
  },
  {
   "cell_type": "code",
   "execution_count": 728,
   "id": "senior-thunder",
   "metadata": {},
   "outputs": [],
   "source": [
    "ess_ev_not_struct = np.sum(diff_ess_not_struct==2,axis=1)\n",
    "ess_anc_not_struct = np.sum(diff_ess_not_struct==1,axis=1)"
   ]
  },
  {
   "cell_type": "code",
   "execution_count": 729,
   "id": "proof-bunny",
   "metadata": {},
   "outputs": [],
   "source": [
    "unique_not_struct,counts_essev_not_struct = np.unique(ess_ev_not_struct, return_counts=True)\n",
    "unique2_not_struct,counts_essanc_not_struct = np.unique(ess_anc_not_struct, return_counts=True)"
   ]
  },
  {
   "cell_type": "code",
   "execution_count": 730,
   "id": "about-message",
   "metadata": {},
   "outputs": [],
   "source": [
    "sims = 10**4\n",
    "results_essanc_not_struct = np.zeros(len(pops_include)+1)\n",
    "results_essev_not_struct = np.zeros(len(pops_include)+1)"
   ]
  },
  {
   "cell_type": "code",
   "execution_count": 731,
   "id": "willing-corpus",
   "metadata": {},
   "outputs": [],
   "source": [
    "for i in range(sims):\n",
    "    #shuffle:\n",
    "    shuffled_diff_essentiality = np.zeros([len(retain_genes),len(pops_include)])\n",
    "    #shuffling the data for each population:\n",
    "    for k in range(0,len(pops_include)):\n",
    "        shuffled_diff_essentiality[:,k] = np.random.permutation(diff_ess_not_struct[:,k])\n",
    "    \n",
    "    shuffled_ess_ev = np.sum(shuffled_diff_essentiality==2,axis=1)\n",
    "    shuffled_ess_anc = np.sum(shuffled_diff_essentiality==1,axis=1)\n",
    "    unique_shuffled, counts_essev_shuffled = np.unique(shuffled_ess_ev, return_counts=True)\n",
    "    unique2_shuffled, counts_essanc_shuffled = np.unique(shuffled_ess_anc, return_counts=True)\n",
    "    results_essanc_not_struct[unique2_shuffled] += counts_essanc_shuffled\n",
    "    results_essev_not_struct[unique_shuffled] += counts_essev_shuffled"
   ]
  },
  {
   "cell_type": "code",
   "execution_count": 732,
   "id": "accredited-nursery",
   "metadata": {},
   "outputs": [
    {
     "data": {
      "image/png": "[encoded data removed]",
      "text/plain": [
       "<Figure size 216x144 with 2 Axes>"
      ]
     },
     "metadata": {},
     "output_type": "display_data"
    }
   ],
   "source": [
    "with sns.axes_style('ticks'):\n",
    "    fig, ax = plt.subplots(1,2, figsize=(3,2),sharey=True)\n",
    "    actual_ess = counts_essev_not_struct[1:]\n",
    "    simulated = results_essev_not_struct[1:]/sims\n",
    "    ax[0].plot(unique_not_struct[1:], np.cumsum(actual_ess[::-1])[::-1] , color=sns.mpl_palette('viridis',2)[1], alpha=0.5)\n",
    "    ax[0].plot(unique_not_struct[1:], np.cumsum(actual_ess[::-1])[::-1] ,'o',label='Nonessential -> Essential',color=sns.mpl_palette('viridis',2)[1])\n",
    "    ax[0].plot(np.linspace(1,len(pops_include),len(pops_include)), np.cumsum(simulated[::-1])[::-1] , color=\"black\",alpha=0.5)\n",
    "    ax[0].plot(np.linspace(1,len(pops_include),len(pops_include)), np.cumsum(simulated[::-1])[::-1] , 'o',color=\"black\")\n",
    "    \n",
    "    ax[0].set(yscale='log', xticks = np.linspace(1,len(pops_include),len(pops_include)), ylabel='Number of genes\\n with multiplicity >= $\\it{m}$', xlim=(1,8))\n",
    "    \n",
    "    actual_noness = counts_essanc_not_struct[1:]\n",
    "    simulated = results_essanc_not_struct[1:]/sims\n",
    "    \n",
    "    \n",
    "    ax[1].plot(unique2_not_struct[1:], np.cumsum(actual_noness[::-1])[::-1] ,color=sns.mpl_palette('viridis',2)[0], alpha=0.5)\n",
    "    ax[1].plot(unique2_not_struct[1:], np.cumsum(actual_noness[::-1])[::-1] ,'o',label='Essential -> Nonessential',color=sns.mpl_palette('viridis',2)[0])\n",
    "\n",
    "    ax[1].plot(np.linspace(1,len(pops_include),len(pops_include)), np.cumsum(simulated[::-1])[::-1] , color=\"black\",alpha=0.5)\n",
    "    ax[1].plot(np.linspace(1,len(pops_include),len(pops_include)), np.cumsum(simulated[::-1])[::-1] , 'o', color=\"black\",label='Expectation due to chance')\n",
    "\n",
    "    ax[1].set(yscale='log', xticks = np.linspace(1,len(pops_include),len(pops_include)), xlim=(1,8))\n",
    "\n",
    "    fig.text(0.12, -0.15, 'Multiplicity $\\it{m}$: number of evolved clones\\n where gene is differentially essential ')\n",
    "    \n",
    "    \n",
    "    lines = []\n",
    "    labels = []\n",
    "\n",
    "    for ax in fig.axes:\n",
    "        axLine, axLabel = ax.get_legend_handles_labels()\n",
    "        lines.extend(axLine)\n",
    "        labels.extend(axLabel)\n",
    "        \n",
    "    fig.legend(lines, labels,           \n",
    "           bbox_to_anchor=(0.8,1.25),ncol=1,frameon=False)\n",
    "    \n",
    "    sns.despine(offset=0)\n",
    "    \n",
    "#     fig.savefig(figpath+'diff_essentiality_not_struct.pdf', format='pdf', bbox_inches='tight')\n",
    "    "
   ]
  },
  {
   "cell_type": "markdown",
   "id": "activated-variation",
   "metadata": {},
   "source": [
    "## Output: Gene lists for gene ontology analysis\n",
    "\n",
    "I export a csv file with list of genes that are differentially essential in at least two populations for downstream gene ontology analysis as the goal is to identify potential physiological processes that are important/less important for fitness. Changes happening in only one population may be random and not reflect any interesting patterns."
   ]
  },
  {
   "cell_type": "code",
   "execution_count": 733,
   "id": "alpine-vertex",
   "metadata": {},
   "outputs": [],
   "source": [
    "diffpops = np.array(libraries4[2:])"
   ]
  },
  {
   "cell_type": "code",
   "execution_count": 734,
   "id": "sublime-fundamentals",
   "metadata": {},
   "outputs": [],
   "source": [
    "non_ess_rows = []"
   ]
  },
  {
   "cell_type": "code",
   "execution_count": 735,
   "id": "indie-encyclopedia",
   "metadata": {},
   "outputs": [],
   "source": [
    "for genes in list(set(plot_anc)-set(remove_genes)):\n",
    "    if np.sum(diff_ess_combined[genes]==1)>1:\n",
    "        pops = np.where(diff_ess_combined[genes]==1)[0]\n",
    "        \n",
    "#         print(names[genes],';',diffpops[pops])\n",
    "        \n",
    "        dict1={}\n",
    "        dict1[\"gene\"] = names[genes]\n",
    "        dict1[\"populations where gene becomes nonessential over evolution\"] = str(set(diffpops[pops]))[1:-1]\n",
    "        dict1[\"protein product\"] = product[genes]\n",
    "        non_ess_rows.append(dict1)"
   ]
  },
  {
   "cell_type": "code",
   "execution_count": 736,
   "id": "exciting-bosnia",
   "metadata": {},
   "outputs": [],
   "source": [
    "df_noness_parallel = pd.DataFrame(non_ess_rows)"
   ]
  },
  {
   "cell_type": "code",
   "execution_count": 737,
   "id": "taken-tamil",
   "metadata": {},
   "outputs": [
    {
     "data": {
      "text/html": [
       "<div>\n",
       "<style scoped>\n",
       "    .dataframe tbody tr th:only-of-type {\n",
       "        vertical-align: middle;\n",
       "    }\n",
       "\n",
       "    .dataframe tbody tr th {\n",
       "        vertical-align: top;\n",
       "    }\n",
       "\n",
       "    .dataframe thead th {\n",
       "        text-align: right;\n",
       "    }\n",
       "</style>\n",
       "<table border=\"1\" class=\"dataframe\">\n",
       "  <thead>\n",
       "    <tr style=\"text-align: right;\">\n",
       "      <th></th>\n",
       "      <th>gene</th>\n",
       "      <th>populations where gene becomes nonessential over evolution</th>\n",
       "      <th>protein product</th>\n",
       "    </tr>\n",
       "  </thead>\n",
       "  <tbody>\n",
       "    <tr>\n",
       "      <th>0</th>\n",
       "      <td>nicS</td>\n",
       "      <td>'Ara+1', 'Ara–5'</td>\n",
       "      <td>['HTH-type transcriptional repressor NicS']</td>\n",
       "    </tr>\n",
       "    <tr>\n",
       "      <th>1</th>\n",
       "      <td>yeiL</td>\n",
       "      <td>'Ara+6', 'Ara–5', 'Ara–4', 'Ara+2', 'Ara+1'</td>\n",
       "      <td>putative DNA-binding transcriptional regulator...</td>\n",
       "    </tr>\n",
       "    <tr>\n",
       "      <th>2</th>\n",
       "      <td>zwf</td>\n",
       "      <td>'Ara+6', 'Ara–4', 'Ara–1', 'Ara–6', 'Ara–3', '...</td>\n",
       "      <td>NADP(+)-dependent glucose-6-phosphate dehydrog...</td>\n",
       "    </tr>\n",
       "    <tr>\n",
       "      <th>3</th>\n",
       "      <td>holD</td>\n",
       "      <td>'Ara–3', 'Ara+1'</td>\n",
       "      <td>DNA polymerase III subunit psi</td>\n",
       "    </tr>\n",
       "    <tr>\n",
       "      <th>4</th>\n",
       "      <td>ruvB</td>\n",
       "      <td>'Ara–3', 'Ara–6', 'Ara+5'</td>\n",
       "      <td>Holliday junction branch migration complex sub...</td>\n",
       "    </tr>\n",
       "    <tr>\n",
       "      <th>5</th>\n",
       "      <td>ruvA</td>\n",
       "      <td>'Ara–3', 'Ara–6', 'Ara+1', 'Ara+5'</td>\n",
       "      <td>Holliday junction branch migration complex sub...</td>\n",
       "    </tr>\n",
       "    <tr>\n",
       "      <th>6</th>\n",
       "      <td>ruvC</td>\n",
       "      <td>'Ara–3', 'Ara–6', 'Ara+5'</td>\n",
       "      <td>crossover junction endodeoxyribonuclease RuvC</td>\n",
       "    </tr>\n",
       "    <tr>\n",
       "      <th>7</th>\n",
       "      <td>yejM</td>\n",
       "      <td>'Ara+6', 'Ara–6', 'Ara–4', 'Ara+5'</td>\n",
       "      <td>LPS homeostasis protein YejM</td>\n",
       "    </tr>\n",
       "    <tr>\n",
       "      <th>8</th>\n",
       "      <td>cydD</td>\n",
       "      <td>'Ara+2', 'Ara+3'</td>\n",
       "      <td>glutathione/L-cysteine ABC exporter subunit CydD</td>\n",
       "    </tr>\n",
       "    <tr>\n",
       "      <th>9</th>\n",
       "      <td>arcA</td>\n",
       "      <td>'Ara+2', 'Ara–4'</td>\n",
       "      <td>DNA-binding transcriptional dual regulator ArcA</td>\n",
       "    </tr>\n",
       "    <tr>\n",
       "      <th>10</th>\n",
       "      <td>phoU</td>\n",
       "      <td>'Ara+6', 'Ara–4'</td>\n",
       "      <td>negative regulator of the pho regulon</td>\n",
       "    </tr>\n",
       "    <tr>\n",
       "      <th>11</th>\n",
       "      <td>pstB</td>\n",
       "      <td>'Ara+6', 'Ara–4'</td>\n",
       "      <td>phosphate ABC transporter ATP binding subunit</td>\n",
       "    </tr>\n",
       "    <tr>\n",
       "      <th>12</th>\n",
       "      <td>pstC</td>\n",
       "      <td>'Ara+2', 'Ara+6', 'Ara+3', 'Ara–4'</td>\n",
       "      <td>phosphate ABC transporter membrane subunit PstC</td>\n",
       "    </tr>\n",
       "    <tr>\n",
       "      <th>13</th>\n",
       "      <td>yhiJ</td>\n",
       "      <td>'Ara–1', 'Ara–4'</td>\n",
       "      <td>DUF4049 domain-containing protein YhiJ</td>\n",
       "    </tr>\n",
       "    <tr>\n",
       "      <th>14</th>\n",
       "      <td>hns</td>\n",
       "      <td>'Ara+2', 'Ara+6', 'Ara–4', 'Ara+5'</td>\n",
       "      <td>DNA-binding transcriptional dual regulator H-NS</td>\n",
       "    </tr>\n",
       "    <tr>\n",
       "      <th>15</th>\n",
       "      <td>clpP</td>\n",
       "      <td>'Ara–1', 'Ara–5'</td>\n",
       "      <td>ATP-dependent Clp protease proteolytic subunit</td>\n",
       "    </tr>\n",
       "    <tr>\n",
       "      <th>16</th>\n",
       "      <td>cydA</td>\n",
       "      <td>'Ara+2', 'Ara+3', 'Ara+5'</td>\n",
       "      <td>cytochrome bd-I ubiquinol oxidase subunit I</td>\n",
       "    </tr>\n",
       "    <tr>\n",
       "      <th>17</th>\n",
       "      <td>cydB</td>\n",
       "      <td>'Ara+2', 'Ara+3'</td>\n",
       "      <td>cytochrome bd-I ubiquinol oxidase subunit II</td>\n",
       "    </tr>\n",
       "    <tr>\n",
       "      <th>18</th>\n",
       "      <td>ompA</td>\n",
       "      <td>'Ara+2', 'Ara–5', 'Ara+5'</td>\n",
       "      <td>outer membrane protein A</td>\n",
       "    </tr>\n",
       "  </tbody>\n",
       "</table>\n",
       "</div>"
      ],
      "text/plain": [
       "    gene populations where gene becomes nonessential over evolution  \\\n",
       "0   nicS                                   'Ara+1', 'Ara–5'           \n",
       "1   yeiL        'Ara+6', 'Ara–5', 'Ara–4', 'Ara+2', 'Ara+1'           \n",
       "2    zwf  'Ara+6', 'Ara–4', 'Ara–1', 'Ara–6', 'Ara–3', '...           \n",
       "3   holD                                   'Ara–3', 'Ara+1'           \n",
       "4   ruvB                          'Ara–3', 'Ara–6', 'Ara+5'           \n",
       "5   ruvA                 'Ara–3', 'Ara–6', 'Ara+1', 'Ara+5'           \n",
       "6   ruvC                          'Ara–3', 'Ara–6', 'Ara+5'           \n",
       "7   yejM                 'Ara+6', 'Ara–6', 'Ara–4', 'Ara+5'           \n",
       "8   cydD                                   'Ara+2', 'Ara+3'           \n",
       "9   arcA                                   'Ara+2', 'Ara–4'           \n",
       "10  phoU                                   'Ara+6', 'Ara–4'           \n",
       "11  pstB                                   'Ara+6', 'Ara–4'           \n",
       "12  pstC                 'Ara+2', 'Ara+6', 'Ara+3', 'Ara–4'           \n",
       "13  yhiJ                                   'Ara–1', 'Ara–4'           \n",
       "14   hns                 'Ara+2', 'Ara+6', 'Ara–4', 'Ara+5'           \n",
       "15  clpP                                   'Ara–1', 'Ara–5'           \n",
       "16  cydA                          'Ara+2', 'Ara+3', 'Ara+5'           \n",
       "17  cydB                                   'Ara+2', 'Ara+3'           \n",
       "18  ompA                          'Ara+2', 'Ara–5', 'Ara+5'           \n",
       "\n",
       "                                      protein product  \n",
       "0         ['HTH-type transcriptional repressor NicS']  \n",
       "1   putative DNA-binding transcriptional regulator...  \n",
       "2   NADP(+)-dependent glucose-6-phosphate dehydrog...  \n",
       "3                      DNA polymerase III subunit psi  \n",
       "4   Holliday junction branch migration complex sub...  \n",
       "5   Holliday junction branch migration complex sub...  \n",
       "6       crossover junction endodeoxyribonuclease RuvC  \n",
       "7                        LPS homeostasis protein YejM  \n",
       "8    glutathione/L-cysteine ABC exporter subunit CydD  \n",
       "9     DNA-binding transcriptional dual regulator ArcA  \n",
       "10              negative regulator of the pho regulon  \n",
       "11      phosphate ABC transporter ATP binding subunit  \n",
       "12    phosphate ABC transporter membrane subunit PstC  \n",
       "13             DUF4049 domain-containing protein YhiJ  \n",
       "14    DNA-binding transcriptional dual regulator H-NS  \n",
       "15     ATP-dependent Clp protease proteolytic subunit  \n",
       "16        cytochrome bd-I ubiquinol oxidase subunit I  \n",
       "17       cytochrome bd-I ubiquinol oxidase subunit II  \n",
       "18                           outer membrane protein A  "
      ]
     },
     "execution_count": 737,
     "metadata": {},
     "output_type": "execute_result"
    }
   ],
   "source": [
    "df_noness_parallel"
   ]
  },
  {
   "cell_type": "code",
   "execution_count": 738,
   "id": "limited-kinase",
   "metadata": {},
   "outputs": [],
   "source": [
    "# df_noness_parallel.to_csv(repo+'/Analysis/Supplementary_tables/parallel_nonessential_genes.csv')"
   ]
  },
  {
   "cell_type": "code",
   "execution_count": 564,
   "id": "artistic-burst",
   "metadata": {},
   "outputs": [],
   "source": [
    "ess_rows = []"
   ]
  },
  {
   "cell_type": "code",
   "execution_count": 565,
   "id": "younger-omega",
   "metadata": {},
   "outputs": [],
   "source": [
    "for genes in list(set(plot_ev)-set(remove_genes)):\n",
    "    if np.sum(diff_ess_combined[genes]==2)>1:\n",
    "        pops = np.where(diff_ess_combined[genes]==2)[0]\n",
    "\n",
    "#         print(names[genes], ';',diffpops[pops])\n",
    "        \n",
    "        dict1={}\n",
    "        dict1[\"gene\"] = names[genes]\n",
    "        dict1[\"populations where gene becomes nonessential over evolution\"] = str(set(diffpops[pops]))[1:-1]\n",
    "        dict1[\"protein product\"] = product[genes]\n",
    "        ess_rows.append(dict1)"
   ]
  },
  {
   "cell_type": "code",
   "execution_count": 566,
   "id": "experienced-operations",
   "metadata": {},
   "outputs": [],
   "source": [
    "df_ess_parallel = pd.DataFrame(ess_rows)"
   ]
  },
  {
   "cell_type": "code",
   "execution_count": 567,
   "id": "dated-savage",
   "metadata": {
    "scrolled": true
   },
   "outputs": [
    {
     "data": {
      "text/html": [
       "<div>\n",
       "<style scoped>\n",
       "    .dataframe tbody tr th:only-of-type {\n",
       "        vertical-align: middle;\n",
       "    }\n",
       "\n",
       "    .dataframe tbody tr th {\n",
       "        vertical-align: top;\n",
       "    }\n",
       "\n",
       "    .dataframe thead th {\n",
       "        text-align: right;\n",
       "    }\n",
       "</style>\n",
       "<table border=\"1\" class=\"dataframe\">\n",
       "  <thead>\n",
       "    <tr style=\"text-align: right;\">\n",
       "      <th></th>\n",
       "      <th>gene</th>\n",
       "      <th>populations where gene becomes nonessential over evolution</th>\n",
       "      <th>protein product</th>\n",
       "    </tr>\n",
       "  </thead>\n",
       "  <tbody>\n",
       "    <tr>\n",
       "      <th>0</th>\n",
       "      <td>ftsP</td>\n",
       "      <td>'Ara–3', 'Ara+3', 'Ara+5'</td>\n",
       "      <td>cell division protein required during stress c...</td>\n",
       "    </tr>\n",
       "    <tr>\n",
       "      <th>1</th>\n",
       "      <td>nhaA</td>\n",
       "      <td>'Ara–1', 'Ara+3', 'Ara–6', 'Ara–5'</td>\n",
       "      <td>Na(+):H(+) antiporter NhaA</td>\n",
       "    </tr>\n",
       "    <tr>\n",
       "      <th>2</th>\n",
       "      <td>cmtB</td>\n",
       "      <td>'Ara+6', 'Ara–6'</td>\n",
       "      <td>mannitol-specific PTS enzyme IIA component CmtB</td>\n",
       "    </tr>\n",
       "    <tr>\n",
       "      <th>3</th>\n",
       "      <td>dedD</td>\n",
       "      <td>'Ara–5', 'Ara+3', 'Ara–4'</td>\n",
       "      <td>cell division protein DedD</td>\n",
       "    </tr>\n",
       "    <tr>\n",
       "      <th>4</th>\n",
       "      <td>eda</td>\n",
       "      <td>'Ara+3', 'Ara–4'</td>\n",
       "      <td>KHG/KDPG aldolase</td>\n",
       "    </tr>\n",
       "    <tr>\n",
       "      <th>5</th>\n",
       "      <td>lpxM</td>\n",
       "      <td>'Ara–5', 'Ara–4', 'Ara+5'</td>\n",
       "      <td>Lipid A biosynthesis myristoyltransferase</td>\n",
       "    </tr>\n",
       "    <tr>\n",
       "      <th>6</th>\n",
       "      <td>alaA</td>\n",
       "      <td>'Ara–3', 'Ara+1'</td>\n",
       "      <td>glutamate--pyruvate aminotransferase AlaA</td>\n",
       "    </tr>\n",
       "    <tr>\n",
       "      <th>7</th>\n",
       "      <td>rlmH</td>\n",
       "      <td>'Ara+2', 'Ara+6'</td>\n",
       "      <td>23S rRNA m(3)psi1915 methyltransferase</td>\n",
       "    </tr>\n",
       "    <tr>\n",
       "      <th>8</th>\n",
       "      <td>minE</td>\n",
       "      <td>'Ara–1', 'Ara+3', 'Ara+5'</td>\n",
       "      <td>Z-ring positioning protein MinE</td>\n",
       "    </tr>\n",
       "    <tr>\n",
       "      <th>9</th>\n",
       "      <td>minD</td>\n",
       "      <td>'Ara–5', 'Ara–4'</td>\n",
       "      <td>Z-ring positioning protein MinD</td>\n",
       "    </tr>\n",
       "    <tr>\n",
       "      <th>10</th>\n",
       "      <td>skp</td>\n",
       "      <td>'Ara+2', 'Ara+6', 'Ara–6'</td>\n",
       "      <td>periplasmic chaperone Skp</td>\n",
       "    </tr>\n",
       "    <tr>\n",
       "      <th>11</th>\n",
       "      <td>holC</td>\n",
       "      <td>'Ara+6', 'Ara–4', 'Ara–1', 'Ara+2', 'Ara+5'</td>\n",
       "      <td>DNA polymerase III subunit chi</td>\n",
       "    </tr>\n",
       "    <tr>\n",
       "      <th>12</th>\n",
       "      <td>ldcA</td>\n",
       "      <td>'Ara+6', 'Ara–5'</td>\n",
       "      <td>murein L,D-carboxypeptidase</td>\n",
       "    </tr>\n",
       "    <tr>\n",
       "      <th>13</th>\n",
       "      <td>arcB</td>\n",
       "      <td>'Ara–6', 'Ara+1'</td>\n",
       "      <td>sensor histidine kinase ArcB</td>\n",
       "    </tr>\n",
       "    <tr>\n",
       "      <th>14</th>\n",
       "      <td>gdhA</td>\n",
       "      <td>'Ara–3', 'Ara–1', 'Ara–6'</td>\n",
       "      <td>glutamate dehydrogenase</td>\n",
       "    </tr>\n",
       "    <tr>\n",
       "      <th>15</th>\n",
       "      <td>fecD</td>\n",
       "      <td>'Ara–3', 'Ara–4'</td>\n",
       "      <td>ferric citrate ABC transporter membrane subuni...</td>\n",
       "    </tr>\n",
       "    <tr>\n",
       "      <th>16</th>\n",
       "      <td>fecC</td>\n",
       "      <td>'Ara–3', 'Ara+3'</td>\n",
       "      <td>ferric citrate ABC transporter membrane subuni...</td>\n",
       "    </tr>\n",
       "    <tr>\n",
       "      <th>17</th>\n",
       "      <td>fecB</td>\n",
       "      <td>'Ara–3', 'Ara+3'</td>\n",
       "      <td>ferric citrate ABC transporter periplasmic bin...</td>\n",
       "    </tr>\n",
       "    <tr>\n",
       "      <th>18</th>\n",
       "      <td>yhcB</td>\n",
       "      <td>'Ara+6', 'Ara–1', 'Ara+3', 'Ara+2', 'Ara–3', '...</td>\n",
       "      <td>DUF1043 domain-containing inner membrane prote...</td>\n",
       "    </tr>\n",
       "    <tr>\n",
       "      <th>19</th>\n",
       "      <td>yqjA</td>\n",
       "      <td>'Ara–3', 'Ara+3', 'Ara–4'</td>\n",
       "      <td>DedA family protein YqjA</td>\n",
       "    </tr>\n",
       "    <tr>\n",
       "      <th>20</th>\n",
       "      <td>kdsB</td>\n",
       "      <td>'Ara+6', 'Ara–4', 'Ara–1', 'Ara+3', 'Ara+2', '...</td>\n",
       "      <td>3-deoxy-manno-octulosonate cytidylyltransferase</td>\n",
       "    </tr>\n",
       "    <tr>\n",
       "      <th>21</th>\n",
       "      <td>rfaG</td>\n",
       "      <td>'Ara–5', 'Ara–4', 'Ara+3', 'Ara+1', 'Ara+5'</td>\n",
       "      <td>lipopolysaccharide glucosyltransferase I</td>\n",
       "    </tr>\n",
       "    <tr>\n",
       "      <th>22</th>\n",
       "      <td>pgpA</td>\n",
       "      <td>'Ara–1', 'Ara–4'</td>\n",
       "      <td>phosphatidylglycerophosphatase A</td>\n",
       "    </tr>\n",
       "    <tr>\n",
       "      <th>23</th>\n",
       "      <td>hfq</td>\n",
       "      <td>'Ara+6', 'Ara–5', 'Ara–4', 'Ara+3', 'Ara+2'</td>\n",
       "      <td>RNA-binding protein Hfq</td>\n",
       "    </tr>\n",
       "    <tr>\n",
       "      <th>24</th>\n",
       "      <td>ilvY</td>\n",
       "      <td>'Ara–4', 'Ara–1', 'Ara+3', 'Ara–3', 'Ara+5'</td>\n",
       "      <td>DNA-binding transcriptional dual regulator IlvY</td>\n",
       "    </tr>\n",
       "    <tr>\n",
       "      <th>25</th>\n",
       "      <td>cyoD</td>\n",
       "      <td>'Ara+6', 'Ara+3'</td>\n",
       "      <td>cytochrome bo3 ubiquinol oxidase subunit 4</td>\n",
       "    </tr>\n",
       "    <tr>\n",
       "      <th>26</th>\n",
       "      <td>cyoC</td>\n",
       "      <td>'Ara–1', 'Ara+3', 'Ara+5'</td>\n",
       "      <td>cytochrome bo3 ubiquinol oxidase subunit 3</td>\n",
       "    </tr>\n",
       "    <tr>\n",
       "      <th>27</th>\n",
       "      <td>fis</td>\n",
       "      <td>'Ara+2', 'Ara+6', 'Ara+1', 'Ara+5'</td>\n",
       "      <td>DNA-binding transcriptional dual regulator Fis</td>\n",
       "    </tr>\n",
       "    <tr>\n",
       "      <th>28</th>\n",
       "      <td>ecpR</td>\n",
       "      <td>'Ara+6', 'Ara+3'</td>\n",
       "      <td>DNA-binding transcriptional dual regulator MatA</td>\n",
       "    </tr>\n",
       "    <tr>\n",
       "      <th>29</th>\n",
       "      <td>envZ</td>\n",
       "      <td>'Ara+6', 'Ara–5', 'Ara–6', 'Ara+2', 'Ara+1', '...</td>\n",
       "      <td>sensor histidine kinase EnvZ</td>\n",
       "    </tr>\n",
       "    <tr>\n",
       "      <th>30</th>\n",
       "      <td>ompR</td>\n",
       "      <td>'Ara–5', 'Ara–4', 'Ara–6', 'Ara+2', 'Ara+1', '...</td>\n",
       "      <td>DNA-binding transcriptional dual regulator OmpR</td>\n",
       "    </tr>\n",
       "    <tr>\n",
       "      <th>31</th>\n",
       "      <td>mcrC</td>\n",
       "      <td>'Ara+6', 'Ara+5'</td>\n",
       "      <td>5-methylcytosine-specific restriction enzyme s...</td>\n",
       "    </tr>\n",
       "    <tr>\n",
       "      <th>32</th>\n",
       "      <td>yciE</td>\n",
       "      <td>'Ara+6', 'Ara–4'</td>\n",
       "      <td>DUF892 domain-containing protein YciE</td>\n",
       "    </tr>\n",
       "    <tr>\n",
       "      <th>33</th>\n",
       "      <td>prc</td>\n",
       "      <td>'Ara–3', 'Ara+6'</td>\n",
       "      <td>tail-specific protease</td>\n",
       "    </tr>\n",
       "    <tr>\n",
       "      <th>34</th>\n",
       "      <td>ftsN</td>\n",
       "      <td>'Ara+6', 'Ara–5', 'Ara–1', 'Ara–6', 'Ara–3', '...</td>\n",
       "      <td>cell division protein FtsN</td>\n",
       "    </tr>\n",
       "  </tbody>\n",
       "</table>\n",
       "</div>"
      ],
      "text/plain": [
       "    gene populations where gene becomes nonessential over evolution  \\\n",
       "0   ftsP                          'Ara–3', 'Ara+3', 'Ara+5'           \n",
       "1   nhaA                 'Ara–1', 'Ara+3', 'Ara–6', 'Ara–5'           \n",
       "2   cmtB                                   'Ara+6', 'Ara–6'           \n",
       "3   dedD                          'Ara–5', 'Ara+3', 'Ara–4'           \n",
       "4    eda                                   'Ara+3', 'Ara–4'           \n",
       "5   lpxM                          'Ara–5', 'Ara–4', 'Ara+5'           \n",
       "6   alaA                                   'Ara–3', 'Ara+1'           \n",
       "7   rlmH                                   'Ara+2', 'Ara+6'           \n",
       "8   minE                          'Ara–1', 'Ara+3', 'Ara+5'           \n",
       "9   minD                                   'Ara–5', 'Ara–4'           \n",
       "10   skp                          'Ara+2', 'Ara+6', 'Ara–6'           \n",
       "11  holC        'Ara+6', 'Ara–4', 'Ara–1', 'Ara+2', 'Ara+5'           \n",
       "12  ldcA                                   'Ara+6', 'Ara–5'           \n",
       "13  arcB                                   'Ara–6', 'Ara+1'           \n",
       "14  gdhA                          'Ara–3', 'Ara–1', 'Ara–6'           \n",
       "15  fecD                                   'Ara–3', 'Ara–4'           \n",
       "16  fecC                                   'Ara–3', 'Ara+3'           \n",
       "17  fecB                                   'Ara–3', 'Ara+3'           \n",
       "18  yhcB  'Ara+6', 'Ara–1', 'Ara+3', 'Ara+2', 'Ara–3', '...           \n",
       "19  yqjA                          'Ara–3', 'Ara+3', 'Ara–4'           \n",
       "20  kdsB  'Ara+6', 'Ara–4', 'Ara–1', 'Ara+3', 'Ara+2', '...           \n",
       "21  rfaG        'Ara–5', 'Ara–4', 'Ara+3', 'Ara+1', 'Ara+5'           \n",
       "22  pgpA                                   'Ara–1', 'Ara–4'           \n",
       "23   hfq        'Ara+6', 'Ara–5', 'Ara–4', 'Ara+3', 'Ara+2'           \n",
       "24  ilvY        'Ara–4', 'Ara–1', 'Ara+3', 'Ara–3', 'Ara+5'           \n",
       "25  cyoD                                   'Ara+6', 'Ara+3'           \n",
       "26  cyoC                          'Ara–1', 'Ara+3', 'Ara+5'           \n",
       "27   fis                 'Ara+2', 'Ara+6', 'Ara+1', 'Ara+5'           \n",
       "28  ecpR                                   'Ara+6', 'Ara+3'           \n",
       "29  envZ  'Ara+6', 'Ara–5', 'Ara–6', 'Ara+2', 'Ara+1', '...           \n",
       "30  ompR  'Ara–5', 'Ara–4', 'Ara–6', 'Ara+2', 'Ara+1', '...           \n",
       "31  mcrC                                   'Ara+6', 'Ara+5'           \n",
       "32  yciE                                   'Ara+6', 'Ara–4'           \n",
       "33   prc                                   'Ara–3', 'Ara+6'           \n",
       "34  ftsN  'Ara+6', 'Ara–5', 'Ara–1', 'Ara–6', 'Ara–3', '...           \n",
       "\n",
       "                                      protein product  \n",
       "0   cell division protein required during stress c...  \n",
       "1                          Na(+):H(+) antiporter NhaA  \n",
       "2     mannitol-specific PTS enzyme IIA component CmtB  \n",
       "3                          cell division protein DedD  \n",
       "4                                   KHG/KDPG aldolase  \n",
       "5           Lipid A biosynthesis myristoyltransferase  \n",
       "6           glutamate--pyruvate aminotransferase AlaA  \n",
       "7              23S rRNA m(3)psi1915 methyltransferase  \n",
       "8                     Z-ring positioning protein MinE  \n",
       "9                     Z-ring positioning protein MinD  \n",
       "10                          periplasmic chaperone Skp  \n",
       "11                     DNA polymerase III subunit chi  \n",
       "12                        murein L,D-carboxypeptidase  \n",
       "13                       sensor histidine kinase ArcB  \n",
       "14                            glutamate dehydrogenase  \n",
       "15  ferric citrate ABC transporter membrane subuni...  \n",
       "16  ferric citrate ABC transporter membrane subuni...  \n",
       "17  ferric citrate ABC transporter periplasmic bin...  \n",
       "18  DUF1043 domain-containing inner membrane prote...  \n",
       "19                           DedA family protein YqjA  \n",
       "20    3-deoxy-manno-octulosonate cytidylyltransferase  \n",
       "21           lipopolysaccharide glucosyltransferase I  \n",
       "22                   phosphatidylglycerophosphatase A  \n",
       "23                            RNA-binding protein Hfq  \n",
       "24    DNA-binding transcriptional dual regulator IlvY  \n",
       "25         cytochrome bo3 ubiquinol oxidase subunit 4  \n",
       "26         cytochrome bo3 ubiquinol oxidase subunit 3  \n",
       "27     DNA-binding transcriptional dual regulator Fis  \n",
       "28    DNA-binding transcriptional dual regulator MatA  \n",
       "29                       sensor histidine kinase EnvZ  \n",
       "30    DNA-binding transcriptional dual regulator OmpR  \n",
       "31  5-methylcytosine-specific restriction enzyme s...  \n",
       "32              DUF892 domain-containing protein YciE  \n",
       "33                             tail-specific protease  \n",
       "34                         cell division protein FtsN  "
      ]
     },
     "execution_count": 567,
     "metadata": {},
     "output_type": "execute_result"
    }
   ],
   "source": [
    "df_ess_parallel"
   ]
  },
  {
   "cell_type": "code",
   "execution_count": 568,
   "id": "indonesian-knife",
   "metadata": {},
   "outputs": [],
   "source": [
    "# df_ess_parallel.to_csv(repo+'/Analysis/Supplementary_tables/parallel_essential_genes.csv')"
   ]
  },
  {
   "cell_type": "markdown",
   "id": "131c2519",
   "metadata": {},
   "source": [
    "## Result: how many of the genes becoming nonessential are linked to duplications?\n",
    "\n",
    "Part 1: Of the 98 distinct genes that become nonessential, how many are linked to duplications?"
   ]
  },
  {
   "cell_type": "code",
   "execution_count": 911,
   "id": "77e4ed7a",
   "metadata": {},
   "outputs": [
    {
     "name": "stdout",
     "output_type": "stream",
     "text": [
      "Number of genes with essential -> nonessential changes: 98\n",
      "Number of changes linked to duplications: 45\n"
     ]
    }
   ],
   "source": [
    "print('Number of genes with essential -> nonessential changes:', len(plot_anc))\n",
    "#count: how many of these changes are linked to duplications\n",
    "print('Number of changes linked to duplications:', dup342_count+dup364_count+dup367_count+dup389_count)\n",
    "#note that the only strains with detectable duplications are Ara+2, Ara-3, Ara+5, Ara-6"
   ]
  },
  {
   "cell_type": "markdown",
   "id": "991e261c",
   "metadata": {},
   "source": [
    "Part 2: of all the instances of genes becoming nonessential, how many are linked to duplication? Note that one instances is different from one gene because a gene becoming nonessential in 3 populations (for example) would be counted as 3 instances"
   ]
  },
  {
   "cell_type": "code",
   "execution_count": 915,
   "id": "0e0acfab",
   "metadata": {
    "scrolled": true
   },
   "outputs": [
    {
     "name": "stdout",
     "output_type": "stream",
     "text": [
      "Number of instances of essential -> nonessential changes: 139\n",
      "Number of instances linked to duplications: 94\n"
     ]
    }
   ],
   "source": [
    "print('Number of instances of essential -> nonessential changes:', np.sum(diff_ess_combined[plot_anc]==1))\n",
    "#count: how many of these changes are linked to duplications\n",
    "print('Number of instances linked to duplications:', np.sum(diff_ess_combined[retain_genes]==1))\n",
    "#note that the only strains with detectable duplications are Ara+2, Ara-3, Ara+5, Ara-6"
   ]
  },
  {
   "cell_type": "markdown",
   "id": "d48d2655",
   "metadata": {},
   "source": [
    "Part 3: of the parallel instances of genes becoming nonessential, how many are linked to duplication? More specifically, if a gene becomes nonessential in 3 populations (for example), is it also duplicated in the same 3 populations (for example)?"
   ]
  },
  {
   "cell_type": "code",
   "execution_count": 923,
   "id": "ee8a1e6d",
   "metadata": {},
   "outputs": [],
   "source": [
    "pops_with_duplications = [1,4,6,8]"
   ]
  },
  {
   "cell_type": "code",
   "execution_count": 927,
   "id": "cb85835c",
   "metadata": {},
   "outputs": [
    {
     "name": "stdout",
     "output_type": "stream",
     "text": [
      "Number of parallel gene essentiality changes linked to duplications: 0\n"
     ]
    }
   ],
   "source": [
    "count = 0\n",
    "for genes in plot_anc:    #for genes that transitioned from nonessential to essential\n",
    "    if np.sum(diff_ess_combined[genes, pops_with_duplications]==1)>1:     \n",
    "        #if the gene became nonessential in at least two populations with duplications\n",
    "        \n",
    "        #checking if these changes are linked to duplications in any of the populations\n",
    "        #where we could detect duplications\n",
    "        \n",
    "        \n",
    "        #what I am doing in this shortcut below:\n",
    "        #multiplying two numbers (which are 0 or 1),\n",
    "        #first: is the gene differentially essential in this population where we detect duplications?\n",
    "        #second: is this gene duplicated in the population where we detect duplication\n",
    "        \n",
    "        m3 = (genes in dup364)*diff_ess_combined[genes, 1]    #was this gene duplicated/differentially essential in Ara-3\n",
    "        m6 = (genes in dup389)*diff_ess_combined[genes, 4]    #was this gene duplicated/differentially essential in Ara-6\n",
    "        p2 = (genes in dup342)*diff_ess_combined[genes, 6]    #was this gene duplicated/differentially essential in Ara+2\n",
    "        p5 = (genes in dup367)*diff_ess_combined[genes, 8]    #was this gene duplicated/differentially essential in Ara+5\n",
    "        \n",
    "        \n",
    "        #if the gene was duplicated in multiple populations \n",
    "        if m3+m6+p2+p5 == np.sum(diff_ess_combined[genes, pops_with_duplications]==1):\n",
    "            print('parallel gene essentiality change was linked to duplication')\n",
    "            count+=1\n",
    "            \n",
    "print('Number of parallel gene essentiality changes linked to duplications:', count)"
   ]
  },
  {
   "cell_type": "markdown",
   "id": "fd17e48e",
   "metadata": {},
   "source": [
    "## Output: List of differentially essential genes (for the supplementary tables)"
   ]
  },
  {
   "cell_type": "code",
   "execution_count": 572,
   "id": "c9e84a02",
   "metadata": {},
   "outputs": [],
   "source": [
    "diffpops = np.array(libraries4[2:])\n",
    "\n",
    "non_ess_rows = []\n",
    "\n",
    "for genes in list(set(plot_anc)):\n",
    "    if np.sum(diff_ess_combined[genes]==1)>=1:\n",
    "        pops = np.where(diff_ess_combined[genes]==1)[0]\n",
    "        \n",
    "#         print(names[genes],';',diffpops[pops])\n",
    "        \n",
    "        dict1={}\n",
    "        dict1[\"gene\"] = names[genes]\n",
    "        dict1[\"populations where gene becomes nonessential over evolution\"] = str(set(diffpops[pops]))[1:-1]\n",
    "        dict1[\"protein product\"] = product[genes]\n",
    "        non_ess_rows.append(dict1)\n",
    "\n",
    "df_noness_all = pd.DataFrame(non_ess_rows)\n",
    "        "
   ]
  },
  {
   "cell_type": "code",
   "execution_count": 573,
   "id": "e3053dfc",
   "metadata": {},
   "outputs": [
    {
     "data": {
      "text/html": [
       "<div>\n",
       "<style scoped>\n",
       "    .dataframe tbody tr th:only-of-type {\n",
       "        vertical-align: middle;\n",
       "    }\n",
       "\n",
       "    .dataframe tbody tr th {\n",
       "        vertical-align: top;\n",
       "    }\n",
       "\n",
       "    .dataframe thead th {\n",
       "        text-align: right;\n",
       "    }\n",
       "</style>\n",
       "<table border=\"1\" class=\"dataframe\">\n",
       "  <thead>\n",
       "    <tr style=\"text-align: right;\">\n",
       "      <th></th>\n",
       "      <th>gene</th>\n",
       "      <th>populations where gene becomes nonessential over evolution</th>\n",
       "      <th>protein product</th>\n",
       "    </tr>\n",
       "  </thead>\n",
       "  <tbody>\n",
       "    <tr>\n",
       "      <th>0</th>\n",
       "      <td>rpmE</td>\n",
       "      <td>'Ara+6'</td>\n",
       "      <td>50S ribosomal subunit protein L31</td>\n",
       "    </tr>\n",
       "    <tr>\n",
       "      <th>1</th>\n",
       "      <td>yhhZ</td>\n",
       "      <td>'Ara–4'</td>\n",
       "      <td>putative endonuclease YhhZ</td>\n",
       "    </tr>\n",
       "    <tr>\n",
       "      <th>2</th>\n",
       "      <td>ppc</td>\n",
       "      <td>'Ara–3', 'Ara–6'</td>\n",
       "      <td>phosphoenolpyruvate carboxylase</td>\n",
       "    </tr>\n",
       "    <tr>\n",
       "      <th>3</th>\n",
       "      <td>argE</td>\n",
       "      <td>'Ara–6'</td>\n",
       "      <td>acetylornithine deacetylase</td>\n",
       "    </tr>\n",
       "    <tr>\n",
       "      <th>4</th>\n",
       "      <td>argC</td>\n",
       "      <td>'Ara–6'</td>\n",
       "      <td>N-acetylglutamylphosphate reductase</td>\n",
       "    </tr>\n",
       "    <tr>\n",
       "      <th>...</th>\n",
       "      <td>...</td>\n",
       "      <td>...</td>\n",
       "      <td>...</td>\n",
       "    </tr>\n",
       "    <tr>\n",
       "      <th>93</th>\n",
       "      <td>arcA</td>\n",
       "      <td>'Ara+2', 'Ara–4'</td>\n",
       "      <td>DNA-binding transcriptional dual regulator ArcA</td>\n",
       "    </tr>\n",
       "    <tr>\n",
       "      <th>94</th>\n",
       "      <td>gyrA</td>\n",
       "      <td>'Ara–6'</td>\n",
       "      <td>DNA gyrase subunit A</td>\n",
       "    </tr>\n",
       "    <tr>\n",
       "      <th>95</th>\n",
       "      <td>ubiG</td>\n",
       "      <td>'Ara–6'</td>\n",
       "      <td>bifunctional 3-demethylubiquinone-8 3-O-methyl...</td>\n",
       "    </tr>\n",
       "    <tr>\n",
       "      <th>96</th>\n",
       "      <td>nrdA</td>\n",
       "      <td>'Ara–6'</td>\n",
       "      <td>ribonucleoside-diphosphate reductase 1 subunit...</td>\n",
       "    </tr>\n",
       "    <tr>\n",
       "      <th>97</th>\n",
       "      <td>nrdB</td>\n",
       "      <td>'Ara–6'</td>\n",
       "      <td>ribonucleoside-diphosphate reductase 1 subunit...</td>\n",
       "    </tr>\n",
       "  </tbody>\n",
       "</table>\n",
       "<p>98 rows × 3 columns</p>\n",
       "</div>"
      ],
      "text/plain": [
       "    gene populations where gene becomes nonessential over evolution  \\\n",
       "0   rpmE                                            'Ara+6'           \n",
       "1   yhhZ                                            'Ara–4'           \n",
       "2    ppc                                   'Ara–3', 'Ara–6'           \n",
       "3   argE                                            'Ara–6'           \n",
       "4   argC                                            'Ara–6'           \n",
       "..   ...                                                ...           \n",
       "93  arcA                                   'Ara+2', 'Ara–4'           \n",
       "94  gyrA                                            'Ara–6'           \n",
       "95  ubiG                                            'Ara–6'           \n",
       "96  nrdA                                            'Ara–6'           \n",
       "97  nrdB                                            'Ara–6'           \n",
       "\n",
       "                                      protein product  \n",
       "0                   50S ribosomal subunit protein L31  \n",
       "1                          putative endonuclease YhhZ  \n",
       "2                     phosphoenolpyruvate carboxylase  \n",
       "3                         acetylornithine deacetylase  \n",
       "4                 N-acetylglutamylphosphate reductase  \n",
       "..                                                ...  \n",
       "93    DNA-binding transcriptional dual regulator ArcA  \n",
       "94                               DNA gyrase subunit A  \n",
       "95  bifunctional 3-demethylubiquinone-8 3-O-methyl...  \n",
       "96  ribonucleoside-diphosphate reductase 1 subunit...  \n",
       "97  ribonucleoside-diphosphate reductase 1 subunit...  \n",
       "\n",
       "[98 rows x 3 columns]"
      ]
     },
     "execution_count": 573,
     "metadata": {},
     "output_type": "execute_result"
    }
   ],
   "source": [
    "df_noness_all"
   ]
  },
  {
   "cell_type": "code",
   "execution_count": 575,
   "id": "fd808fbb",
   "metadata": {},
   "outputs": [],
   "source": [
    "ess_rows = []\n",
    "\n",
    "for genes in list(set(plot_ev)):\n",
    "    if np.sum(diff_ess_combined[genes]==2)>=1:\n",
    "        pops = np.where(diff_ess_combined[genes]==2)[0]\n",
    "\n",
    "#         print(names[genes], ';',diffpops[pops])\n",
    "        \n",
    "        dict1={}\n",
    "        dict1[\"gene\"] = names[genes]\n",
    "        dict1[\"populations where gene becomes nonessential over evolution\"] = str(set(diffpops[pops]))[1:-1]\n",
    "        dict1[\"protein product\"] = product[genes]\n",
    "        ess_rows.append(dict1)\n",
    "        \n",
    "df_ess_all = pd.DataFrame(ess_rows)\n"
   ]
  },
  {
   "cell_type": "code",
   "execution_count": 576,
   "id": "4f80789f",
   "metadata": {},
   "outputs": [
    {
     "data": {
      "text/html": [
       "<div>\n",
       "<style scoped>\n",
       "    .dataframe tbody tr th:only-of-type {\n",
       "        vertical-align: middle;\n",
       "    }\n",
       "\n",
       "    .dataframe tbody tr th {\n",
       "        vertical-align: top;\n",
       "    }\n",
       "\n",
       "    .dataframe thead th {\n",
       "        text-align: right;\n",
       "    }\n",
       "</style>\n",
       "<table border=\"1\" class=\"dataframe\">\n",
       "  <thead>\n",
       "    <tr style=\"text-align: right;\">\n",
       "      <th></th>\n",
       "      <th>gene</th>\n",
       "      <th>populations where gene becomes nonessential over evolution</th>\n",
       "      <th>protein product</th>\n",
       "    </tr>\n",
       "  </thead>\n",
       "  <tbody>\n",
       "    <tr>\n",
       "      <th>0</th>\n",
       "      <td>glpD</td>\n",
       "      <td>'Ara+6'</td>\n",
       "      <td>aerobic glycerol 3-phosphate dehydrogenase</td>\n",
       "    </tr>\n",
       "    <tr>\n",
       "      <th>1</th>\n",
       "      <td>epd</td>\n",
       "      <td>'Ara–3'</td>\n",
       "      <td>D-erythrose-4-phosphate dehydrogenase</td>\n",
       "    </tr>\n",
       "    <tr>\n",
       "      <th>2</th>\n",
       "      <td>ycfZ</td>\n",
       "      <td>'Ara+5'</td>\n",
       "      <td>putative inner membrane protein</td>\n",
       "    </tr>\n",
       "    <tr>\n",
       "      <th>3</th>\n",
       "      <td>nhaA</td>\n",
       "      <td>'Ara–1', 'Ara+3', 'Ara–6', 'Ara–5'</td>\n",
       "      <td>Na(+):H(+) antiporter NhaA</td>\n",
       "    </tr>\n",
       "    <tr>\n",
       "      <th>4</th>\n",
       "      <td>cmtB</td>\n",
       "      <td>'Ara+6', 'Ara–6'</td>\n",
       "      <td>mannitol-specific PTS enzyme IIA component CmtB</td>\n",
       "    </tr>\n",
       "    <tr>\n",
       "      <th>...</th>\n",
       "      <td>...</td>\n",
       "      <td>...</td>\n",
       "      <td>...</td>\n",
       "    </tr>\n",
       "    <tr>\n",
       "      <th>75</th>\n",
       "      <td>envZ</td>\n",
       "      <td>'Ara+6', 'Ara–5', 'Ara–6', 'Ara+2', 'Ara+1', '...</td>\n",
       "      <td>sensor histidine kinase EnvZ</td>\n",
       "    </tr>\n",
       "    <tr>\n",
       "      <th>76</th>\n",
       "      <td>ompR</td>\n",
       "      <td>'Ara–5', 'Ara–4', 'Ara–6', 'Ara+2', 'Ara+1', '...</td>\n",
       "      <td>DNA-binding transcriptional dual regulator OmpR</td>\n",
       "    </tr>\n",
       "    <tr>\n",
       "      <th>77</th>\n",
       "      <td>nuoH</td>\n",
       "      <td>'Ara+3'</td>\n",
       "      <td>NADH:quinone oxidoreductase subunit H</td>\n",
       "    </tr>\n",
       "    <tr>\n",
       "      <th>78</th>\n",
       "      <td>alaA</td>\n",
       "      <td>'Ara–3', 'Ara+1'</td>\n",
       "      <td>glutamate--pyruvate aminotransferase AlaA</td>\n",
       "    </tr>\n",
       "    <tr>\n",
       "      <th>79</th>\n",
       "      <td>ftsN</td>\n",
       "      <td>'Ara+6', 'Ara–5', 'Ara–1', 'Ara–6', 'Ara–3', '...</td>\n",
       "      <td>cell division protein FtsN</td>\n",
       "    </tr>\n",
       "  </tbody>\n",
       "</table>\n",
       "<p>80 rows × 3 columns</p>\n",
       "</div>"
      ],
      "text/plain": [
       "    gene populations where gene becomes nonessential over evolution  \\\n",
       "0   glpD                                            'Ara+6'           \n",
       "1    epd                                            'Ara–3'           \n",
       "2   ycfZ                                            'Ara+5'           \n",
       "3   nhaA                 'Ara–1', 'Ara+3', 'Ara–6', 'Ara–5'           \n",
       "4   cmtB                                   'Ara+6', 'Ara–6'           \n",
       "..   ...                                                ...           \n",
       "75  envZ  'Ara+6', 'Ara–5', 'Ara–6', 'Ara+2', 'Ara+1', '...           \n",
       "76  ompR  'Ara–5', 'Ara–4', 'Ara–6', 'Ara+2', 'Ara+1', '...           \n",
       "77  nuoH                                            'Ara+3'           \n",
       "78  alaA                                   'Ara–3', 'Ara+1'           \n",
       "79  ftsN  'Ara+6', 'Ara–5', 'Ara–1', 'Ara–6', 'Ara–3', '...           \n",
       "\n",
       "                                    protein product  \n",
       "0        aerobic glycerol 3-phosphate dehydrogenase  \n",
       "1             D-erythrose-4-phosphate dehydrogenase  \n",
       "2                   putative inner membrane protein  \n",
       "3                        Na(+):H(+) antiporter NhaA  \n",
       "4   mannitol-specific PTS enzyme IIA component CmtB  \n",
       "..                                              ...  \n",
       "75                     sensor histidine kinase EnvZ  \n",
       "76  DNA-binding transcriptional dual regulator OmpR  \n",
       "77            NADH:quinone oxidoreductase subunit H  \n",
       "78        glutamate--pyruvate aminotransferase AlaA  \n",
       "79                       cell division protein FtsN  \n",
       "\n",
       "[80 rows x 3 columns]"
      ]
     },
     "execution_count": 576,
     "metadata": {},
     "output_type": "execute_result"
    }
   ],
   "source": [
    "df_ess_all"
   ]
  },
  {
   "cell_type": "code",
   "execution_count": 577,
   "id": "f47b1669",
   "metadata": {},
   "outputs": [],
   "source": [
    "# df_ess_all.to_csv(repo+'/Analysis/Supplementary_tables/differential_essential_genes.csv')\n",
    "# df_noness_all.to_csv(repo+'/Analysis/Supplementary_tables/differential_nonessential_genes.csv')\n"
   ]
  },
  {
   "cell_type": "markdown",
   "id": "a440bf32",
   "metadata": {},
   "source": [
    "Counting number of changes linked to structural variation:\n",
    "\n",
    "x out of y cases are linked to duplications"
   ]
  },
  {
   "cell_type": "code",
   "execution_count": 723,
   "id": "6d203c29",
   "metadata": {},
   "outputs": [
    {
     "data": {
      "text/plain": [
       "array([16, 21, 22, 16, 15, 13, 20, 22, 20, 29])"
      ]
     },
     "execution_count": 723,
     "metadata": {},
     "output_type": "execute_result"
    }
   ],
   "source": [
    "np.sum(diff_ess_combined==2, axis=0)"
   ]
  },
  {
   "cell_type": "code",
   "execution_count": null,
   "id": "33806772",
   "metadata": {},
   "outputs": [],
   "source": [
    "#number of instances of gene essentiality changing:\n",
    "print(np.sum)"
   ]
  },
  {
   "cell_type": "markdown",
   "id": "statewide-strap",
   "metadata": {},
   "source": [
    "## Supplementary Figure 1: UMI-TnSeq estimates are consistent with recombineering\n",
    "\n",
    "NOTE: These numbers are from the colony counts from experiments that I did in Summer/Fall 2021. The data is consolidated into a csv file."
   ]
  },
  {
   "cell_type": "code",
   "execution_count": 163,
   "id": "detailed-denver",
   "metadata": {},
   "outputs": [],
   "source": [
    "genes = ['nadR', 'rbsD','lacA', 'dctA', 'gdhA', 'fecE', 'ydiJ', 'sspA', 'proC', 'ppc']\n",
    "\n",
    "cfu_fa = np.zeros([4,len(genes)])\n",
    "\n",
    "#nadR\n",
    "cfu_fa[:, 0] = [621, 278, 599, 345]\n",
    "#rbsD\n",
    "cfu_fa[:, 1] = [670, 365, 567, 383]\n",
    "#lacA\n",
    "cfu_fa[:, 2] = [74, 29, 309, 119]\n",
    "#dctA\n",
    "cfu_fa[:, 3] = [86, 31, 347, 138]\n",
    "#gdhA\n",
    "cfu_fa[:, 4] = [1736, 924, 642, 367]\n",
    "#fecE\n",
    "cfu_fa[:, 5] = [80, 29, 338, 74]\n",
    "#ydiJ\n",
    "cfu_fa[:, 6] = [471, 256, 505, 159]\n",
    "#sspA\n",
    "cfu_fa[:, 7] = [1320, 690, 526, 85]\n",
    "#proC\n",
    "cfu_fa[:, 8] = [1694, 910, 560, 20]\n",
    "#ppc\n",
    "cfu_fa[:, 9] = [76, 31, 316, 4]\n",
    "\n",
    "s_fa = np.log((cfu_fa[3, :]+1)/(cfu_fa[2, :] - cfu_fa[3, :]+1)/((cfu_fa[1, :]+1)/(cfu_fa[0, :] - cfu_fa[1, :]+1)))/6.64"
   ]
  },
  {
   "cell_type": "code",
   "execution_count": 164,
   "id": "monthly-advance",
   "metadata": {},
   "outputs": [
    {
     "data": {
      "text/plain": [
       "(4, 10)"
      ]
     },
     "execution_count": 164,
     "metadata": {},
     "output_type": "execute_result"
    }
   ],
   "source": [
    "cfu_fa.shape"
   ]
  },
  {
   "cell_type": "code",
   "execution_count": 165,
   "id": "superb-motel",
   "metadata": {},
   "outputs": [],
   "source": [
    "s_tnseq1 = np.zeros([len(genes)])\n",
    "s_tnseq2 = np.zeros([len(genes)])"
   ]
  },
  {
   "cell_type": "code",
   "execution_count": 166,
   "id": "specialized-israel",
   "metadata": {},
   "outputs": [],
   "source": [
    "z = 0\n",
    "for gene in genes:\n",
    "    s_tnseq1[z] = fitness_gene_corrected[list(names).index(gene), 0,0]\n",
    "    s_tnseq2[z] = fitness_gene_corrected[list(names).index(gene), 0,1]\n",
    "    \n",
    "    z+=1"
   ]
  },
  {
   "cell_type": "code",
   "execution_count": 170,
   "id": "7dfaff68",
   "metadata": {},
   "outputs": [],
   "source": [
    "genes_label = ['$\\it{nadR}$', '$\\it{rbsD}$','$\\it{lacA}$', '$\\it{dctA}$', '$\\it{gdhA}$', '$\\it{fecE}$', '$\\it{ydiJ}$', '$\\it{sspA}$', '$\\it{proC}$', '$\\it{ppc}$']"
   ]
  },
  {
   "cell_type": "code",
   "execution_count": 753,
   "id": "republican-reggae",
   "metadata": {},
   "outputs": [
    {
     "name": "stderr",
     "output_type": "stream",
     "text": [
      "/var/folders/f8/92wybs9d7wqfthlqj1drht_c0000gn/T/ipykernel_20621/2858605640.py:20: FutureWarning: The frame.append method is deprecated and will be removed from pandas in a future version. Use pandas.concat instead.\n",
      "  essentiality_comp = essentiality_comp1.append(essentiality_comp1a)\n",
      "/var/folders/f8/92wybs9d7wqfthlqj1drht_c0000gn/T/ipykernel_20621/2858605640.py:21: FutureWarning: The frame.append method is deprecated and will be removed from pandas in a future version. Use pandas.concat instead.\n",
      "  essentiality_comp = essentiality_comp.append(essentiality_comp2)\n"
     ]
    }
   ],
   "source": [
    "essentiality_comp = pd.DataFrame()\n",
    "essentiality_comp1 = pd.DataFrame()\n",
    "essentiality_comp1a = pd.DataFrame()\n",
    "\n",
    "essentiality_comp2 = pd.DataFrame()\n",
    "\n",
    "essentiality_comp1['Mutated gene'] = genes_label\n",
    "essentiality_comp1['Fitness effect'] = s_tnseq1\n",
    "essentiality_comp1['experiment'] = 'TnSeq'\n",
    "\n",
    "essentiality_comp1a['Mutated gene'] = genes_label\n",
    "essentiality_comp1a['Fitness effect'] = s_tnseq2\n",
    "essentiality_comp1a['experiment'] = 'TnSeq'\n",
    "\n",
    "essentiality_comp2['Mutated gene'] = genes_label\n",
    "essentiality_comp2['Fitness effect'] = s_fa\n",
    "essentiality_comp2['experiment'] = 'Deletion'\n",
    "\n",
    "\n",
    "essentiality_comp = essentiality_comp1.append(essentiality_comp1a)\n",
    "essentiality_comp = essentiality_comp.append(essentiality_comp2)"
   ]
  },
  {
   "cell_type": "code",
   "execution_count": 755,
   "id": "disabled-dutch",
   "metadata": {},
   "outputs": [
    {
     "data": {
      "image/png": "[encoded data removed]",
      "text/plain": [
       "<Figure size 360x216 with 1 Axes>"
      ]
     },
     "metadata": {},
     "output_type": "display_data"
    }
   ],
   "source": [
    "with sns.axes_style('ticks'):\n",
    "    fig,ax = plt.subplots(figsize=(5,3))\n",
    "    ax = sns.stripplot(x=\"Mutated gene\", y=\"Fitness effect\", data=essentiality_comp, hue='experiment', palette=sns.mpl_palette('Set1'))\n",
    "    ax.legend(loc='center left',frameon=False)\n",
    "    ax.axhline(0, color='k')\n",
    "#     ax.text(0, -0.36, 'essential')\n",
    "    sns.despine(offset = 0.3)\n",
    "#     fig.savefig(figpath+'tnseq_recomb_comparison.pdf', format='pdf', bbox_inches='tight')"
   ]
  },
  {
   "cell_type": "markdown",
   "id": "undefined-victor",
   "metadata": {},
   "source": [
    "Now, I'm going to make the figure for verification of differential essentiality in Anc and Ara-1"
   ]
  },
  {
   "cell_type": "markdown",
   "id": "wooden-assessment",
   "metadata": {},
   "source": [
    "## Supplementary Figure 5: prediction of differential essentiality and actual data"
   ]
  },
  {
   "cell_type": "code",
   "execution_count": 175,
   "id": "outdoor-sector",
   "metadata": {},
   "outputs": [],
   "source": [
    "genes_diff_comp = ['gdhA', 'sspA']"
   ]
  },
  {
   "cell_type": "code",
   "execution_count": 176,
   "id": "productive-encyclopedia",
   "metadata": {},
   "outputs": [],
   "source": [
    "cfu_fa_anc1 = np.zeros([4,2])\n",
    "cfu_fa_anc2 = np.zeros([4,2])\n",
    "\n",
    "\n",
    "cfu_fa_anc1[:,0] = [1736, 924, 642, 367]\n",
    "cfu_fa_anc2[:,0] = [462, 276, 490, 301]\n",
    "\n",
    "cfu_fa_anc1[:,1] = [1320, 690, 526, 85]\n",
    "cfu_fa_anc2[:,1] = [345, 153, 532, 72]\n",
    "\n",
    "cfu_fa_evo1 = np.zeros([4,2])\n",
    "cfu_fa_evo2 = np.zeros([4,2])\n",
    "\n",
    "cfu_fa_evo1[:,0] = [181, 121, 405, 4]\n",
    "cfu_fa_evo2[:,0] = [90, 50, 381, 5]\n",
    "\n",
    "cfu_fa_evo1[:,1] = [315, 205, 464, 275]\n",
    "cfu_fa_evo2[:,1] = [161, 112, 410, 283]\n",
    "\n",
    "\n"
   ]
  },
  {
   "cell_type": "code",
   "execution_count": 177,
   "id": "stone-contractor",
   "metadata": {},
   "outputs": [],
   "source": [
    "\n",
    "s_fa_anc1 = np.log((cfu_fa_anc1[3, :]+1)/(cfu_fa_anc1[2, :] - cfu_fa_anc1[3, :]+1)/((cfu_fa_anc1[1, :]+1)/(cfu_fa_anc1[0, :] - cfu_fa_anc1[1, :]+1)))/6.64\n",
    "s_fa_anc2 = np.log((cfu_fa_anc2[3, :]+1)/(cfu_fa_anc2[2, :] - cfu_fa_anc2[3, :]+1)/((cfu_fa_anc2[1, :]+1)/(cfu_fa_anc2[0, :] - cfu_fa_anc2[1, :]+1)))/6.64\n",
    "\n"
   ]
  },
  {
   "cell_type": "code",
   "execution_count": 178,
   "id": "solar-graphic",
   "metadata": {},
   "outputs": [],
   "source": [
    "\n",
    "s_fa_evo1 = np.log((cfu_fa_evo1[3, :]+1)/(cfu_fa_evo1[2, :] - cfu_fa_evo1[3, :]+1)/((cfu_fa_evo1[1, :]+1)/(cfu_fa_evo1[0, :] - cfu_fa_evo1[1, :]+1)))/6.64\n",
    "s_fa_evo2 = np.log((cfu_fa_evo2[3, :]+1)/(cfu_fa_evo2[2, :] - cfu_fa_evo2[3, :]+1)/((cfu_fa_evo2[1, :]+1)/(cfu_fa_evo2[0, :] - cfu_fa_evo2[1, :]+1)))/6.64\n",
    "\n"
   ]
  },
  {
   "cell_type": "code",
   "execution_count": 179,
   "id": "equipped-reception",
   "metadata": {},
   "outputs": [],
   "source": [
    "s_tnseq_anc1 = np.zeros(2)\n",
    "s_tnseq_anc2 = np.zeros(2)\n",
    "s_tnseq_evo1 = np.zeros(2)\n",
    "s_tnseq_evo2 = np.zeros(2)\n",
    "\n",
    "s_tnseq_anc1[0] = fitness_gene_corrected[list(names).index('gdhA'), 0,0]\n",
    "s_tnseq_anc2[0] = fitness_gene_corrected[list(names).index('gdhA'), 0,1]\n",
    "s_tnseq_anc1[1] = fitness_gene_corrected[list(names).index('sspA'), 0,0]\n",
    "s_tnseq_anc2[1] = fitness_gene_corrected[list(names).index('sspA'), 0,1]\n",
    "\n",
    "s_tnseq_evo1[0] = fitness_gene_corrected[list(names).index('gdhA'), 2,0]\n",
    "s_tnseq_evo2[0] = fitness_gene_corrected[list(names).index('gdhA'), 2,1]\n",
    "s_tnseq_evo1[1] = fitness_gene_corrected[list(names).index('sspA'), 2,0]\n",
    "s_tnseq_evo2[1] = fitness_gene_corrected[list(names).index('sspA'), 2,1]\n"
   ]
  },
  {
   "cell_type": "code",
   "execution_count": 180,
   "id": "c71669da",
   "metadata": {},
   "outputs": [],
   "source": [
    "genes_diff_comp_label = ['$\\it{gdhA}$', '$\\it{sspA}$']"
   ]
  },
  {
   "cell_type": "code",
   "execution_count": 823,
   "id": "christian-crime",
   "metadata": {},
   "outputs": [],
   "source": [
    "essentiality_comp_tnseq = pd.DataFrame()\n",
    "\n",
    "essentiality_comp_anc1 = pd.DataFrame()\n",
    "essentiality_comp_anc2 = pd.DataFrame()\n",
    "essentiality_comp_evo1 = pd.DataFrame()\n",
    "essentiality_comp_evo2 = pd.DataFrame()\n",
    "\n",
    "essentiality_comp_anc1['Mutated gene'] = genes_diff_comp_label\n",
    "essentiality_comp_anc1['Fitness effect'] = s_tnseq_anc1\n",
    "essentiality_comp_anc1['Experiment'] = 'TnSeq'\n",
    "essentiality_comp_anc1['Isolate'] = 'Anc'\n",
    "\n",
    "\n",
    "essentiality_comp_anc2['Mutated gene'] = genes_diff_comp_label\n",
    "essentiality_comp_anc2['Fitness effect'] = s_tnseq_anc2\n",
    "essentiality_comp_anc2['Experiment'] = 'TnSeq'\n",
    "essentiality_comp_anc2['Isolate'] = 'Anc'\n",
    "\n",
    "\n",
    "essentiality_comp_evo1['Mutated gene'] = genes_diff_comp_label\n",
    "essentiality_comp_evo1['Fitness effect'] = s_tnseq_evo1\n",
    "essentiality_comp_evo1['Experiment'] = 'TnSeq'\n",
    "essentiality_comp_evo1['Isolate'] = 'Ara–1'\n",
    "\n",
    "\n",
    "essentiality_comp_evo2['Mutated gene'] = genes_diff_comp_label\n",
    "essentiality_comp_evo2['Fitness effect'] = s_tnseq_evo2\n",
    "essentiality_comp_evo2['Experiment'] = 'TnSeq'\n",
    "essentiality_comp_evo2['Isolate'] = 'Ara–1'\n",
    "\n",
    "\n",
    "frames = [essentiality_comp_anc1, essentiality_comp_anc2, essentiality_comp_evo1, essentiality_comp_evo2]\n",
    "\n",
    "essentiality_comp_tnseq = pd.concat(frames)"
   ]
  },
  {
   "cell_type": "code",
   "execution_count": 824,
   "id": "amino-stereo",
   "metadata": {},
   "outputs": [],
   "source": [
    "essentiality_comp_fa = pd.DataFrame()\n",
    "\n",
    "essentiality_comp_anc1 = pd.DataFrame()\n",
    "essentiality_comp_anc2 = pd.DataFrame()\n",
    "essentiality_comp_evo1 = pd.DataFrame()\n",
    "essentiality_comp_evo2 = pd.DataFrame()\n",
    "\n",
    "essentiality_comp_anc1['Mutated gene'] = genes_diff_comp_label\n",
    "essentiality_comp_anc1['Fitness effect'] = s_fa_anc1\n",
    "essentiality_comp_anc1['Experiment'] = 'Deletion'\n",
    "essentiality_comp_anc1['Isolate'] = 'Anc'\n",
    "\n",
    "\n",
    "essentiality_comp_anc2['Mutated gene'] = genes_diff_comp_label\n",
    "essentiality_comp_anc2['Fitness effect'] = s_fa_anc2\n",
    "essentiality_comp_anc2['Experiment'] = 'Deletion'\n",
    "essentiality_comp_anc2['Isolate'] = 'Anc'\n",
    "\n",
    "\n",
    "essentiality_comp_evo1['Mutated gene'] = genes_diff_comp_label\n",
    "essentiality_comp_evo1['Fitness effect'] = s_fa_evo1\n",
    "essentiality_comp_evo1['Experiment'] = 'Deletion'\n",
    "essentiality_comp_evo1['Isolate'] = 'Ara–1'\n",
    "\n",
    "\n",
    "essentiality_comp_evo2['Mutated gene'] = genes_diff_comp_label\n",
    "essentiality_comp_evo2['Fitness effect'] = s_fa_evo2\n",
    "essentiality_comp_evo2['Experiment'] = 'Deletion'\n",
    "essentiality_comp_evo2['Isolate'] = 'Ara–1'\n",
    "\n",
    "\n",
    "frames = [essentiality_comp_anc1, essentiality_comp_anc2, essentiality_comp_evo1, essentiality_comp_evo2]\n",
    "\n",
    "essentiality_comp_fa = pd.concat(frames)"
   ]
  },
  {
   "cell_type": "code",
   "execution_count": 825,
   "id": "laden-oxford",
   "metadata": {},
   "outputs": [
    {
     "data": {
      "text/html": [
       "<div>\n",
       "<style scoped>\n",
       "    .dataframe tbody tr th:only-of-type {\n",
       "        vertical-align: middle;\n",
       "    }\n",
       "\n",
       "    .dataframe tbody tr th {\n",
       "        vertical-align: top;\n",
       "    }\n",
       "\n",
       "    .dataframe thead th {\n",
       "        text-align: right;\n",
       "    }\n",
       "</style>\n",
       "<table border=\"1\" class=\"dataframe\">\n",
       "  <thead>\n",
       "    <tr style=\"text-align: right;\">\n",
       "      <th></th>\n",
       "      <th>Mutated gene</th>\n",
       "      <th>Fitness effect</th>\n",
       "      <th>Experiment</th>\n",
       "      <th>Isolate</th>\n",
       "    </tr>\n",
       "  </thead>\n",
       "  <tbody>\n",
       "    <tr>\n",
       "      <th>0</th>\n",
       "      <td>$\\it{gdhA}$</td>\n",
       "      <td>0.023888</td>\n",
       "      <td>Deletion</td>\n",
       "      <td>Anc</td>\n",
       "    </tr>\n",
       "    <tr>\n",
       "      <th>1</th>\n",
       "      <td>$\\it{sspA}$</td>\n",
       "      <td>-0.260210</td>\n",
       "      <td>Deletion</td>\n",
       "      <td>Anc</td>\n",
       "    </tr>\n",
       "    <tr>\n",
       "      <th>0</th>\n",
       "      <td>$\\it{gdhA}$</td>\n",
       "      <td>0.010617</td>\n",
       "      <td>Deletion</td>\n",
       "      <td>Anc</td>\n",
       "    </tr>\n",
       "    <tr>\n",
       "      <th>1</th>\n",
       "      <td>$\\it{sspA}$</td>\n",
       "      <td>-0.243554</td>\n",
       "      <td>Deletion</td>\n",
       "      <td>Anc</td>\n",
       "    </tr>\n",
       "    <tr>\n",
       "      <th>0</th>\n",
       "      <td>$\\it{gdhA}$</td>\n",
       "      <td>-0.765085</td>\n",
       "      <td>Deletion</td>\n",
       "      <td>Ara–1</td>\n",
       "    </tr>\n",
       "    <tr>\n",
       "      <th>1</th>\n",
       "      <td>$\\it{sspA}$</td>\n",
       "      <td>-0.036893</td>\n",
       "      <td>Deletion</td>\n",
       "      <td>Ara–1</td>\n",
       "    </tr>\n",
       "    <tr>\n",
       "      <th>0</th>\n",
       "      <td>$\\it{gdhA}$</td>\n",
       "      <td>-0.656437</td>\n",
       "      <td>Deletion</td>\n",
       "      <td>Ara–1</td>\n",
       "    </tr>\n",
       "    <tr>\n",
       "      <th>1</th>\n",
       "      <td>$\\it{sspA}$</td>\n",
       "      <td>-0.002774</td>\n",
       "      <td>Deletion</td>\n",
       "      <td>Ara–1</td>\n",
       "    </tr>\n",
       "  </tbody>\n",
       "</table>\n",
       "</div>"
      ],
      "text/plain": [
       "  Mutated gene  Fitness effect Experiment Isolate\n",
       "0  $\\it{gdhA}$        0.023888   Deletion     Anc\n",
       "1  $\\it{sspA}$       -0.260210   Deletion     Anc\n",
       "0  $\\it{gdhA}$        0.010617   Deletion     Anc\n",
       "1  $\\it{sspA}$       -0.243554   Deletion     Anc\n",
       "0  $\\it{gdhA}$       -0.765085   Deletion   Ara–1\n",
       "1  $\\it{sspA}$       -0.036893   Deletion   Ara–1\n",
       "0  $\\it{gdhA}$       -0.656437   Deletion   Ara–1\n",
       "1  $\\it{sspA}$       -0.002774   Deletion   Ara–1"
      ]
     },
     "execution_count": 825,
     "metadata": {},
     "output_type": "execute_result"
    }
   ],
   "source": [
    "essentiality_comp_fa"
   ]
  },
  {
   "cell_type": "code",
   "execution_count": 826,
   "id": "wrong-aberdeen",
   "metadata": {},
   "outputs": [],
   "source": [
    "essentiality_comp_strain = pd.concat([essentiality_comp_tnseq, essentiality_comp_fa])"
   ]
  },
  {
   "cell_type": "code",
   "execution_count": 827,
   "id": "stock-collaboration",
   "metadata": {},
   "outputs": [
    {
     "data": {
      "image/png": "[encoded data removed]",
      "text/plain": [
       "<Figure size 495.93x216 with 2 Axes>"
      ]
     },
     "metadata": {},
     "output_type": "display_data"
    }
   ],
   "source": [
    "with sns.axes_style('ticks'):\n",
    "#     fig,ax = plt.subplots(figsize=(5,3))\n",
    "    ax = sns.catplot(x=\"Isolate\", y=\"Fitness effect\", data=essentiality_comp_strain, col= 'Mutated gene', hue='Experiment', palette=sns.mpl_palette('Set1'),height=3, aspect=1)\n",
    "#     ax.legend(loc='lower right')\n",
    "#     ax.axhline(0, color='k')\n",
    "#     ax.text(0, -0.4, 'essential')\n",
    "#     ax.axhline(-0.3, color='black')\n",
    "\n",
    "    sns.despine(offset = 0.3)\n",
    "#     plt.savefig(figpath+'diff_ess_recombineered.png', format='png', dpi=300)\n"
   ]
  },
  {
   "cell_type": "markdown",
   "id": "hungry-liquid",
   "metadata": {},
   "source": [
    "## Miscellaneous data etc. for supplementary tables"
   ]
  },
  {
   "cell_type": "code",
   "execution_count": 162,
   "id": "false-cliff",
   "metadata": {},
   "outputs": [],
   "source": [
    "wecA_data = np.mean(fitness_gene_corrected[list(names).index('wecA'), order],axis=1)"
   ]
  },
  {
   "cell_type": "code",
   "execution_count": 219,
   "id": "combined-hazard",
   "metadata": {},
   "outputs": [
    {
     "name": "stdout",
     "output_type": "stream",
     "text": [
      "REL606 0.0202\n",
      "Ara-1 -0.0176\n",
      "Ara-3 -0.05\n",
      "Ara-4 -0.0536\n",
      "Ara-5 -0.0006\n",
      "Ara-6 -0.0244\n",
      "REL607 0.021\n",
      "Ara+1 -0.0662\n",
      "Ara+2 -0.0868\n",
      "Ara+3 -0.0025\n",
      "Ara+5 -0.0144\n",
      "Ara+6 -0.0777\n"
     ]
    }
   ],
   "source": [
    "rows_wecA = []\n",
    "for pop in order:\n",
    "    print(libraries2[pop], np.round(np.mean(fitness_gene_corrected[list(names).index('wecA'), pop]), 4))\n",
    "    dict1={}\n",
    "    dict1[\"Population\"] = libraries2[pop]\n",
    "    dict1[\"Fitness effect of wecA insertion mutation\"] = np.round(np.mean(fitness_gene_corrected[list(names).index('wecA'), pop]), 4)\n",
    "    rows_wecA.append(dict1)"
   ]
  },
  {
   "cell_type": "code",
   "execution_count": 220,
   "id": "sized-house",
   "metadata": {},
   "outputs": [],
   "source": [
    "wecA_df = pd.DataFrame(rows_wecA)\n",
    "# wecA_df.to_csv(repo+'/Analysis/Supplementary_tables/wecA_insertion_mutation_fitnesses.csv')"
   ]
  },
  {
   "cell_type": "markdown",
   "id": "personal-watts",
   "metadata": {},
   "source": [
    "## Supplementary Figure 4: defining essentiality in LB"
   ]
  },
  {
   "cell_type": "markdown",
   "id": "major-international",
   "metadata": {},
   "source": [
    "a) Defining gene essentiality in LB"
   ]
  },
  {
   "cell_type": "code",
   "execution_count": 866,
   "id": "voluntary-oasis",
   "metadata": {},
   "outputs": [
    {
     "data": {
      "image/png": "[encoded data removed]",
      "text/plain": [
       "<Figure size 216x144 with 1 Axes>"
      ]
     },
     "metadata": {},
     "output_type": "display_data"
    }
   ],
   "source": [
    "with sns.axes_style('ticks'):\n",
    "    pvals_fdr = np.loadtxt(datapath+'pvals_fdr_5_ta_min_5.txt')\n",
    "\n",
    "    data = fraction_t0[:,0]\n",
    "    x = np.linspace(0,1,1000)\n",
    "    bins=np.linspace(0,1,40)\n",
    "    fig,ax = plt.subplots(figsize=(3,2), sharey=False)\n",
    "    # ax[0].hist(data[data>-1], bins=bins, density=1)\n",
    "    # ax[0].plot(x, stats.gamma.pdf(x,a,loc,scale_noness), color='black')\n",
    "    # ax[0].set(xlabel='Fraction of TA sites\\nwith coverage >=5', ylabel='Probability density')\n",
    "\n",
    "    ess = np.where(np.abs(data)<0.1)[0]\n",
    "    noness = np.where((pvals_fdr[:,0]>0.15))\n",
    "    ax.hist(data[data>-1],bins=bins, label='Unclassified')\n",
    "    ax.hist(data[ess], bins=bins,label='Essential Genes')\n",
    "    ax.hist(data[noness],bins=bins,label='Non-essential Genes')\n",
    "    ax.set(xlabel='Fraction of TA sites\\nwith coverage >=5', ylabel='Number of genes')\n",
    "    #     plt.plot(x, stats.norm.pdf(x, mu,var),label='Gaussian fit for non-essential genes')\n",
    "    ax.legend(bbox_to_anchor=(1,1),frameon=False)\n",
    "    plt.subplots_adjust(wspace=0.6)\n",
    "    sns.despine(offset=0)\n",
    "\n",
    "    plt.show()\n",
    "    \n",
    "fig.savefig(figpath+'LB_essentiality.pdf', format='pdf',bbox_inches='tight')"
   ]
  },
  {
   "cell_type": "code",
   "execution_count": 865,
   "id": "b7d4ac36",
   "metadata": {},
   "outputs": [
    {
     "data": {
      "text/plain": [
       "0.45"
      ]
     },
     "execution_count": 865,
     "metadata": {},
     "output_type": "execute_result"
    }
   ],
   "source": [
    "np.min(fraction_t0[noness,0])"
   ]
  },
  {
   "cell_type": "markdown",
   "id": "maritime-syndicate",
   "metadata": {},
   "source": [
    "### b) reliability of classification, AUC plot"
   ]
  },
  {
   "cell_type": "code",
   "execution_count": 181,
   "id": "square-craft",
   "metadata": {},
   "outputs": [],
   "source": [
    "ta_min = 5\n",
    "names_included = names[np.where(ta_gene>=ta_min)[0]]\n",
    "\n",
    "tradis_k12 = pd.read_excel(metadata_path+'/tradis_k12_essentiality.xlsx', skiprows=[0])\n",
    "tradis_k12 = tradis_k12.loc[tradis_k12['Gene'].isin(names_included)]\n",
    "\n",
    "ess_k12 = tradis_k12.loc[tradis_k12['Essential']==True, 'Gene']\n",
    "noness_k12 = tradis_k12.loc[tradis_k12['Non-essential']==True, 'Gene']"
   ]
  },
  {
   "cell_type": "code",
   "execution_count": 182,
   "id": "respective-auckland",
   "metadata": {},
   "outputs": [],
   "source": [
    "anc_ess = names[np.where(np.abs(fraction_t0[:,0]) < 0.1)[0]]\n",
    "names_filtered = tradis_k12['Gene']\n",
    "anc_ess = set(anc_ess)&set(names_filtered)"
   ]
  },
  {
   "cell_type": "code",
   "execution_count": 183,
   "id": "involved-bible",
   "metadata": {},
   "outputs": [],
   "source": [
    "TP = len(ess_k12)\n",
    "tpr_05 = len(anc_ess & set(ess_k12))/len(ess_k12)"
   ]
  },
  {
   "cell_type": "code",
   "execution_count": 184,
   "id": "confidential-checkout",
   "metadata": {},
   "outputs": [
    {
     "name": "stdout",
     "output_type": "stream",
     "text": [
      "0.88125 0.02225705329153605\n"
     ]
    }
   ],
   "source": [
    "FP = len(set(list(anc_ess))-set(list(ess_k12)))\n",
    "TN = len(tradis_k12) - len(ess_k12)\n",
    "\n",
    "fpr_05 = FP/(FP+TN)\n",
    "print(tpr_05, fpr_05)"
   ]
  },
  {
   "cell_type": "code",
   "execution_count": 177,
   "id": "distinct-observer",
   "metadata": {},
   "outputs": [],
   "source": [
    "from sklearn.metrics import auc"
   ]
  },
  {
   "cell_type": "code",
   "execution_count": 185,
   "id": "narrow-hierarchy",
   "metadata": {},
   "outputs": [],
   "source": [
    "fpr = []\n",
    "tpr = []\n",
    "cutoff = np.logspace(-14, 0, 1000)\n",
    "\n",
    "anc_ess = names[np.where(np.abs(fraction_t0[:,0])<0)[0]]\n",
    "names_filtered = tradis_k12['Gene']\n",
    "anc_ess = set(anc_ess)&set(names_filtered)\n",
    "P = len(ess_k12)#ground truth for our calculations\n",
    "TP = len(anc_ess & set(ess_k12))\n",
    "tpr.append(TP/P)\n",
    "\n",
    "FP = len(set(anc_ess)-set(list(ess_k12)))\n",
    "N = len(tradis_k12) - len(ess_k12)\n",
    "fpr.append(FP/N)\n",
    "\n",
    "for alpha in cutoff:\n",
    "    anc_ess = names[np.where(np.abs(fraction_t0[:,0])<alpha)[0]]\n",
    "    names_filtered = tradis_k12['Gene']\n",
    "    anc_ess = set(anc_ess)&set(names_filtered)\n",
    "    P = len(ess_k12)#ground truth for our calculations\n",
    "    TP = len(anc_ess & set(ess_k12))\n",
    "    tpr.append(TP/P)\n",
    "    \n",
    "    FP = len(set(anc_ess)-set(list(ess_k12)))\n",
    "    N = len(tradis_k12) - len(ess_k12)\n",
    "    fpr.append(FP/N)"
   ]
  },
  {
   "cell_type": "code",
   "execution_count": 186,
   "id": "blond-efficiency",
   "metadata": {},
   "outputs": [
    {
     "data": {
      "image/png": "[encoded data removed]",
      "text/plain": [
       "<Figure size 144x144 with 1 Axes>"
      ]
     },
     "metadata": {},
     "output_type": "display_data"
    }
   ],
   "source": [
    "with sns.axes_style('ticks'):\n",
    "    plt.figure(figsize=(2,2))\n",
    "    plt.plot(fpr, tpr)\n",
    "    plt.plot(fpr_05, tpr_05, 'ok')\n",
    "    plt.text(fpr_05+0.05, tpr_05-0.05, f'({np.round(fpr_05,2)},{np.round(tpr_05,2)})')\n",
    "    plt.plot(np.linspace(0,1), np.linspace(0,1), color='black')\n",
    "    plt.xlabel('False Positive Rate')\n",
    "    plt.ylabel('True Positive Rate')\n",
    "    plt.title(f'AUC={np.round(auc(fpr, tpr),4)}')\n",
    "    plt.xticks(np.linspace(0,1,5))\n",
    "    sns.despine()\n",
    "    plt.savefig(figpath+'auc.pdf',bbox_inches='tight')"
   ]
  },
  {
   "cell_type": "code",
   "execution_count": 187,
   "id": "diagnostic-friendly",
   "metadata": {},
   "outputs": [
    {
     "data": {
      "text/plain": [
       "0.957635159506252"
      ]
     },
     "execution_count": 187,
     "metadata": {},
     "output_type": "execute_result"
    }
   ],
   "source": [
    "auc(fpr, tpr)"
   ]
  },
  {
   "cell_type": "markdown",
   "id": "personal-wisconsin",
   "metadata": {},
   "source": [
    "## Homologs/Loss of functional redundancy analysis\n",
    "\n",
    "When does loss of a homolog lead to a gene becoming essential?"
   ]
  },
  {
   "cell_type": "code",
   "execution_count": 245,
   "id": "married-scottish",
   "metadata": {},
   "outputs": [],
   "source": [
    "#loading the data on homologs\n",
    "homologs = np.loadtxt(cwd+'/Processed_data_for_plotting/homologs_two.txt')"
   ]
  },
  {
   "cell_type": "code",
   "execution_count": 236,
   "id": "dressed-reader",
   "metadata": {
    "collapsed": true
   },
   "outputs": [
    {
     "name": "stdout",
     "output_type": "stream",
     "text": [
      "Ara-1\n",
      "9\n",
      "16\n",
      "\n",
      "\n",
      "Ara-3\n",
      "6\n",
      "21\n",
      "\n",
      "\n",
      "Ara-4\n",
      "12\n",
      "22\n",
      "\n",
      "\n",
      "Ara-5\n",
      "6\n",
      "16\n",
      "\n",
      "\n",
      "Ara-6\n",
      "67\n",
      "15\n",
      "\n",
      "\n",
      "Ara+1\n",
      "6\n",
      "13\n",
      "\n",
      "\n",
      "Ara+2\n",
      "16\n",
      "20\n",
      "\n",
      "\n",
      "Ara+3\n",
      "4\n",
      "22\n",
      "\n",
      "\n",
      "Ara+5\n",
      "8\n",
      "20\n",
      "\n",
      "\n",
      "Ara+6\n",
      "10\n",
      "29\n",
      "\n",
      "\n"
     ]
    }
   ],
   "source": [
    "for k in range(diff_ess_combined.shape[1]):\n",
    "    print(libraries4[k+2])\n",
    "    print(np.sum(diff_ess_combined[:,k]==1))\n",
    "    print(np.sum(diff_ess_combined[:,k]==2))\n",
    "    print('\\n')"
   ]
  },
  {
   "cell_type": "code",
   "execution_count": 250,
   "id": "psychological-india",
   "metadata": {
    "scrolled": true
   },
   "outputs": [
    {
     "name": "stdout",
     "output_type": "stream",
     "text": [
      "Number of homolog pairs where one copy is lost over evolution in: Ara-1\n",
      "12\n",
      "[ 466 1393 1396 1399 1781 1782 1792 1794 1795 1801 3409 3410]\n",
      "rffH rfbA\n",
      "3433 1792\n",
      "rffG rfbB\n",
      "3432 1794\n",
      "Number of homolog pairs where one copy is lost over evolution in: Ara-3\n",
      "48\n",
      "[ 466  471  475  509  510 1268 1393 1396 1399 1781 1782 1792 1794 1795\n",
      " 1801 1827 1828 1829 1831 1840 1841 1842 1843 1849 2524 2623 2637 2638\n",
      " 2779 2780 2781 2782 3226 3227 3409 3410 3750 3756 3762 3763 3926 3930\n",
      " 3931 3932 3936 3950 3959 3961]\n",
      "kdsB kdsB\n",
      "843 2623\n",
      "Number of homolog pairs where one copy is lost over evolution in: Ara-4\n",
      "27\n",
      "[ 466  471  475  509  510 1393 1396 1399 1781 1782 1792 1794 1795 1801\n",
      " 1860 2637 2638 2639 2640 2645 3409 3410 3926 3930 3931 3932 3936]\n",
      "rffH rfbA\n",
      "3433 1792\n",
      "rffG rfbB\n",
      "3432 1794\n",
      "Number of homolog pairs where one copy is lost over evolution in: Ara-5\n",
      "16\n",
      "[ 466 1393 1396 1399 1781 1782 1792 1794 1795 1801 1840 1841 1842 1843\n",
      " 1849 3409]\n",
      "rffH rfbA\n",
      "3433 1792\n",
      "Number of homolog pairs where one copy is lost over evolution in: Ara-6\n",
      "11\n",
      "[ 466  471  475 1792 1794 2617 2618 3409 3410 3959 3961]\n",
      "rffH rfbA\n",
      "3433 1792\n",
      "rffG rfbB\n",
      "3432 1794\n",
      "Number of homolog pairs where one copy is lost over evolution in: Ara+1\n",
      "33\n",
      "[ 466  765  766  767  768  783  784  787  790 1393 1396 1399 1745 1792\n",
      " 1794 1795 1827 1828 2194 2617 2618 2623 2637 2638 2639 2640 2645 3409\n",
      " 3410 3750 3756 3762 3763]\n",
      "rffH rfbA\n",
      "3433 1792\n",
      "kdsB kdsB\n",
      "843 2623\n",
      "Number of homolog pairs where one copy is lost over evolution in: Ara+2\n",
      "15\n",
      "[ 466  471  475 1792 1794 1795 1840 1841 1842 1843 1849 2617 2618 2623\n",
      " 3916]\n",
      "rffH rfbA\n",
      "3433 1792\n",
      "rffG rfbB\n",
      "3432 1794\n",
      "kdsB kdsB\n",
      "843 2623\n",
      "Number of homolog pairs where one copy is lost over evolution in: Ara+3\n",
      "21\n",
      "[ 466  471  475 1245 1246 1393 1396 1399 1781 1782 1792 1794 1795 1801\n",
      " 1840 1841 1842 1843 1849 3409 3410]\n",
      "Number of homolog pairs where one copy is lost over evolution in: Ara+5\n",
      "17\n",
      "[1840 1841 1842 1843 1849 2637 2638 2639 2640 2645 2659 2662 2663 2665\n",
      " 2668 2669 2672]\n",
      "Number of homolog pairs where one copy is lost over evolution in: Ara+6\n",
      "12\n",
      "[ 466  509  510 1393 1396 1399 1840 1841 1842 1843 1849 3409]\n"
     ]
    }
   ],
   "source": [
    "gene_names = list(names)\n",
    "for k in range(diff_ess_combined.shape[1]):\n",
    "    print('Number of homolog pairs where one copy is lost over evolution in:', libraries4[k+2])\n",
    "    pop_num = pops_compare[k]\n",
    "    print(np.sum((exclude_genes[pop_num,:]==1)&(homologs>0)))\n",
    "    \n",
    "    \n",
    "    #next, we need to find the index for the other copy:\n",
    "    homolog_lost = np.where((exclude_genes[pop_num,:]==1)&(homologs>0))[0]\n",
    "    print(homolog_lost)\n",
    "    remaining_essential = np.zeros(len(homolog_lost))\n",
    "    #is the corresponding copy essential:\n",
    "    #finding the corresponding copy:\n",
    "    for gene in homolog_lost:\n",
    "        corresponding = list(set(np.where(homologs==homologs[gene])[0]) - set([gene])) #basically finding \n",
    "        #all occurrences of the same value of the homolog pair, and removing the gene that was lost to find its\n",
    "        #corresponding gene:\n",
    "        if diff_ess_combined[corresponding, k] == 2: #i.e. if the other pair becomes essential as a result of the \n",
    "            #loss of the focal gene \n",
    "            remaining_essential[count] = 1 #this means the corresponding copy is essential\n",
    "            print(gene_names[corresponding[0]],gene_names[gene])\n",
    "            print(corresponding[0], gene)"
   ]
  },
  {
   "cell_type": "markdown",
   "id": "understanding-jefferson",
   "metadata": {},
   "source": [
    "NOTE: of all the distinct instances of genes becoming essential over evolution, only three genes can be linked to the loss of a homolog. also, deletions in rffG and rffH are highly deleterious in all populations where rfbA/B are lost. This is not fully reflected in the essential vs nonessential classification due to the threshold being arbitrary. However, if you look at the mutant trajectories, in populations where rfbA and rfbB were lost, they've basically disappeared by timepoint 1.\n",
    "\n",
    "### RESULT: Out of the 80 genes becoming essential over evolution, 77 of them are not linked to loss of a homolog (only instances where this is true are rffG, rffH and kdsB)"
   ]
  },
  {
   "cell_type": "markdown",
   "id": "backed-cutting",
   "metadata": {},
   "source": [
    "## Collecting data on kdsB copies."
   ]
  },
  {
   "cell_type": "code",
   "execution_count": 382,
   "id": "magnetic-starter",
   "metadata": {},
   "outputs": [],
   "source": [
    "kdsB_1 = 843\n",
    "kdsB_2 = 2623"
   ]
  },
  {
   "cell_type": "code",
   "execution_count": 383,
   "id": "varied-austria",
   "metadata": {},
   "outputs": [],
   "source": [
    "test = lambda x : 'Lost' if (x == 1 ) else 'Present'\n",
    "test2 = lambda x : 'Essential' if (x == 2 ) else 'Nonessential'"
   ]
  },
  {
   "cell_type": "code",
   "execution_count": 384,
   "id": "utility-relevance",
   "metadata": {},
   "outputs": [],
   "source": [
    "diff_ess_kdsB = np.zeros(14)\n",
    "diff_ess_kdsB[np.array(pops_compare)] = diff_ess_combined[843]"
   ]
  },
  {
   "cell_type": "code",
   "execution_count": 385,
   "id": "respiratory-security",
   "metadata": {},
   "outputs": [],
   "source": [
    "rows_kdsB = []"
   ]
  },
  {
   "cell_type": "code",
   "execution_count": 386,
   "id": "consecutive-roman",
   "metadata": {},
   "outputs": [],
   "source": [
    "for k in range(0, len(libraries2)):\n",
    "    if k not in [3,11]: #excluded populations from analysis\n",
    "        dict1 = {}\n",
    "        dict1['Population'] = libraries2[k]\n",
    "        if k != 13: #no expression level data for Ara+6 from Favate et al due to cross-contamination    \n",
    "            dict1['kdsB_1'] = test(exclude_genes[k, kdsB_1])\n",
    "            dict1['kdsB_1 Expression level'] = expression_lvls[kdsB_1, k]\n",
    "            dict1['kdsB_2'] = test(exclude_genes[k, kdsB_2])\n",
    "            dict1['kdsB_2 Expression level'] = expression_lvls[kdsB_2, k]\n",
    "            dict1['Insertion in kdsB_1'] = test2(diff_ess_kdsB[k])\n",
    "            dict1['Fitness effect of insertion in kdsB_1'] = np.mean(fitness_gene_relaxed[843,k])\n",
    "        else:\n",
    "            dict1['kdsB_1'] = test(exclude_genes[k, kdsB_1])\n",
    "            dict1['kdsB_2'] = test(exclude_genes[k, kdsB_2])\n",
    "            dict1['kdsB_1 Expression level'] = 'N/A'\n",
    "            dict1['kdsB_2 Expression level'] = 'N/A'\n",
    "            dict1['Insertion in kdsB_1'] = test2(diff_ess_kdsB[k])\n",
    "        rows_kdsB.append(dict1)"
   ]
  },
  {
   "cell_type": "code",
   "execution_count": 387,
   "id": "earlier-palestine",
   "metadata": {},
   "outputs": [],
   "source": [
    "df_kdsB = pd.DataFrame(rows_kdsB)"
   ]
  },
  {
   "cell_type": "code",
   "execution_count": 388,
   "id": "united-protocol",
   "metadata": {},
   "outputs": [
    {
     "data": {
      "text/html": [
       "<div>\n",
       "<style scoped>\n",
       "    .dataframe tbody tr th:only-of-type {\n",
       "        vertical-align: middle;\n",
       "    }\n",
       "\n",
       "    .dataframe tbody tr th {\n",
       "        vertical-align: top;\n",
       "    }\n",
       "\n",
       "    .dataframe thead th {\n",
       "        text-align: right;\n",
       "    }\n",
       "</style>\n",
       "<table border=\"1\" class=\"dataframe\">\n",
       "  <thead>\n",
       "    <tr style=\"text-align: right;\">\n",
       "      <th></th>\n",
       "      <th>Population</th>\n",
       "      <th>kdsB_1</th>\n",
       "      <th>kdsB_1 Expression level</th>\n",
       "      <th>kdsB_2</th>\n",
       "      <th>kdsB_2 Expression level</th>\n",
       "      <th>Insertion in kdsB_1</th>\n",
       "      <th>Fitness effect of insertion in kdsB_1</th>\n",
       "    </tr>\n",
       "  </thead>\n",
       "  <tbody>\n",
       "    <tr>\n",
       "      <th>0</th>\n",
       "      <td>ANC</td>\n",
       "      <td>Present</td>\n",
       "      <td>15.052811</td>\n",
       "      <td>Present</td>\n",
       "      <td>11.107939</td>\n",
       "      <td>Nonessential</td>\n",
       "      <td>0.001687</td>\n",
       "    </tr>\n",
       "    <tr>\n",
       "      <th>1</th>\n",
       "      <td>ANC</td>\n",
       "      <td>Present</td>\n",
       "      <td>14.312724</td>\n",
       "      <td>Present</td>\n",
       "      <td>6.313982</td>\n",
       "      <td>Nonessential</td>\n",
       "      <td>0.004758</td>\n",
       "    </tr>\n",
       "    <tr>\n",
       "      <th>2</th>\n",
       "      <td>Ara–1</td>\n",
       "      <td>Present</td>\n",
       "      <td>29.916287</td>\n",
       "      <td>Present</td>\n",
       "      <td>1.074903</td>\n",
       "      <td>Essential</td>\n",
       "      <td>-0.349589</td>\n",
       "    </tr>\n",
       "    <tr>\n",
       "      <th>3</th>\n",
       "      <td>Ara–3</td>\n",
       "      <td>Present</td>\n",
       "      <td>39.141092</td>\n",
       "      <td>Lost</td>\n",
       "      <td>0.0</td>\n",
       "      <td>Essential</td>\n",
       "      <td>-1.000000</td>\n",
       "    </tr>\n",
       "    <tr>\n",
       "      <th>4</th>\n",
       "      <td>Ara–4</td>\n",
       "      <td>Present</td>\n",
       "      <td>17.589298</td>\n",
       "      <td>Present</td>\n",
       "      <td>0.143343</td>\n",
       "      <td>Essential</td>\n",
       "      <td>-1.000000</td>\n",
       "    </tr>\n",
       "    <tr>\n",
       "      <th>5</th>\n",
       "      <td>Ara–5</td>\n",
       "      <td>Present</td>\n",
       "      <td>30.994721</td>\n",
       "      <td>Present</td>\n",
       "      <td>5.95256</td>\n",
       "      <td>Nonessential</td>\n",
       "      <td>-0.012022</td>\n",
       "    </tr>\n",
       "    <tr>\n",
       "      <th>6</th>\n",
       "      <td>Ara–6</td>\n",
       "      <td>Present</td>\n",
       "      <td>36.690559</td>\n",
       "      <td>Present</td>\n",
       "      <td>2.278276</td>\n",
       "      <td>Nonessential</td>\n",
       "      <td>-0.208915</td>\n",
       "    </tr>\n",
       "    <tr>\n",
       "      <th>7</th>\n",
       "      <td>Ara+1</td>\n",
       "      <td>Present</td>\n",
       "      <td>26.115987</td>\n",
       "      <td>Lost</td>\n",
       "      <td>0.0</td>\n",
       "      <td>Essential</td>\n",
       "      <td>-1.000000</td>\n",
       "    </tr>\n",
       "    <tr>\n",
       "      <th>8</th>\n",
       "      <td>Ara+2</td>\n",
       "      <td>Present</td>\n",
       "      <td>18.00264</td>\n",
       "      <td>Lost</td>\n",
       "      <td>0.0</td>\n",
       "      <td>Essential</td>\n",
       "      <td>-1.000000</td>\n",
       "    </tr>\n",
       "    <tr>\n",
       "      <th>9</th>\n",
       "      <td>Ara+3</td>\n",
       "      <td>Present</td>\n",
       "      <td>15.527582</td>\n",
       "      <td>Present</td>\n",
       "      <td>0.0</td>\n",
       "      <td>Essential</td>\n",
       "      <td>-0.432218</td>\n",
       "    </tr>\n",
       "    <tr>\n",
       "      <th>10</th>\n",
       "      <td>Ara+5</td>\n",
       "      <td>Present</td>\n",
       "      <td>22.74402</td>\n",
       "      <td>Present</td>\n",
       "      <td>6.456354</td>\n",
       "      <td>Nonessential</td>\n",
       "      <td>0.010507</td>\n",
       "    </tr>\n",
       "    <tr>\n",
       "      <th>11</th>\n",
       "      <td>Ara+6</td>\n",
       "      <td>Present</td>\n",
       "      <td>N/A</td>\n",
       "      <td>Present</td>\n",
       "      <td>N/A</td>\n",
       "      <td>Essential</td>\n",
       "      <td>NaN</td>\n",
       "    </tr>\n",
       "  </tbody>\n",
       "</table>\n",
       "</div>"
      ],
      "text/plain": [
       "   Population   kdsB_1 kdsB_1 Expression level   kdsB_2  \\\n",
       "0         ANC  Present               15.052811  Present   \n",
       "1         ANC  Present               14.312724  Present   \n",
       "2       Ara–1  Present               29.916287  Present   \n",
       "3       Ara–3  Present               39.141092     Lost   \n",
       "4       Ara–4  Present               17.589298  Present   \n",
       "5       Ara–5  Present               30.994721  Present   \n",
       "6       Ara–6  Present               36.690559  Present   \n",
       "7       Ara+1  Present               26.115987     Lost   \n",
       "8       Ara+2  Present                18.00264     Lost   \n",
       "9       Ara+3  Present               15.527582  Present   \n",
       "10      Ara+5  Present                22.74402  Present   \n",
       "11      Ara+6  Present                     N/A  Present   \n",
       "\n",
       "   kdsB_2 Expression level Insertion in kdsB_1  \\\n",
       "0                11.107939        Nonessential   \n",
       "1                 6.313982        Nonessential   \n",
       "2                 1.074903           Essential   \n",
       "3                      0.0           Essential   \n",
       "4                 0.143343           Essential   \n",
       "5                  5.95256        Nonessential   \n",
       "6                 2.278276        Nonessential   \n",
       "7                      0.0           Essential   \n",
       "8                      0.0           Essential   \n",
       "9                      0.0           Essential   \n",
       "10                6.456354        Nonessential   \n",
       "11                     N/A           Essential   \n",
       "\n",
       "    Fitness effect of insertion in kdsB_1  \n",
       "0                                0.001687  \n",
       "1                                0.004758  \n",
       "2                               -0.349589  \n",
       "3                               -1.000000  \n",
       "4                               -1.000000  \n",
       "5                               -0.012022  \n",
       "6                               -0.208915  \n",
       "7                               -1.000000  \n",
       "8                               -1.000000  \n",
       "9                               -0.432218  \n",
       "10                               0.010507  \n",
       "11                                    NaN  "
      ]
     },
     "execution_count": 388,
     "metadata": {},
     "output_type": "execute_result"
    }
   ],
   "source": [
    "df_kdsB"
   ]
  },
  {
   "cell_type": "code",
   "execution_count": 389,
   "id": "ready-zambia",
   "metadata": {},
   "outputs": [
    {
     "data": {
      "text/plain": [
       "array([ 0.001687  ,  0.00475779, -0.34958913, -1.        , -1.        ,\n",
       "       -1.        , -0.0120217 , -0.20891479, -1.        , -1.        ,\n",
       "       -0.43221753, -0.09078158,  0.01050728, -1.        ])"
      ]
     },
     "execution_count": 389,
     "metadata": {},
     "output_type": "execute_result"
    }
   ],
   "source": [
    "np.mean(fitness_gene_relaxed[843],axis=1)"
   ]
  },
  {
   "cell_type": "markdown",
   "id": "responsible-twelve",
   "metadata": {},
   "source": [
    "## Supplementary Figure 9: Correlation between the fitness effect of insertions in kdsB_1 and expression levels of kdsB_2"
   ]
  },
  {
   "cell_type": "code",
   "execution_count": 390,
   "id": "numerous-impression",
   "metadata": {},
   "outputs": [],
   "source": [
    "#populations to consider: rel606, 607, ara-1, ara-4, ara-5, ara-6, ara+3, ara+5\n",
    "kdsB_plot = [0,1,2,5,6,7,10,12]"
   ]
  },
  {
   "cell_type": "code",
   "execution_count": 791,
   "id": "substantial-favor",
   "metadata": {},
   "outputs": [
    {
     "data": {
      "image/png": "[encoded data removed]",
      "text/plain": [
       "<Figure size 288x144 with 1 Axes>"
      ]
     },
     "metadata": {},
     "output_type": "display_data"
    }
   ],
   "source": [
    "with sns.axes_style('ticks'):\n",
    "    plt.figure(figsize=(4,2))\n",
    "    plt.plot(expression_lvls[kdsB_2, kdsB_plot], np.mean(fitness_gene_relaxed[kdsB_1, kdsB_plot],axis=1), 'o')\n",
    "    plt.xlabel('Expression level of $\\it{kdsB}$_2 \\n(Transcripts per million, TPM)')\n",
    "    plt.ylabel('Fitness effect of \\ninsertion mutations in $\\it{kdsB}$_1')\n",
    "    #plotting the max deleterious value of -ln(100)/log2(100)for Ara–4\n",
    "    plt.plot(expression_lvls[kdsB_2, 5], -np.log(100)/np.log2(100), 'o', color='gray')\n",
    "\n",
    "    plt.annotate('Ara–4', xy=(2, -0.5),  xycoords='data',\n",
    "            xytext=(2,-0.5), textcoords='data',\n",
    "            arrowprops=dict(width=1),\n",
    "            horizontalalignment='right', verticalalignment='top',\n",
    "            )\n",
    "    \n",
    "    \n",
    "    plt.ylim(-0.8)\n",
    "    sns.despine()\n",
    "    plt.savefig(figpath+'kdsB.png',format='png', dpi=300, bbox_inches='tight')\n",
    "    plt.show()\n"
   ]
  },
  {
   "cell_type": "code",
   "execution_count": 396,
   "id": "increased-virginia",
   "metadata": {},
   "outputs": [],
   "source": [
    "# calculating a pvalue\n",
    "import statsmodels.api as sm"
   ]
  },
  {
   "cell_type": "code",
   "execution_count": 397,
   "id": "modified-biography",
   "metadata": {},
   "outputs": [],
   "source": [
    "df_kdsB_subset = df_kdsB.loc[(df_kdsB['kdsB_2']=='Present') & (df_kdsB['kdsB_1 Expression level']!='N/A') & (df_kdsB['Fitness effect of insertion in kdsB_1']!=-1)]"
   ]
  },
  {
   "cell_type": "code",
   "execution_count": 398,
   "id": "velvet-decline",
   "metadata": {},
   "outputs": [
    {
     "data": {
      "text/html": [
       "<div>\n",
       "<style scoped>\n",
       "    .dataframe tbody tr th:only-of-type {\n",
       "        vertical-align: middle;\n",
       "    }\n",
       "\n",
       "    .dataframe tbody tr th {\n",
       "        vertical-align: top;\n",
       "    }\n",
       "\n",
       "    .dataframe thead th {\n",
       "        text-align: right;\n",
       "    }\n",
       "</style>\n",
       "<table border=\"1\" class=\"dataframe\">\n",
       "  <thead>\n",
       "    <tr style=\"text-align: right;\">\n",
       "      <th></th>\n",
       "      <th>Population</th>\n",
       "      <th>kdsB_1</th>\n",
       "      <th>kdsB_1 Expression level</th>\n",
       "      <th>kdsB_2</th>\n",
       "      <th>kdsB_2 Expression level</th>\n",
       "      <th>Insertion in kdsB_1</th>\n",
       "      <th>Fitness effect of insertion in kdsB_1</th>\n",
       "    </tr>\n",
       "  </thead>\n",
       "  <tbody>\n",
       "    <tr>\n",
       "      <th>0</th>\n",
       "      <td>ANC</td>\n",
       "      <td>Present</td>\n",
       "      <td>15.052811</td>\n",
       "      <td>Present</td>\n",
       "      <td>11.107939</td>\n",
       "      <td>Nonessential</td>\n",
       "      <td>0.001687</td>\n",
       "    </tr>\n",
       "    <tr>\n",
       "      <th>1</th>\n",
       "      <td>ANC</td>\n",
       "      <td>Present</td>\n",
       "      <td>14.312724</td>\n",
       "      <td>Present</td>\n",
       "      <td>6.313982</td>\n",
       "      <td>Nonessential</td>\n",
       "      <td>0.004758</td>\n",
       "    </tr>\n",
       "    <tr>\n",
       "      <th>2</th>\n",
       "      <td>Ara–1</td>\n",
       "      <td>Present</td>\n",
       "      <td>29.916287</td>\n",
       "      <td>Present</td>\n",
       "      <td>1.074903</td>\n",
       "      <td>Essential</td>\n",
       "      <td>-0.349589</td>\n",
       "    </tr>\n",
       "    <tr>\n",
       "      <th>5</th>\n",
       "      <td>Ara–5</td>\n",
       "      <td>Present</td>\n",
       "      <td>30.994721</td>\n",
       "      <td>Present</td>\n",
       "      <td>5.95256</td>\n",
       "      <td>Nonessential</td>\n",
       "      <td>-0.012022</td>\n",
       "    </tr>\n",
       "    <tr>\n",
       "      <th>6</th>\n",
       "      <td>Ara–6</td>\n",
       "      <td>Present</td>\n",
       "      <td>36.690559</td>\n",
       "      <td>Present</td>\n",
       "      <td>2.278276</td>\n",
       "      <td>Nonessential</td>\n",
       "      <td>-0.208915</td>\n",
       "    </tr>\n",
       "    <tr>\n",
       "      <th>9</th>\n",
       "      <td>Ara+3</td>\n",
       "      <td>Present</td>\n",
       "      <td>15.527582</td>\n",
       "      <td>Present</td>\n",
       "      <td>0.0</td>\n",
       "      <td>Essential</td>\n",
       "      <td>-0.432218</td>\n",
       "    </tr>\n",
       "    <tr>\n",
       "      <th>10</th>\n",
       "      <td>Ara+5</td>\n",
       "      <td>Present</td>\n",
       "      <td>22.74402</td>\n",
       "      <td>Present</td>\n",
       "      <td>6.456354</td>\n",
       "      <td>Nonessential</td>\n",
       "      <td>0.010507</td>\n",
       "    </tr>\n",
       "  </tbody>\n",
       "</table>\n",
       "</div>"
      ],
      "text/plain": [
       "   Population   kdsB_1 kdsB_1 Expression level   kdsB_2  \\\n",
       "0         ANC  Present               15.052811  Present   \n",
       "1         ANC  Present               14.312724  Present   \n",
       "2       Ara–1  Present               29.916287  Present   \n",
       "5       Ara–5  Present               30.994721  Present   \n",
       "6       Ara–6  Present               36.690559  Present   \n",
       "9       Ara+3  Present               15.527582  Present   \n",
       "10      Ara+5  Present                22.74402  Present   \n",
       "\n",
       "   kdsB_2 Expression level Insertion in kdsB_1  \\\n",
       "0                11.107939        Nonessential   \n",
       "1                 6.313982        Nonessential   \n",
       "2                 1.074903           Essential   \n",
       "5                  5.95256        Nonessential   \n",
       "6                 2.278276        Nonessential   \n",
       "9                      0.0           Essential   \n",
       "10                6.456354        Nonessential   \n",
       "\n",
       "    Fitness effect of insertion in kdsB_1  \n",
       "0                                0.001687  \n",
       "1                                0.004758  \n",
       "2                               -0.349589  \n",
       "5                               -0.012022  \n",
       "6                               -0.208915  \n",
       "9                               -0.432218  \n",
       "10                               0.010507  "
      ]
     },
     "execution_count": 398,
     "metadata": {},
     "output_type": "execute_result"
    }
   ],
   "source": [
    "df_kdsB_subset"
   ]
  },
  {
   "cell_type": "code",
   "execution_count": 399,
   "id": "enhanced-kinase",
   "metadata": {},
   "outputs": [
    {
     "name": "stdout",
     "output_type": "stream",
     "text": [
      "                                      OLS Regression Results                                     \n",
      "=================================================================================================\n",
      "Dep. Variable:     Fitness effect of insertion in kdsB_1   R-squared:                       0.781\n",
      "Model:                                               OLS   Adj. R-squared:                  0.737\n",
      "Method:                                    Least Squares   F-statistic:                     17.82\n",
      "Date:                                   Wed, 27 Apr 2022   Prob (F-statistic):            0.00831\n",
      "Time:                                           14:40:03   Log-Likelihood:                 7.5867\n",
      "No. Observations:                                      7   AIC:                            -11.17\n",
      "Df Residuals:                                          5   BIC:                            -11.28\n",
      "Df Model:                                              1                                         \n",
      "Covariance Type:                               nonrobust                                         \n",
      "===========================================================================================\n",
      "                              coef    std err          t      P>|t|      [0.025      0.975]\n",
      "-------------------------------------------------------------------------------------------\n",
      "const                      -0.3458      0.061     -5.687      0.002      -0.502      -0.190\n",
      "kdsB_2 Expression level     0.0432      0.010      4.222      0.008       0.017       0.070\n",
      "==============================================================================\n",
      "Omnibus:                          nan   Durbin-Watson:                   2.566\n",
      "Prob(Omnibus):                    nan   Jarque-Bera (JB):                0.855\n",
      "Skew:                          -0.440   Prob(JB):                        0.652\n",
      "Kurtosis:                       1.531   Cond. No.                         10.0\n",
      "==============================================================================\n",
      "\n",
      "Notes:\n",
      "[1] Standard Errors assume that the covariance matrix of the errors is correctly specified.\n"
     ]
    },
    {
     "name": "stderr",
     "output_type": "stream",
     "text": [
      "/Users/anuraglimdi/opt/miniconda3/envs/sns_env/lib/python3.10/site-packages/statsmodels/stats/stattools.py:74: ValueWarning: omni_normtest is not valid with less than 8 observations; 7 samples were given.\n",
      "  warn(\"omni_normtest is not valid with less than 8 observations; %i \"\n"
     ]
    }
   ],
   "source": [
    "X = df_kdsB_subset['kdsB_2 Expression level']\n",
    "y = df_kdsB_subset['Fitness effect of insertion in kdsB_1']\n",
    "X2 = sm.add_constant(X)\n",
    "est = sm.OLS(y, X2.astype(float))\n",
    "est2 = est.fit()\n",
    "print(est2.summary())"
   ]
  },
  {
   "cell_type": "code",
   "execution_count": 849,
   "id": "5c1ec005",
   "metadata": {},
   "outputs": [
    {
     "data": {
      "text/plain": [
       "const                      0.002343\n",
       "kdsB_2 Expression level    0.008312\n",
       "dtype: float64"
      ]
     },
     "execution_count": 849,
     "metadata": {},
     "output_type": "execute_result"
    }
   ],
   "source": [
    "est2.pvalues"
   ]
  },
  {
   "cell_type": "code",
   "execution_count": 302,
   "id": "corrected-seller",
   "metadata": {},
   "outputs": [],
   "source": [
    "df_kdsB.to_csv(repo+'/Analysis/Supplementary_tables/kdsB_data.csv')"
   ]
  },
  {
   "cell_type": "code",
   "execution_count": 400,
   "id": "magnetic-wright",
   "metadata": {},
   "outputs": [],
   "source": [
    "df_kdsB_subset_2 = df_kdsB.loc[(df_kdsB['kdsB_2']=='Present') & (df_kdsB['kdsB_1 Expression level']!='N/A')]"
   ]
  },
  {
   "cell_type": "code",
   "execution_count": 401,
   "id": "headed-regular",
   "metadata": {},
   "outputs": [
    {
     "data": {
      "text/html": [
       "<div>\n",
       "<style scoped>\n",
       "    .dataframe tbody tr th:only-of-type {\n",
       "        vertical-align: middle;\n",
       "    }\n",
       "\n",
       "    .dataframe tbody tr th {\n",
       "        vertical-align: top;\n",
       "    }\n",
       "\n",
       "    .dataframe thead th {\n",
       "        text-align: right;\n",
       "    }\n",
       "</style>\n",
       "<table border=\"1\" class=\"dataframe\">\n",
       "  <thead>\n",
       "    <tr style=\"text-align: right;\">\n",
       "      <th></th>\n",
       "      <th>Population</th>\n",
       "      <th>kdsB_1</th>\n",
       "      <th>kdsB_1 Expression level</th>\n",
       "      <th>kdsB_2</th>\n",
       "      <th>kdsB_2 Expression level</th>\n",
       "      <th>Insertion in kdsB_1</th>\n",
       "      <th>Fitness effect of insertion in kdsB_1</th>\n",
       "    </tr>\n",
       "  </thead>\n",
       "  <tbody>\n",
       "    <tr>\n",
       "      <th>0</th>\n",
       "      <td>ANC</td>\n",
       "      <td>Present</td>\n",
       "      <td>15.052811</td>\n",
       "      <td>Present</td>\n",
       "      <td>11.107939</td>\n",
       "      <td>Nonessential</td>\n",
       "      <td>0.001687</td>\n",
       "    </tr>\n",
       "    <tr>\n",
       "      <th>1</th>\n",
       "      <td>ANC</td>\n",
       "      <td>Present</td>\n",
       "      <td>14.312724</td>\n",
       "      <td>Present</td>\n",
       "      <td>6.313982</td>\n",
       "      <td>Nonessential</td>\n",
       "      <td>0.004758</td>\n",
       "    </tr>\n",
       "    <tr>\n",
       "      <th>2</th>\n",
       "      <td>Ara–1</td>\n",
       "      <td>Present</td>\n",
       "      <td>29.916287</td>\n",
       "      <td>Present</td>\n",
       "      <td>1.074903</td>\n",
       "      <td>Essential</td>\n",
       "      <td>-0.349589</td>\n",
       "    </tr>\n",
       "    <tr>\n",
       "      <th>4</th>\n",
       "      <td>Ara–4</td>\n",
       "      <td>Present</td>\n",
       "      <td>17.589298</td>\n",
       "      <td>Present</td>\n",
       "      <td>0.143343</td>\n",
       "      <td>Essential</td>\n",
       "      <td>-1.000000</td>\n",
       "    </tr>\n",
       "    <tr>\n",
       "      <th>5</th>\n",
       "      <td>Ara–5</td>\n",
       "      <td>Present</td>\n",
       "      <td>30.994721</td>\n",
       "      <td>Present</td>\n",
       "      <td>5.95256</td>\n",
       "      <td>Nonessential</td>\n",
       "      <td>-0.012022</td>\n",
       "    </tr>\n",
       "    <tr>\n",
       "      <th>6</th>\n",
       "      <td>Ara–6</td>\n",
       "      <td>Present</td>\n",
       "      <td>36.690559</td>\n",
       "      <td>Present</td>\n",
       "      <td>2.278276</td>\n",
       "      <td>Nonessential</td>\n",
       "      <td>-0.208915</td>\n",
       "    </tr>\n",
       "    <tr>\n",
       "      <th>9</th>\n",
       "      <td>Ara+3</td>\n",
       "      <td>Present</td>\n",
       "      <td>15.527582</td>\n",
       "      <td>Present</td>\n",
       "      <td>0.0</td>\n",
       "      <td>Essential</td>\n",
       "      <td>-0.432218</td>\n",
       "    </tr>\n",
       "    <tr>\n",
       "      <th>10</th>\n",
       "      <td>Ara+5</td>\n",
       "      <td>Present</td>\n",
       "      <td>22.74402</td>\n",
       "      <td>Present</td>\n",
       "      <td>6.456354</td>\n",
       "      <td>Nonessential</td>\n",
       "      <td>0.010507</td>\n",
       "    </tr>\n",
       "  </tbody>\n",
       "</table>\n",
       "</div>"
      ],
      "text/plain": [
       "   Population   kdsB_1 kdsB_1 Expression level   kdsB_2  \\\n",
       "0         ANC  Present               15.052811  Present   \n",
       "1         ANC  Present               14.312724  Present   \n",
       "2       Ara–1  Present               29.916287  Present   \n",
       "4       Ara–4  Present               17.589298  Present   \n",
       "5       Ara–5  Present               30.994721  Present   \n",
       "6       Ara–6  Present               36.690559  Present   \n",
       "9       Ara+3  Present               15.527582  Present   \n",
       "10      Ara+5  Present                22.74402  Present   \n",
       "\n",
       "   kdsB_2 Expression level Insertion in kdsB_1  \\\n",
       "0                11.107939        Nonessential   \n",
       "1                 6.313982        Nonessential   \n",
       "2                 1.074903           Essential   \n",
       "4                 0.143343           Essential   \n",
       "5                  5.95256        Nonessential   \n",
       "6                 2.278276        Nonessential   \n",
       "9                      0.0           Essential   \n",
       "10                6.456354        Nonessential   \n",
       "\n",
       "    Fitness effect of insertion in kdsB_1  \n",
       "0                                0.001687  \n",
       "1                                0.004758  \n",
       "2                               -0.349589  \n",
       "4                               -1.000000  \n",
       "5                               -0.012022  \n",
       "6                               -0.208915  \n",
       "9                               -0.432218  \n",
       "10                               0.010507  "
      ]
     },
     "execution_count": 401,
     "metadata": {},
     "output_type": "execute_result"
    }
   ],
   "source": [
    "df_kdsB_subset_2"
   ]
  },
  {
   "cell_type": "markdown",
   "id": "b4e3a2a4",
   "metadata": {},
   "source": [
    "#### setting fitness in Ara-4 to the smallest fitness for an essential gene: -ln(100)/6.64\n",
    "\n",
    "Repeat the linear regression analysis again to make sure that excluding the outlier does not have a major effect on the final analysis"
   ]
  },
  {
   "cell_type": "code",
   "execution_count": 408,
   "id": "f96bd00d",
   "metadata": {},
   "outputs": [],
   "source": [
    "df_kdsB_subset_2.at[4, 'Fitness effect of insertion in kdsB_1'] = -np.log(100)/np.log2(100)"
   ]
  },
  {
   "cell_type": "code",
   "execution_count": 410,
   "id": "789cea0a",
   "metadata": {},
   "outputs": [
    {
     "data": {
      "text/html": [
       "<div>\n",
       "<style scoped>\n",
       "    .dataframe tbody tr th:only-of-type {\n",
       "        vertical-align: middle;\n",
       "    }\n",
       "\n",
       "    .dataframe tbody tr th {\n",
       "        vertical-align: top;\n",
       "    }\n",
       "\n",
       "    .dataframe thead th {\n",
       "        text-align: right;\n",
       "    }\n",
       "</style>\n",
       "<table border=\"1\" class=\"dataframe\">\n",
       "  <thead>\n",
       "    <tr style=\"text-align: right;\">\n",
       "      <th></th>\n",
       "      <th>Population</th>\n",
       "      <th>kdsB_1</th>\n",
       "      <th>kdsB_1 Expression level</th>\n",
       "      <th>kdsB_2</th>\n",
       "      <th>kdsB_2 Expression level</th>\n",
       "      <th>Insertion in kdsB_1</th>\n",
       "      <th>Fitness effect of insertion in kdsB_1</th>\n",
       "    </tr>\n",
       "  </thead>\n",
       "  <tbody>\n",
       "    <tr>\n",
       "      <th>0</th>\n",
       "      <td>ANC</td>\n",
       "      <td>Present</td>\n",
       "      <td>15.052811</td>\n",
       "      <td>Present</td>\n",
       "      <td>11.107939</td>\n",
       "      <td>Nonessential</td>\n",
       "      <td>0.001687</td>\n",
       "    </tr>\n",
       "    <tr>\n",
       "      <th>1</th>\n",
       "      <td>ANC</td>\n",
       "      <td>Present</td>\n",
       "      <td>14.312724</td>\n",
       "      <td>Present</td>\n",
       "      <td>6.313982</td>\n",
       "      <td>Nonessential</td>\n",
       "      <td>0.004758</td>\n",
       "    </tr>\n",
       "    <tr>\n",
       "      <th>2</th>\n",
       "      <td>Ara–1</td>\n",
       "      <td>Present</td>\n",
       "      <td>29.916287</td>\n",
       "      <td>Present</td>\n",
       "      <td>1.074903</td>\n",
       "      <td>Essential</td>\n",
       "      <td>-0.349589</td>\n",
       "    </tr>\n",
       "    <tr>\n",
       "      <th>4</th>\n",
       "      <td>Ara–4</td>\n",
       "      <td>Present</td>\n",
       "      <td>17.589298</td>\n",
       "      <td>Present</td>\n",
       "      <td>0.143343</td>\n",
       "      <td>Essential</td>\n",
       "      <td>-0.693147</td>\n",
       "    </tr>\n",
       "    <tr>\n",
       "      <th>5</th>\n",
       "      <td>Ara–5</td>\n",
       "      <td>Present</td>\n",
       "      <td>30.994721</td>\n",
       "      <td>Present</td>\n",
       "      <td>5.95256</td>\n",
       "      <td>Nonessential</td>\n",
       "      <td>-0.012022</td>\n",
       "    </tr>\n",
       "    <tr>\n",
       "      <th>6</th>\n",
       "      <td>Ara–6</td>\n",
       "      <td>Present</td>\n",
       "      <td>36.690559</td>\n",
       "      <td>Present</td>\n",
       "      <td>2.278276</td>\n",
       "      <td>Nonessential</td>\n",
       "      <td>-0.208915</td>\n",
       "    </tr>\n",
       "    <tr>\n",
       "      <th>9</th>\n",
       "      <td>Ara+3</td>\n",
       "      <td>Present</td>\n",
       "      <td>15.527582</td>\n",
       "      <td>Present</td>\n",
       "      <td>0.0</td>\n",
       "      <td>Essential</td>\n",
       "      <td>-0.432218</td>\n",
       "    </tr>\n",
       "    <tr>\n",
       "      <th>10</th>\n",
       "      <td>Ara+5</td>\n",
       "      <td>Present</td>\n",
       "      <td>22.74402</td>\n",
       "      <td>Present</td>\n",
       "      <td>6.456354</td>\n",
       "      <td>Nonessential</td>\n",
       "      <td>0.010507</td>\n",
       "    </tr>\n",
       "  </tbody>\n",
       "</table>\n",
       "</div>"
      ],
      "text/plain": [
       "   Population   kdsB_1 kdsB_1 Expression level   kdsB_2  \\\n",
       "0         ANC  Present               15.052811  Present   \n",
       "1         ANC  Present               14.312724  Present   \n",
       "2       Ara–1  Present               29.916287  Present   \n",
       "4       Ara–4  Present               17.589298  Present   \n",
       "5       Ara–5  Present               30.994721  Present   \n",
       "6       Ara–6  Present               36.690559  Present   \n",
       "9       Ara+3  Present               15.527582  Present   \n",
       "10      Ara+5  Present                22.74402  Present   \n",
       "\n",
       "   kdsB_2 Expression level Insertion in kdsB_1  \\\n",
       "0                11.107939        Nonessential   \n",
       "1                 6.313982        Nonessential   \n",
       "2                 1.074903           Essential   \n",
       "4                 0.143343           Essential   \n",
       "5                  5.95256        Nonessential   \n",
       "6                 2.278276        Nonessential   \n",
       "9                      0.0           Essential   \n",
       "10                6.456354        Nonessential   \n",
       "\n",
       "    Fitness effect of insertion in kdsB_1  \n",
       "0                                0.001687  \n",
       "1                                0.004758  \n",
       "2                               -0.349589  \n",
       "4                               -0.693147  \n",
       "5                               -0.012022  \n",
       "6                               -0.208915  \n",
       "9                               -0.432218  \n",
       "10                               0.010507  "
      ]
     },
     "execution_count": 410,
     "metadata": {},
     "output_type": "execute_result"
    }
   ],
   "source": [
    "df_kdsB_subset_2"
   ]
  },
  {
   "cell_type": "code",
   "execution_count": 749,
   "id": "1aded012",
   "metadata": {},
   "outputs": [
    {
     "name": "stdout",
     "output_type": "stream",
     "text": [
      "                                      OLS Regression Results                                     \n",
      "=================================================================================================\n",
      "Dep. Variable:     Fitness effect of insertion in kdsB_1   R-squared:                       0.714\n",
      "Model:                                               OLS   Adj. R-squared:                  0.667\n",
      "Method:                                    Least Squares   F-statistic:                     14.99\n",
      "Date:                                   Tue, 10 May 2022   Prob (F-statistic):            0.00825\n",
      "Time:                                           18:23:25   Log-Likelihood:                 4.9025\n",
      "No. Observations:                                      8   AIC:                            -5.805\n",
      "Df Residuals:                                          6   BIC:                            -5.646\n",
      "Df Model:                                              1                                         \n",
      "Covariance Type:                               nonrobust                                         \n",
      "===========================================================================================\n",
      "                              coef    std err          t      P>|t|      [0.025      0.975]\n",
      "-------------------------------------------------------------------------------------------\n",
      "const                      -0.4449      0.081     -5.497      0.002      -0.643      -0.247\n",
      "kdsB_2 Expression level     0.0564      0.015      3.872      0.008       0.021       0.092\n",
      "==============================================================================\n",
      "Omnibus:                        3.122   Durbin-Watson:                   2.204\n",
      "Prob(Omnibus):                  0.210   Jarque-Bera (JB):                1.577\n",
      "Skew:                          -1.049   Prob(JB):                        0.455\n",
      "Kurtosis:                       2.427   Cond. No.                         8.55\n",
      "==============================================================================\n",
      "\n",
      "Notes:\n",
      "[1] Standard Errors assume that the covariance matrix of the errors is correctly specified.\n"
     ]
    },
    {
     "name": "stderr",
     "output_type": "stream",
     "text": [
      "/Users/anuraglimdi/opt/miniconda3/envs/sns_env/lib/python3.10/site-packages/scipy/stats/stats.py:1541: UserWarning: kurtosistest only valid for n>=20 ... continuing anyway, n=8\n",
      "  warnings.warn(\"kurtosistest only valid for n>=20 ... continuing \"\n"
     ]
    }
   ],
   "source": [
    "X0 = df_kdsB_subset_2['kdsB_2 Expression level']\n",
    "y0 = df_kdsB_subset_2['Fitness effect of insertion in kdsB_1']\n",
    "X02 = sm.add_constant(X0)\n",
    "est0 = sm.OLS(y0, X02.astype(float))\n",
    "est02 = est0.fit()\n",
    "print(est02.summary())"
   ]
  },
  {
   "cell_type": "code",
   "execution_count": 848,
   "id": "93dec4ad",
   "metadata": {},
   "outputs": [
    {
     "data": {
      "text/plain": [
       "const                      0.001519\n",
       "kdsB_2 Expression level    0.008250\n",
       "dtype: float64"
      ]
     },
     "execution_count": 848,
     "metadata": {},
     "output_type": "execute_result"
    }
   ],
   "source": [
    "est02.pvalues"
   ]
  }
 ],
 "metadata": {
  "kernelspec": {
   "display_name": "Python 3 (ipykernel)",
   "language": "python",
   "name": "python3"
  },
  "language_info": {
   "codemirror_mode": {
    "name": "ipython",
    "version": 3
   },
   "file_extension": ".py",
   "mimetype": "text/x-python",
   "name": "python",
   "nbconvert_exporter": "python",
   "pygments_lexer": "ipython3",
   "version": "3.10.4"
  }
 },
 "nbformat": 4,
 "nbformat_minor": 5
}
