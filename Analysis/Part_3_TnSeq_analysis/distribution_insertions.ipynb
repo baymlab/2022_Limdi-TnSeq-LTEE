{
 "cells": [
  {
   "cell_type": "markdown",
   "id": "c9b721c0",
   "metadata": {},
   "source": [
    "## In this notebook, I'll generate figure panels which involve loading the mutant trajectories data. \n",
    "\n",
    "Want to keep things separate from the main notebook where I make the rest of the figures."
   ]
  },
  {
   "cell_type": "code",
   "execution_count": 17,
   "id": "ea058373",
   "metadata": {},
   "outputs": [],
   "source": [
    "import numpy as np\n",
    "from scipy import stats\n",
    "import matplotlib.pyplot as plt\n",
    "import pandas as pd\n",
    "import seaborn as sns\n",
    "from matplotlib import cm\n",
    "import os, re\n",
    "from pathlib import Path\n",
    "from Bio.SeqIO.FastaIO import SimpleFastaParser"
   ]
  },
  {
   "cell_type": "code",
   "execution_count": 6,
   "id": "fd9b6983",
   "metadata": {},
   "outputs": [
    {
     "name": "stdout",
     "output_type": "stream",
     "text": [
      "/Users/anuraglimdi/Desktop/TnSeq_Paper/LTEE-TnSeq_Paper/Analysis/Part_3_TnSeq_analysis/Generate_figures\n"
     ]
    }
   ],
   "source": [
    "#current working directory\n",
    "cwd = os.getcwd()\n",
    "print(cwd)"
   ]
  },
  {
   "cell_type": "code",
   "execution_count": 7,
   "id": "974dd0f7",
   "metadata": {},
   "outputs": [
    {
     "name": "stdout",
     "output_type": "stream",
     "text": [
      "/Users/anuraglimdi/Desktop/TnSeq_Paper/LTEE-TnSeq_Paper\n"
     ]
    }
   ],
   "source": [
    "#use the pathlib.Path function to get the parent directories-> goal is to navigate to directory with the metadata\n",
    "# and the breseq output data\n",
    "path = Path(cwd)\n",
    "repo = str(path.parents[2])\n",
    "print(path.parents[2]) #this should be the base directory for the github repository: the exact path will differ for \n",
    "#each unique user"
   ]
  },
  {
   "cell_type": "code",
   "execution_count": 9,
   "id": "1947a190",
   "metadata": {},
   "outputs": [],
   "source": [
    "#input directory with all the counts data\n",
    "data_directory = repo+'/Data/Mutant_Trajectories/'\n",
    "#names of libraries\n",
    "libraries = ['REL606', 'REL607', 'REL11330', 'REL11333', 'REL11364', 'REL11336', 'REL11339', 'REL11389', 'REL11392', 'REL11342', 'REL11345', 'REL11348', 'REL11367', 'REL11370']\n",
    "#more interpretable names for the figures in the paper\n",
    "libraries2 = ['REL606', 'REL607', 'Ara-1', 'Ara-2', 'Ara-3', 'Ara-4', 'Ara-5', 'Ara-6', 'Ara+1', 'Ara+2', 'Ara+3', 'Ara+4', 'Ara+5', 'Ara+6']"
   ]
  },
  {
   "cell_type": "code",
   "execution_count": 104,
   "id": "f23661a9",
   "metadata": {},
   "outputs": [],
   "source": [
    "metadata_path = repo+'/Metadata/'\n",
    "datapath = repo + '/Analysis/Part_3_TnSeq_analysis/Processed_data_for_plotting/'\n",
    "figpath = repo +'/Analysis/Plots_for_paper/'"
   ]
  },
  {
   "cell_type": "code",
   "execution_count": 18,
   "id": "b59e0d29",
   "metadata": {},
   "outputs": [],
   "source": [
    "#fractions of the gene at the 5' and 3' ends to be excluded from analysis because they insertions there may not actually\n",
    "#be disruptive to protein function\n",
    "frac5p = 0.1\n",
    "frac3p = 0.25\n",
    "\n",
    "with open(metadata_path+\"rel606_reference.fasta\") as in_handle:\n",
    "    for title, seq in SimpleFastaParser(in_handle):\n",
    "        ta_sites = [m.start(0) for m in re.finditer('TA', seq)]\n",
    "ta_sites = np.array(ta_sites)"
   ]
  },
  {
   "cell_type": "code",
   "execution_count": 12,
   "id": "1d6b2c31",
   "metadata": {},
   "outputs": [],
   "source": [
    "#all the information from the fitness assay condensed into a couple of matrices\n",
    "n_ta_sites = 211995\n",
    "counts_all_green = np.zeros([len(libraries), 5, n_ta_sites])\n",
    "counts_all_red = np.zeros([len(libraries), 5, n_ta_sites])\n",
    "\n",
    "for k in range(len(libraries)):\n",
    "    #loading the new file where I have the counts for each TA site for all time points\n",
    "    gname = data_directory+'green_'+libraries[k]+'_merged_all_TAsites.txt'\n",
    "    greendata = np.loadtxt(gname)\n",
    "    rname = data_directory+'red_'+libraries[k]+'_merged_all_TAsites.txt'\n",
    "    reddata = np.loadtxt(rname)\n",
    "    #now for extracting the UMI corrected coutns\n",
    "    counts_all_green[k,:,:] = greendata[2:11:2,:]\n",
    "    counts_all_red[k,:,:] = reddata[2:11:2,:]"
   ]
  },
  {
   "cell_type": "markdown",
   "id": "b79fb78a",
   "metadata": {},
   "source": [
    "## Fig. S2: Distribution of insertions across the genome\n",
    "\n",
    "### Panel A) A map of insertions across the genome in the LTEE ancestor REL606"
   ]
  },
  {
   "cell_type": "code",
   "execution_count": 85,
   "id": "bc60f25c",
   "metadata": {
    "scrolled": true
   },
   "outputs": [
    {
     "data": {
      "image/png": "[encoded data removed]",
      "text/plain": [
       "<Figure size 216x144 with 1 Axes>"
      ]
     },
     "metadata": {},
     "output_type": "display_data"
    }
   ],
   "source": [
    "with sns.axes_style('ticks'):\n",
    "    plt.figure(figsize=(3,2))\n",
    "    plt.plot(ta_sites, counts_all_green[0,0,:])  #zeroth timepoint for the ancestor\n",
    "#     plt.yscale('symlog', linthresh=3000)\n",
    "#     plt.yscale('log')\n",
    "    plt.ylim(0,3000)\n",
    "    plt.yticks([0,1000,2000,3000])\n",
    "    plt.xlabel('Genomic coordinate')\n",
    "    plt.ylabel('Unique reads\\nper insertion site')\n",
    "    sns.despine()\n",
    "    plt.savefig(figpath+\"insertion_map.pdf\", format='pdf',bbox_inches='tight')"
   ]
  },
  {
   "cell_type": "markdown",
   "id": "ce498a50",
   "metadata": {},
   "source": [
    "### Panel B) Number of TA sites represented at t0"
   ]
  },
  {
   "cell_type": "code",
   "execution_count": 86,
   "id": "a5de314b",
   "metadata": {},
   "outputs": [],
   "source": [
    "pops_include = [0,2,3,4,5,6,7,1,8,9,10,11,12,13]"
   ]
  },
  {
   "cell_type": "code",
   "execution_count": 95,
   "id": "b8983b13",
   "metadata": {},
   "outputs": [
    {
     "data": {
      "image/png": "[encoded data removed]",
      "text/plain": [
       "<Figure size 216x144 with 1 Axes>"
      ]
     },
     "metadata": {},
     "output_type": "display_data"
    }
   ],
   "source": [
    "viridis = sns.color_palette('viridis', n_colors=2)\n",
    "line = 0\n",
    "with sns.axes_style('ticks'):\n",
    "    fig,ax = plt.subplots(1,1,figsize=(3,2))\n",
    "    for thresh in [5]:\n",
    "        ax.plot(np.array(libraries2)[pops_include], np.sum(counts_all_green[pops_include,0,:]>=thresh, axis=1),'o-', color=viridis[line], label=f'>={thresh} reads')\n",
    "        line+=1\n",
    "    fig.legend(loc='center', prop={'size': 9})\n",
    "    ax.set_xlabel('LTEE strain')\n",
    "    ax.set_ylabel('Number of insertion sites\\nrepresented in library at $t_{0}$')\n",
    "    ax.set_ylim(90000)\n",
    "    ax.tick_params(axis = 'x', size=8, rotation=50) \n",
    "    sns.despine()\n",
    "    plt.savefig(figpath+\"insertion_numbers.pdf\", format='pdf',bbox_inches='tight')"
   ]
  },
  {
   "cell_type": "markdown",
   "id": "d19e8cae",
   "metadata": {},
   "source": [
    "### Mean fitness trajectory over the assay for all the populations.\n",
    "\n",
    "For every timepoint, I will calculate the mean fitness as follows:\n",
    "\n",
    "$$ \\mu_{pop} = \\sum_{gene}(s_{gene}p_{gene})$$\n",
    "\n",
    "where p_gene is the fraction of counts summed over the interior of the gene, and s_gene is the fitness obtained from the log-linear regression approach.\n",
    "\n",
    "Restricting this sum over genes where a fitness was calculated."
   ]
  },
  {
   "cell_type": "code",
   "execution_count": 96,
   "id": "9cca8353",
   "metadata": {},
   "outputs": [],
   "source": [
    "#opening the pandas file with all the metadata!\n",
    "all_data = pd.read_csv(metadata_path+\"all_metadata_REL606.txt\", sep=\"\\t\")"
   ]
  },
  {
   "cell_type": "code",
   "execution_count": 97,
   "id": "d0bdaaed",
   "metadata": {},
   "outputs": [],
   "source": [
    "domain_essential = ['mqsA', 'waaU', 'yabQ', 'yafF', \n",
    "                    'yibJ', 'yqgD', 'ftsK', 'ftsN', \n",
    "                    'ftsX', 'lptC', 'ribB', 'rne',\n",
    "                    'secM', 'spoT', 'yejM', 'polA']"
   ]
  },
  {
   "cell_type": "code",
   "execution_count": 98,
   "id": "a26c6681",
   "metadata": {},
   "outputs": [],
   "source": [
    "#removing the domain essential genes from our analysis\n",
    "metadata = all_data[~all_data['Gene Name'].isin(domain_essential)]"
   ]
  },
  {
   "cell_type": "code",
   "execution_count": 99,
   "id": "179f65dc",
   "metadata": {},
   "outputs": [],
   "source": [
    "names = metadata['Gene Name']\n",
    "gene_start = metadata['Start of Gene']\n",
    "gene_end = metadata['End of Gene']\n",
    "strand = metadata['Strand']\n",
    "locations = np.transpose(np.vstack([gene_start,gene_end,strand]))\n",
    "k12_tags = metadata['Locus Tag (K12 reference)']\n",
    "uniprot_rel606 = metadata['UniProt ID']\n",
    "product = metadata['Protein Product']"
   ]
  },
  {
   "cell_type": "code",
   "execution_count": 100,
   "id": "30af9b40",
   "metadata": {},
   "outputs": [],
   "source": [
    "#list of genes to be excluded from analysis as they lie within large deletions\n",
    "exclude_genes = np.loadtxt(repo+\"/Analysis/Part_2_WGS_analysis/output/Deleted_genes_REL606_k12annotated.txt\")"
   ]
  },
  {
   "cell_type": "code",
   "execution_count": 105,
   "id": "503a2a39",
   "metadata": {},
   "outputs": [],
   "source": [
    "#loading the fitness data files now:\n",
    "fitness_gene_corrected = np.load(datapath+'/fitness_corrected_genes.npy')\n",
    "fitness_gene_corrected = fitness_gene_corrected[metadata.index]"
   ]
  },
  {
   "cell_type": "code",
   "execution_count": 108,
   "id": "33a5348d",
   "metadata": {},
   "outputs": [
    {
     "name": "stdout",
     "output_type": "stream",
     "text": [
      "Number of interior TA sites: 1128\n"
     ]
    }
   ],
   "source": [
    "gene = 'kch'\n",
    "pop = 0\n",
    "# print('Number of interior TA sites:', list(names).index(gene))"
   ]
  },
  {
   "cell_type": "code",
   "execution_count": 113,
   "id": "124a1e57",
   "metadata": {},
   "outputs": [
    {
     "data": {
      "text/plain": [
       "array([1047.,  438.,  848., 1342., 1070.])"
      ]
     },
     "execution_count": 113,
     "metadata": {},
     "output_type": "execute_result"
    }
   ],
   "source": [
    "counts_all_red[pop,:,search_gene(locations,ta_sites,list(names).index(gene))].sum(axis=0)"
   ]
  },
  {
   "cell_type": "markdown",
   "id": "09036c1a",
   "metadata": {},
   "source": [
    "### Counting the number of reads within genes where a fitness was calculated"
   ]
  },
  {
   "cell_type": "code",
   "execution_count": 110,
   "id": "8e2a97c9",
   "metadata": {},
   "outputs": [],
   "source": [
    "def search_gene(locations,ta_sites,i):\n",
    "    start = locations[i, 0]\n",
    "    end = locations[i, 1]\n",
    "    length = end - start\n",
    "    #if the gene is on the forward strand\n",
    "    if locations[i,2]==1:\n",
    "        search_area = (ta_sites > start+length*frac5p)&(ta_sites < end - length*frac3p)\n",
    "    #if the gene is on the reverse strand\n",
    "    elif locations[i,2]==-1:\n",
    "        search_area = (ta_sites < start+length*frac5p)&(ta_sites > end - length*frac3p)\n",
    "    return search_area"
   ]
  },
  {
   "cell_type": "code",
   "execution_count": 106,
   "id": "a531ea94",
   "metadata": {},
   "outputs": [],
   "source": [
    "counts_interior_g = np.zeros([len(names),len(libraries),5])\n",
    "counts_interior_r = np.zeros([len(names),len(libraries),5])"
   ]
  },
  {
   "cell_type": "code",
   "execution_count": 174,
   "id": "a5058b4f",
   "metadata": {},
   "outputs": [],
   "source": [
    "for gene in range(len(names)):\n",
    "    for pop in range(len(libraries)):\n",
    "        counts_interior_g[gene, pop, :] = np.sum(counts_all_green[pop,:,search_gene(locations,ta_sites,gene)],axis=0)\n",
    "        counts_interior_r[gene, pop, :] = np.sum(counts_all_red[pop,:,search_gene(locations,ta_sites,gene)],axis=0)"
   ]
  },
  {
   "cell_type": "code",
   "execution_count": 175,
   "id": "e36fd956",
   "metadata": {},
   "outputs": [],
   "source": [
    "counts_interior_g = np.minimum(counts_interior_g, 1e5)\n",
    "counts_interior_r = np.minimum(counts_interior_r, 1e5)\n"
   ]
  },
  {
   "cell_type": "code",
   "execution_count": 176,
   "id": "503a5994",
   "metadata": {},
   "outputs": [],
   "source": [
    "mean_fitness_g = np.zeros([len(libraries), 5])\n",
    "mean_fitness_r = np.zeros([len(libraries), 5])"
   ]
  },
  {
   "cell_type": "code",
   "execution_count": 180,
   "id": "294f5c31",
   "metadata": {},
   "outputs": [
    {
     "data": {
      "image/png": "[encoded data removed]",
      "text/plain": [
       "<Figure size 216x144 with 1 Axes>"
      ]
     },
     "metadata": {},
     "output_type": "display_data"
    }
   ],
   "source": [
    "with sns.axes_style('ticks'):\n",
    "    plt.figure(figsize=(3,2))\n",
    "    for pop in range(len(libraries)):\n",
    "        if pop not in [3,11]:\n",
    "            genes_compare = np.where(fitness_gene_corrected[:,pop,0]>-1)[0]\n",
    "            interior_g = counts_interior_g[genes_compare, pop, :]\n",
    "            interior_r = counts_interior_r[genes_compare, pop, :]    \n",
    "            interior_g = interior_g/np.sum(interior_g, axis=0)\n",
    "            interior_r = interior_r/np.sum(interior_r, axis=0)\n",
    "            fitness_g = fitness_gene_corrected[genes_compare, pop, 0]\n",
    "            fitness_r = fitness_gene_corrected[genes_compare, pop, 1]\n",
    "\n",
    "            mean_fitness_g[pop] = np.sum(fitness_g*interior_g.T, axis=1)\n",
    "            mean_fitness_r[pop] = np.sum(fitness_r*interior_r.T, axis=1)\n",
    "            \n",
    "            plt.plot((mean_fitness_r[pop]+mean_fitness_g[pop])/2,'.-')\n",
    "\n",
    "    plt.axhline(-0.02, color='black')\n",
    "    plt.axhline(0.02, color='black')\n",
    "\n",
    "plt.xlabel('Timepoints')\n",
    "plt.xticks([0,1,2,3,4])\n",
    "plt.ylabel('Mean fitness of mutant pool')\n",
    "sns.despine()"
   ]
  },
  {
   "cell_type": "code",
   "execution_count": 181,
   "id": "9c0c1b1c",
   "metadata": {},
   "outputs": [
    {
     "data": {
      "text/plain": [
       "array([[-0.13063081, -0.15099761],\n",
       "       [-0.0685008 , -0.08537728],\n",
       "       [-0.25902006, -0.24453295],\n",
       "       [-0.08744697, -0.12464443],\n",
       "       [-0.15228419, -0.12404101],\n",
       "       [-0.2886439 , -0.29675754],\n",
       "       [-0.37027462, -0.42137416],\n",
       "       [-0.30712731, -0.34029927],\n",
       "       [-0.45823219, -0.42632302],\n",
       "       [-0.35886037, -0.32079361],\n",
       "       [-0.24322781, -0.27319032],\n",
       "       [-0.30189023, -0.32250363],\n",
       "       [-0.36189095, -0.32558425],\n",
       "       [-0.41333772, -0.43233759]])"
      ]
     },
     "execution_count": 181,
     "metadata": {},
     "output_type": "execute_result"
    }
   ],
   "source": [
    "fitness_gene_corrected[list(names).index('envZ')]"
   ]
  },
  {
   "cell_type": "code",
   "execution_count": null,
   "id": "89daf761",
   "metadata": {},
   "outputs": [],
   "source": []
  }
 ],
 "metadata": {
  "kernelspec": {
   "display_name": "Python 3 (ipykernel)",
   "language": "python",
   "name": "python3"
  },
  "language_info": {
   "codemirror_mode": {
    "name": "ipython",
    "version": 3
   },
   "file_extension": ".py",
   "mimetype": "text/x-python",
   "name": "python",
   "nbconvert_exporter": "python",
   "pygments_lexer": "ipython3",
   "version": "3.10.4"
  }
 },
 "nbformat": 4,
 "nbformat_minor": 5
}
