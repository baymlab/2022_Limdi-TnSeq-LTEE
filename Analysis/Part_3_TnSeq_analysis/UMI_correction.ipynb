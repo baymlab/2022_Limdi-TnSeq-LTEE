{
 "cells": [
  {
   "cell_type": "markdown",
   "id": "792dc44b",
   "metadata": {},
   "source": [
    "## Comparing fitness estimates with and without UMI correction\n",
    "\n",
    "Generating a supplementary figure in response to reviewer 2's comments on the companion paper."
   ]
  },
  {
   "cell_type": "code",
   "execution_count": 8,
   "id": "c852d17b",
   "metadata": {},
   "outputs": [],
   "source": [
    "import numpy as np\n",
    "from scipy import stats\n",
    "import matplotlib.pyplot as plt\n",
    "from Bio.SeqIO.FastaIO import SimpleFastaParser\n",
    "import pandas as pd\n",
    "import seaborn as sns\n",
    "import re"
   ]
  },
  {
   "cell_type": "code",
   "execution_count": 2,
   "id": "adbf41cf",
   "metadata": {},
   "outputs": [],
   "source": [
    "import pathlib\n",
    "import os"
   ]
  },
  {
   "cell_type": "code",
   "execution_count": 3,
   "id": "9cf07a43",
   "metadata": {},
   "outputs": [
    {
     "name": "stdout",
     "output_type": "stream",
     "text": [
      "/Users/anuraglimdi/Desktop/TnSeq_Paper/LTEE-TnSeq_Paper/Analysis/Part_3_TnSeq_analysis\n"
     ]
    }
   ],
   "source": [
    "#current working directory\n",
    "cwd = os.getcwd()\n",
    "print(cwd)"
   ]
  },
  {
   "cell_type": "code",
   "execution_count": 4,
   "id": "11fc7e13",
   "metadata": {},
   "outputs": [
    {
     "name": "stdout",
     "output_type": "stream",
     "text": [
      "/Users/anuraglimdi/Desktop/TnSeq_Paper/LTEE-TnSeq_Paper\n"
     ]
    }
   ],
   "source": [
    "#use the pathlib.Path function to get the parent directories-> goal is to navigate to directory with the metadata\n",
    "# and the breseq output data\n",
    "path = pathlib.Path(cwd)\n",
    "repo = str(path.parents[1])\n",
    "print(path.parents[1]) #this should be the base directory for the github repository: the exact path will differ for \n",
    "#each unique user"
   ]
  },
  {
   "cell_type": "code",
   "execution_count": 5,
   "id": "afbbb149",
   "metadata": {},
   "outputs": [],
   "source": [
    "metadata_path = repo+'/Metadata/'\n",
    "#data_path = repo+'/Data/Mutant_Trajectories/'"
   ]
  },
  {
   "cell_type": "markdown",
   "id": "bf371f16",
   "metadata": {},
   "source": [
    "### Loading the relevant metadata"
   ]
  },
  {
   "cell_type": "code",
   "execution_count": 6,
   "id": "3d375066",
   "metadata": {},
   "outputs": [],
   "source": [
    "#opening the pandas file with all the metadata!\n",
    "all_data = pd.read_csv(metadata_path+\"all_metadata_REL606.txt\", sep=\"\\t\")\n",
    "names = all_data.iloc[:,0]\n",
    "gene_start = all_data.iloc[:,3]\n",
    "gene_end = all_data.iloc[:,4]\n",
    "strand = all_data.iloc[:,5]\n",
    "locations = np.transpose(np.vstack([gene_start,gene_end,strand]))\n",
    "k12_tags = all_data.iloc[:,2]\n",
    "uniprot_rel606 = all_data.iloc[:,6]\n",
    "locations_pseudogenes = np.loadtxt(metadata_path+'pseudogenes_locations_REL606.txt')\n",
    "#list of genes to be excluded from analysis as they lie within large deletions\n",
    "exclude_genes = np.loadtxt(repo+\"/Analysis/Part_2_WGS_analysis/output/Deleted_genes_REL606_k12annotated.txt\")\n",
    "exclude_pseudogenes = np.loadtxt(repo+\"/Analysis/Part_2_WGS_analysis/output/Deleted_pseudogenes_REL606_k12annotated.txt\")\n",
    "n_pseudo = exclude_pseudogenes.shape[1]\n",
    "#fractions of the gene at the 5' and 3' ends to be excluded from analysis because they insertions there may not actually\n",
    "#be disruptive to protein function\n",
    "frac5p = 0.1\n",
    "frac3p = 0.25"
   ]
  },
  {
   "cell_type": "code",
   "execution_count": 9,
   "id": "77164fb8",
   "metadata": {},
   "outputs": [],
   "source": [
    "with open(metadata_path+\"rel606_reference.fasta\") as in_handle:\n",
    "    for title, seq in SimpleFastaParser(in_handle):\n",
    "        ta_sites = [m.start(0) for m in re.finditer('TA', seq)]\n",
    "ta_sites = np.array(ta_sites)\n",
    "\n",
    "#counting how many TA sites are present in each gene\n",
    "ta_gene = np.zeros(len(names))\n",
    "for i in range(0,len(names)):\n",
    "    start = locations[i, 0]\n",
    "    end = locations[i, 1]\n",
    "    length = end - start\n",
    "    #if the gene is on the forward strand\n",
    "    if locations[i,2]==1:\n",
    "        #counting sites only in the middle 80% of the gene, excluding 10% at each end\n",
    "        ta_gene[i] = np.sum((ta_sites > start+length*frac5p)&(ta_sites < end - length*frac3p))\n",
    "    elif locations[i,2]==-1:\n",
    "        ta_gene[i] = np.sum((ta_sites < start+length*frac5p)&(ta_sites > end - length*frac3p))"
   ]
  },
  {
   "cell_type": "markdown",
   "id": "e356961b",
   "metadata": {},
   "source": [
    "### Loading the TnSeq data"
   ]
  },
  {
   "cell_type": "code",
   "execution_count": 10,
   "id": "e563837e",
   "metadata": {},
   "outputs": [],
   "source": [
    "directory = repo+'/Data/Mutant_Trajectories/'\n",
    "data_green = np.loadtxt(directory+'green_REL606_merged_all_TAsites.txt')\n",
    "data_red = np.loadtxt(directory+'red_REL606_merged_all_TAsites.txt')\n",
    "# with UMI correction\n",
    "counts_green_UMI = data_green[2:11:2,:]\n",
    "counts_green = data_green[1:10:2,:]\n",
    "counts_red_UMI = data_red[2:11:2,:]\n",
    "counts_red = data_red[1:10:2,:]"
   ]
  },
  {
   "cell_type": "markdown",
   "id": "371fcc16",
   "metadata": {},
   "source": [
    "### Defining parameters for the analysis + any functions required"
   ]
  },
  {
   "cell_type": "code",
   "execution_count": 11,
   "id": "5809830e",
   "metadata": {},
   "outputs": [],
   "source": [
    "def search_gene(locations,ta_sites,i):\n",
    "    start = locations[i, 0]\n",
    "    end = locations[i, 1]\n",
    "    length = end - start\n",
    "    #if the gene is on the forward strand\n",
    "    if locations[i,2]==1:\n",
    "        search_area = (ta_sites > start+length*frac5p)&(ta_sites < end - length*frac3p)\n",
    "    #if the gene is on the reverse strand\n",
    "    elif locations[i,2]==-1:\n",
    "        search_area = (ta_sites < start+length*frac5p)&(ta_sites > end - length*frac3p)\n",
    "    return search_area\n",
    "\n",
    "#following the weights definition from \n",
    "def inverse_var_weight(n0,n1):\n",
    "    \n",
    "    return (((1+n0)**-1 + (1+n1)**-1)/np.log(2)**2)**-1"
   ]
  },
  {
   "cell_type": "code",
   "execution_count": 12,
   "id": "b8fb963c",
   "metadata": {},
   "outputs": [],
   "source": [
    "#calculating fitnesses\n",
    "def fitness_estimate(counts_red, counts_green, locs, genes_lost, initial_depth, min_sites, min_frac, max_reads, t_start, t_end):\n",
    "    \"\"\"\n",
    "    data:\n",
    "    - counts_red, counts_green: trajectories for both replicates\n",
    "    - exclude: filtering out genes that are lost/have too few sites from analysis as they're indicated as -1\n",
    "    params:\n",
    "    - locs: start and end points of genes\n",
    "    - initial_depth: exclude sites below a certain threshold in fitness estimation\n",
    "    - min_sites: minimum number of sites required for estimating fitness for each replicate\n",
    "    - min_frac: fraction of TA sites that need to considered in estimating fitness\n",
    "    - site_thresh: minimum number of reads for a trajectory to be included (strictly greater than)\n",
    "    - max_reads: maximum reads that can be used for inverse variance estimate\n",
    "    \n",
    "    \"\"\"\n",
    "    green = np.sum(counts_green,axis=1)\n",
    "    red = np.sum(counts_red, axis=1)\n",
    "    #fitness effect (best estimate)\n",
    "    fitness_inverse_var = np.zeros([len(genes_lost),2])-1\n",
    "    #three different metrics of measurement error\n",
    "    stderr_fitness = np.zeros([len(genes_lost)])-1\n",
    "    stderr_fitness_inverse_var = np.zeros([len(genes_lost)])-1\n",
    "    stderr_fitness_hybrid = np.zeros([len(genes_lost)])-1\n",
    "    #defining time interval based on gene essentiality status:\n",
    "    time_gens = np.linspace(t_start,t_end,t_end-t_start+1)*6.64\n",
    "    \n",
    "    #iterating over all genes that are not lost over evolution\n",
    "    for gene in np.where(genes_lost==0)[0] :\n",
    "        #TA sites within this gene\n",
    "        search_area = search_gene(locations=locs, ta_sites=ta_sites, i=gene)\n",
    "        #weights\n",
    "        weights_green = []\n",
    "        weights_red = []\n",
    "        #fitnesses\n",
    "        s_green = []\n",
    "        s_red = []\n",
    "        \n",
    "        ta = np.sum(search_area==True)\n",
    "        #now, iterating over sites with at least tm1_depth reads at t-1:\n",
    "        for j in np.where((search_area==True))[0]:\n",
    "            if (counts_green[t_start,j]/green[t_start]*10**7>initial_depth) & (counts_red[t_start,j]/red[t_start]*10**7>initial_depth):\n",
    "                #extracting the trajectories\n",
    "                traj_green = counts_green[t_start:t_end+1,j]/green[t_start:t_end+1]*10**7\n",
    "                traj_red = counts_red[t_start:t_end+1,j]/red[t_start:t_end+1]*10**7\n",
    "                n_0 = traj_green[0]\n",
    "                n_after_g = traj_green[1]\n",
    "                n_after_r = traj_red[1]\n",
    "                #this part is different:\n",
    "                #i'll find the first occurrence of zero if at all, and then fit a trajectory upto that point\n",
    "                #green replicate first\n",
    "                if 0 not in traj_green:\n",
    "                    sg = np.polyfit(time_gens, np.log(traj_green), 1)[0]\n",
    "                    wg = min(inverse_var_weight(n_0, n_after_g), inverse_var_weight(max_reads, max_reads))\n",
    "                    #sotring the data\n",
    "                    weights_green.append(wg)\n",
    "                    s_green.append(sg)\n",
    "                else:\n",
    "                    #first zero in the gren dataset:\n",
    "                    ind_g = int(np.where(traj_green==0)[0][0])\n",
    "                    counts_g = traj_green[:ind_g+1].copy()\n",
    "                    #add a pseudocount to the first occurrence of zero\n",
    "                    counts_g[-1] = 1\n",
    "                    sg = np.polyfit(time_gens[:ind_g+1], np.log(counts_g), 1)[0]\n",
    "                    wg = min(inverse_var_weight(n_0, n_after_g), inverse_var_weight(max_reads, max_reads))\n",
    "                    #storing the data\n",
    "                    weights_green.append(wg)\n",
    "                    s_green.append(sg)\n",
    "                \n",
    "                #now the red replicate\n",
    "                if 0 not in traj_red:\n",
    "                    sg = np.polyfit(time_gens, np.log(traj_red), 1)[0]\n",
    "                    wg = min(inverse_var_weight(n_0, n_after_r), inverse_var_weight(max_reads, max_reads))\n",
    "                    #sotring the data\n",
    "                    weights_red.append(wg)\n",
    "                    s_red.append(sg)\n",
    "                else:\n",
    "                    #first zero in the red dataset:\n",
    "                    ind_g = int(np.where(traj_red==0)[0][0])\n",
    "                    counts_g = traj_red[:ind_g+1].copy()\n",
    "                    #add a pseudocount to the first occurrence of zero\n",
    "                    counts_g[-1] = 1\n",
    "                    sg = np.polyfit(time_gens[:ind_g+1], np.log(counts_g), 1)[0]\n",
    "                    wg = min(inverse_var_weight(n_0, n_after_r), inverse_var_weight(max_reads, max_reads))\n",
    "                    #storing the data\n",
    "                    weights_red.append(wg)\n",
    "                    s_red.append(sg)\n",
    "                \n",
    "        #converting to numpy arrays\n",
    "        s_green = np.array(s_green)\n",
    "        s_red = np.array(s_red)\n",
    "        weights_green = np.array(weights_green)\n",
    "        weights_red = np.array(weights_red)\n",
    "        \n",
    "        #pooling over all sites, require minimum number of sites, and fraction of sites represented\n",
    "        if min(len(s_green),len(s_red))>=min_sites and min(len(s_green),len(s_red))/ta>=min_frac:\n",
    "\n",
    "            #weighing based on inverse variacne:\n",
    "            fitness_inverse_var[gene,0] = np.average(s_green, weights=weights_green)\n",
    "            fitness_inverse_var[gene,1] = np.average(s_red, weights=weights_red)\n",
    "            \n",
    "            #standard error in fitness estimates:\n",
    "            stderr_fitness[gene] = np.std(np.hstack([s_green,s_red]))/np.sqrt(len(s_green)+len(s_red)-1)\n",
    "            #-1 is for the unbiased estimator\n",
    "            \n",
    "            #inverse variance weighted standard error measurement\n",
    "            stacked_s = np.hstack([s_green,s_red])\n",
    "            stacked_w = np.hstack([weights_green,weights_red])\n",
    "            \n",
    "            average = np.average(stacked_s, weights=stacked_w)\n",
    "            sem_inv = np.sqrt(np.average((stacked_s-average)**2, weights=stacked_w)/(len(stacked_s)-1))\n",
    "            sem_hybrid = np.sqrt(np.average((stacked_s-average)**2)/(len(stacked_s)-1))\n",
    "            \n",
    "            #saving the inverse variance wieghted measurements.\n",
    "            stderr_fitness_inverse_var[gene] = sem_inv\n",
    "            #saving the hyrid measurement errors\n",
    "            stderr_fitness_hybrid[gene] = sem_hybrid\n",
    "            \n",
    "    return fitness_inverse_var, stderr_fitness, stderr_fitness_inverse_var, stderr_fitness_hybrid"
   ]
  },
  {
   "cell_type": "code",
   "execution_count": 13,
   "id": "a88ac37a",
   "metadata": {},
   "outputs": [],
   "source": [
    "#parameters for filtering out noisy data and selecting which time points to use in analysis\n",
    "min_sites = 2\n",
    "min_frac = 0.2\n",
    "#timepoints to compare:\n",
    "# change this depending on the analysis you want to do!\n",
    "t0 = 0\n",
    "t1 = 4\n",
    "time_range = np.linspace(t0,t1,t1-t0+1)*6.64\n",
    "tm1_depth = 5"
   ]
  },
  {
   "cell_type": "markdown",
   "id": "c6930687",
   "metadata": {},
   "source": [
    "Running the analysis with and without UMI correction"
   ]
  },
  {
   "cell_type": "code",
   "execution_count": 14,
   "id": "d9887aba",
   "metadata": {},
   "outputs": [],
   "source": [
    "fitness_UMI, pop_error_UMI, pop_error_inv_UMI, pop_error_hybrid_UMI = fitness_estimate(counts_green_UMI, counts_red_UMI, \n",
    "                                                           genes_lost=exclude_genes[0,:], locs=locations, initial_depth=tm1_depth,\n",
    "                                                           min_frac=min_frac,max_reads=100,\n",
    "                                                           min_sites=min_sites, t_start=t0, t_end=t1)\n"
   ]
  },
  {
   "cell_type": "code",
   "execution_count": 15,
   "id": "ccfeb770",
   "metadata": {},
   "outputs": [],
   "source": [
    "fitness, pop_error, pop_error_inv, pop_error_hybrid = fitness_estimate(counts_green, counts_red, \n",
    "                                                           genes_lost=exclude_genes[0,:], locs=locations, initial_depth=tm1_depth,\n",
    "                                                           min_frac=min_frac,max_reads=100,\n",
    "                                                           min_sites=min_sites, t_start=t0, t_end=t1)\n"
   ]
  },
  {
   "cell_type": "markdown",
   "id": "5b9e6f7d",
   "metadata": {},
   "source": [
    "### Looking at the correlation of fitness estimates"
   ]
  },
  {
   "cell_type": "code",
   "execution_count": 16,
   "id": "02e766e1",
   "metadata": {},
   "outputs": [],
   "source": [
    "sns.set_theme()\n",
    "sns.set_context('paper')"
   ]
  },
  {
   "cell_type": "code",
   "execution_count": 17,
   "id": "a4abb9a1",
   "metadata": {},
   "outputs": [],
   "source": [
    "genes_comp = np.where((np.mean(fitness, axis=1)>-1)&(np.mean(fitness_UMI, axis=1)>-1))\n",
    "r2 = stats.pearsonr(np.mean(fitness[genes_comp], axis=1), np.mean(fitness_UMI[genes_comp], axis=1))[0]**2"
   ]
  },
  {
   "cell_type": "markdown",
   "id": "b13ab86f",
   "metadata": {},
   "source": [
    "## Fig S3: Reproducibility of fitness measurements\n",
    "\n",
    "### Panel C"
   ]
  },
  {
   "cell_type": "code",
   "execution_count": 40,
   "id": "756e9580",
   "metadata": {},
   "outputs": [
    {
     "data": {
      "image/png": "[encoded data removed]",
      "text/plain": [
       "<Figure size 144x144 with 1 Axes>"
      ]
     },
     "metadata": {},
     "output_type": "display_data"
    }
   ],
   "source": [
    "with sns.axes_style('ticks'):\n",
    "    fig,ax = plt.subplots(1,1, figsize=(2,2))\n",
    "    ax.plot(np.mean(fitness, axis=1), np.mean(fitness_UMI, axis=1), '.')\n",
    "    ax.set(xlabel='Fitness, uncorrected', ylabel='Fitness, UMI+r2 corrected', xlim=-0.6, ylim=-0.6,\n",
    "          title='UMI+r2 correction')\n",
    "    ax.text(-0.5, 0, f\"$R^{2}$={np.round(r2,3)}\", fontsize=10)\n",
    "    sns.despine()\n",
    "#     fig.savefig(repo +'/Analysis/Plots_for_paper/umi_correction.pdf', format='pdf', bbox_inches='tight')\n",
    "    fig.savefig(repo +'/Analysis/Plots_for_paper/umi_r2_correction.pdf', format='pdf', bbox_inches='tight')\n",
    "\n",
    "    plt.show()"
   ]
  },
  {
   "cell_type": "code",
   "execution_count": 41,
   "id": "6a02f942",
   "metadata": {},
   "outputs": [
    {
     "data": {
      "image/png": "[encoded data removed]",
      "text/plain": [
       "<Figure size 216x144 with 1 Axes>"
      ]
     },
     "metadata": {},
     "output_type": "display_data"
    }
   ],
   "source": [
    "with sns.axes_style('ticks'):\n",
    "    fig,ax = plt.subplots(1,1, figsize=(3,2))\n",
    "    ax.hist(np.mean(fitness_UMI, axis=1) - np.mean(fitness, axis=1), bins=np.linspace(-0.05, 0.075, 50),alpha=1)\n",
    "    ax.set(yscale='log', xlabel='UMI+r2 corrected - uncorrected fitness', ylabel='Number of genes')\n",
    "    sns.despine()\n",
    "    fig.savefig(repo+'/Analysis/Plots_for_paper/umi_correction_difference.pdf', format='pdf', bbox_inches='tight')"
   ]
  },
  {
   "cell_type": "code",
   "execution_count": 32,
   "id": "9a47cec8",
   "metadata": {},
   "outputs": [
    {
     "data": {
      "text/plain": [
       "array([ 219,  565, 2277, 2306])"
      ]
     },
     "execution_count": 32,
     "metadata": {},
     "output_type": "execute_result"
    }
   ],
   "source": [
    "diff = np.mean(fitness, axis=1)-np.mean(fitness_UMI, axis=1)\n",
    "np.where((diff>-0.1)&(diff<-0.04))[0]"
   ]
  },
  {
   "cell_type": "code",
   "execution_count": 35,
   "id": "ad29d786",
   "metadata": {},
   "outputs": [
    {
     "data": {
      "text/plain": [
       "17"
      ]
     },
     "execution_count": 35,
     "metadata": {},
     "output_type": "execute_result"
    }
   ],
   "source": [
    "len(np.where((diff>0.025)|(diff<-0.025))[0])"
   ]
  },
  {
   "cell_type": "code",
   "execution_count": null,
   "id": "b00d1015",
   "metadata": {},
   "outputs": [],
   "source": []
  }
 ],
 "metadata": {
  "kernelspec": {
   "display_name": "Python 3 (ipykernel)",
   "language": "python",
   "name": "python3"
  },
  "language_info": {
   "codemirror_mode": {
    "name": "ipython",
    "version": 3
   },
   "file_extension": ".py",
   "mimetype": "text/x-python",
   "name": "python",
   "nbconvert_exporter": "python",
   "pygments_lexer": "ipython3",
   "version": "3.10.4"
  }
 },
 "nbformat": 4,
 "nbformat_minor": 5
}
