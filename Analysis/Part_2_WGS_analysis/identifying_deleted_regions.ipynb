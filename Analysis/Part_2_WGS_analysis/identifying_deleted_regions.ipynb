{
 "cells": [
  {
   "cell_type": "markdown",
   "metadata": {},
   "source": [
    "## Goal of the notebook: Identifying deleted regions\n",
    "\n",
    "#### Approach:\n",
    "\n",
    "I'm going to go through the output files from running breseq on the WGS data. If there are locations of missing coverage > 1kb, I'll extract the genomic coordinates and find out which genes and pseudogenes lie within them.\n",
    "\n",
    "#### Output: \n",
    "\n",
    "A numpy text file indicating which genes and pseudogenes are lost in each population analysed in this experiment"
   ]
  },
  {
   "cell_type": "code",
   "execution_count": 1,
   "metadata": {},
   "outputs": [],
   "source": [
    "import numpy as np\n",
    "import pandas as pd\n",
    "import re\n",
    "import matplotlib.pyplot as plt\n",
    "import pathlib\n",
    "import os"
   ]
  },
  {
   "cell_type": "code",
   "execution_count": 2,
   "metadata": {},
   "outputs": [
    {
     "name": "stdout",
     "output_type": "stream",
     "text": [
      "/Users/anuraglimdi/Desktop/TnSeq_Paper/LTEE-TnSeq_Paper/Analysis/Part_2_WGS_analysis\n"
     ]
    }
   ],
   "source": [
    "#current working directory\n",
    "cwd = os.getcwd()\n",
    "print(cwd)"
   ]
  },
  {
   "cell_type": "code",
   "execution_count": 3,
   "metadata": {},
   "outputs": [
    {
     "name": "stdout",
     "output_type": "stream",
     "text": [
      "/Users/anuraglimdi/Desktop/TnSeq_Paper/LTEE-TnSeq_Paper\n"
     ]
    }
   ],
   "source": [
    "#use the pathlib.Path function to get the parent directories-> goal is to navigate to directory with the metadata\n",
    "# and the breseq output data\n",
    "path = pathlib.Path(cwd)\n",
    "print(path.parents[1]) #this should be the base directory for the github repository: the exact path will differ for \n",
    "#each unique user"
   ]
  },
  {
   "cell_type": "code",
   "execution_count": 4,
   "metadata": {},
   "outputs": [],
   "source": [
    "metadata_path = str(path.parents[1])+'/Metadata/'\n",
    "data_path = str(path.parents[1])+'/Data/WGS_Data/Breseq_output/'"
   ]
  },
  {
   "cell_type": "code",
   "execution_count": 5,
   "metadata": {},
   "outputs": [],
   "source": [
    "libraries = ['REL606', 'REL607', 'REL11330', 'REL11333', 'REL11364', 'REL11336', 'REL11339', 'REL11389', 'REL11392', 'REL11342', 'REL11345', 'REL11348', 'REL11367', 'REL11370']\n",
    "\n",
    "#input directory with all the coverage data\n",
    "directory = data_path"
   ]
  },
  {
   "cell_type": "code",
   "execution_count": 6,
   "metadata": {},
   "outputs": [],
   "source": [
    "#opening the pandas file with all the metadata!\n",
    "all_data = pd.read_csv(metadata_path+\"all_metadata_REL606.txt\", sep=\"\\t\")"
   ]
  },
  {
   "cell_type": "code",
   "execution_count": 7,
   "metadata": {},
   "outputs": [],
   "source": [
    "names = all_data.iloc[:,0]\n",
    "\n",
    "gene_start = all_data.iloc[:,3]\n",
    "gene_end = all_data.iloc[:,4]\n",
    "\n",
    "locations = np.transpose(np.vstack([gene_start,gene_end]))\n",
    "# locations = np.loadtxt('/Users/anuraglimdi/Desktop/TnSeq_LTEE/ReferenceGenome/pseudogenes_locations_REL606.txt')"
   ]
  },
  {
   "cell_type": "code",
   "execution_count": 21,
   "metadata": {},
   "outputs": [],
   "source": [
    "locations_pseudogenes = np.loadtxt(metadata_path+'/pseudogenes_locations_REL606.txt')"
   ]
  },
  {
   "cell_type": "code",
   "execution_count": 33,
   "metadata": {},
   "outputs": [],
   "source": [
    "exclude_genes = np.zeros([len(libraries), len(names)])\n",
    "exclude_pseudogenes = np.zeros([len(libraries), locations_pseudogenes.shape[0]])"
   ]
  },
  {
   "cell_type": "code",
   "execution_count": 34,
   "metadata": {},
   "outputs": [
    {
     "data": {
      "text/plain": [
       "134"
      ]
     },
     "execution_count": 34,
     "metadata": {},
     "output_type": "execute_result"
    }
   ],
   "source": [
    "locations_pseudogenes.shape[0]"
   ]
  },
  {
   "cell_type": "markdown",
   "metadata": {},
   "source": [
    "## Notation for the output array: 1 in the exclude_genes array indicates that the gene is missing in that genetic background and should be excluded from analysis downstream"
   ]
  },
  {
   "cell_type": "markdown",
   "metadata": {},
   "source": [
    "### First: identify all genes to be excluded"
   ]
  },
  {
   "cell_type": "code",
   "execution_count": 35,
   "metadata": {
    "scrolled": true
   },
   "outputs": [
    {
     "name": "stdout",
     "output_type": "stream",
     "text": [
      "REL606\n",
      "0.0\n",
      "[]\n",
      "[]\n",
      "REL607\n",
      "0.0\n",
      "[]\n",
      "[]\n",
      "REL11330\n",
      "43.0\n",
      "[1269579 1607969 2031699 3893550  546979]\n",
      "[1270657 1616678 2054931 3901928  555923]\n",
      "REL11333\n",
      "103.0\n",
      "[1600434 1607979 2032390 2100308 2123623 3893620 4146323 4547207  495498\n",
      "  589607]\n",
      "[1602329 1616687 2055657 2122453 2143763 3899898 4151504 4551411  499062\n",
      "  619816]\n",
      "REL11364\n",
      "271.0\n",
      "[1451973 1607969 1729055 2032660 2086597 2877316 3015775 3192748 3549960\n",
      " 3679141 3893601 4289283 4446817 4521618 4565815  546981  572833  588545]\n",
      "[1462317 1616661 1731500 2055947 2122425 2910191 3035120 3198581 3553484\n",
      " 3680779 3901455 4333227 4451689 4561282 4588155  572549  588494  619836]\n",
      "REL11336\n",
      "147.0\n",
      "[1607959 2032119 2125712  227115 2647595 2882770 3023968 3351608 3697046\n",
      " 3893617 3903505 4015657 4146298 4187474 4521606  546972]\n",
      "[1616682 2055373 2143775  231866 2652672 2883913 3063025 3354229 3699379\n",
      " 3901404 3908686 4019107 4148275 4192780 4537722  619825]\n",
      "REL11339\n",
      "63.0\n",
      "[1607984 2032788 2100305 3893617  546995]\n",
      "[1616669 2056031 2122445 3900622  555904]\n",
      "REL11389\n",
      "83.0\n",
      "[2034359 3001957 3289782 3893606 4550738  546986  664689]\n",
      "[2045416 3015768 3297630 3901707 4573235  590260  666134]\n",
      "REL11392\n",
      "188.0\n",
      "[1607974   16977 1973330 2034358 2086926 2520755 2999597 3893591 4047676\n",
      " 4275717  546968  896468]\n",
      "[1616687   18001 1982312 2053848 2093026 2522899 3048488 3901133 4049579\n",
      " 4333226  555824  929571]\n",
      "REL11342\n",
      "100.0\n",
      "[2037725 2100308 2996589 3893602 4505365  546967]\n",
      "[2048102 2122453 3024662 3895832 4522283  590261]\n",
      "REL11345\n",
      "90.0\n",
      "[1424248 1604632 1607974 2032201 2100308 3696942 3698391 3893611 4015643\n",
      "  546976  556016]\n",
      "[1425864 1605831 1616686 2055470 2122453 3698227 3699777 3901159 4019107\n",
      "  554781  590261]\n",
      "REL11348\n",
      "94.0\n",
      "[2031678 2100308 2129538 3775352 3893603 4521612  546974  787879]\n",
      "[2054942 2122453 2143772 3796244 3898943 4522907  559506  799968]\n",
      "REL11367\n",
      "71.0\n",
      "[2100308 3023997 3893616]\n",
      "[2122453 3080111 3895281]\n",
      "REL11370\n",
      "63.0\n",
      "[1607969 2100308 3551397 3893604  546985  589597]\n",
      "[1616682 2122453 3553484 3900155  556318  619825]\n"
     ]
    }
   ],
   "source": [
    "for k in range(0, len(libraries)):\n",
    "    filename = directory+libraries[k]+'_output.gd'\n",
    "    with open(filename) as in_handle:\n",
    "        data = in_handle.read().splitlines()\n",
    "    start = []\n",
    "    end = []\n",
    "    #extract data corresponding to missing coverage\n",
    "    mc = [line for line in data if 'MC' in line]\n",
    "    for entry in mc:\n",
    "        line = entry.split('\\t')\n",
    "        span = int(line[5]) - int(line[4])\n",
    "        if span >= 1000:\n",
    "            start.append(line[4])\n",
    "            end.append(line[5])\n",
    "    #now that we have the start and the end coordinates, I'm going to find out which genes lie inside these \n",
    "    #deleted regions\n",
    "    #first, convert start and end to numpy arrays\n",
    "    start = np.array(start)\n",
    "    end = np.array(end)\n",
    "    #getting rid of any duplicates (if they exist) and sorting the start and ends\n",
    "    unique_start = np.unique(start).astype('int')\n",
    "    unique_end = np.unique(end).astype('int')\n",
    "    #now for finding out which genes lie in the deleted regions and exclude them from the analysis\n",
    "    for i in range(0, locations.shape[0]):\n",
    "        #if either the start or end of the gene falls in the deleted regions, exclude gene from analysis\n",
    "        for j in range(0, len(unique_end)):\n",
    "            if (locations[i, 0] > unique_start[j] and locations[i, 0] < unique_end[j]) or (locations[i, 1] > unique_start[j] and locations[i, 1] < unique_end[j]):\n",
    "                exclude_genes[k, i] = 1\n",
    "    print(libraries[k])\n",
    "    print(sum(exclude_genes[k,:]))\n",
    "    print(unique_start)\n",
    "    print(unique_end)\n",
    "    "
   ]
  },
  {
   "cell_type": "markdown",
   "metadata": {},
   "source": [
    "### Next: identify all pseudogenes to be excluded"
   ]
  },
  {
   "cell_type": "code",
   "execution_count": 36,
   "metadata": {},
   "outputs": [
    {
     "name": "stdout",
     "output_type": "stream",
     "text": [
      "REL606\n",
      "0.0\n",
      "[]\n",
      "[]\n",
      "REL607\n",
      "0.0\n",
      "[]\n",
      "[]\n",
      "REL11330\n",
      "4.0\n",
      "[1269579 1607969 2031699 3893550  546979]\n",
      "[1270657 1616678 2054931 3901928  555923]\n",
      "REL11333\n",
      "11.0\n",
      "[1600434 1607979 2032390 2100308 2123623 3893620 4146323 4547207  495498\n",
      "  589607]\n",
      "[1602329 1616687 2055657 2122453 2143763 3899898 4151504 4551411  499062\n",
      "  619816]\n",
      "REL11364\n",
      "21.0\n",
      "[1451973 1607969 1729055 2032660 2086597 2877316 3015775 3192748 3549960\n",
      " 3679141 3893601 4289283 4446817 4521618 4565815  546981  572833  588545]\n",
      "[1462317 1616661 1731500 2055947 2122425 2910191 3035120 3198581 3553484\n",
      " 3680779 3901455 4333227 4451689 4561282 4588155  572549  588494  619836]\n",
      "REL11336\n",
      "13.0\n",
      "[1607959 2032119 2125712  227115 2647595 2882770 3023968 3351608 3697046\n",
      " 3893617 3903505 4015657 4146298 4187474 4521606  546972]\n",
      "[1616682 2055373 2143775  231866 2652672 2883913 3063025 3354229 3699379\n",
      " 3901404 3908686 4019107 4148275 4192780 4537722  619825]\n",
      "REL11339\n",
      "8.0\n",
      "[1607984 2032788 2100305 3893617  546995]\n",
      "[1616669 2056031 2122445 3900622  555904]\n",
      "REL11389\n",
      "9.0\n",
      "[2034359 3001957 3289782 3893606 4550738  546986  664689]\n",
      "[2045416 3015768 3297630 3901707 4573235  590260  666134]\n",
      "REL11392\n",
      "11.0\n",
      "[1607974   16977 1973330 2034358 2086926 2520755 2999597 3893591 4047676\n",
      " 4275717  546968  896468]\n",
      "[1616687   18001 1982312 2053848 2093026 2522899 3048488 3901133 4049579\n",
      " 4333226  555824  929571]\n",
      "REL11342\n",
      "17.0\n",
      "[2037725 2100308 2996589 3893602 4505365  546967]\n",
      "[2048102 2122453 3024662 3895832 4522283  590261]\n",
      "REL11345\n",
      "12.0\n",
      "[1424248 1604632 1607974 2032201 2100308 3696942 3698391 3893611 4015643\n",
      "  546976  556016]\n",
      "[1425864 1605831 1616686 2055470 2122453 3698227 3699777 3901159 4019107\n",
      "  554781  590261]\n",
      "REL11348\n",
      "22.0\n",
      "[2031678 2100308 2129538 3775352 3893603 4521612  546974  787879]\n",
      "[2054942 2122453 2143772 3796244 3898943 4522907  559506  799968]\n",
      "REL11367\n",
      "6.0\n",
      "[2100308 3023997 3893616]\n",
      "[2122453 3080111 3895281]\n",
      "REL11370\n",
      "10.0\n",
      "[1607969 2100308 3551397 3893604  546985  589597]\n",
      "[1616682 2122453 3553484 3900155  556318  619825]\n"
     ]
    }
   ],
   "source": [
    "for k in range(0, len(libraries)):\n",
    "    filename = directory+libraries[k]+'_output.gd'\n",
    "    with open(filename) as in_handle:\n",
    "        data = in_handle.read().splitlines()\n",
    "    start = []\n",
    "    end = []\n",
    "    #extract data corresponding to missing coverage\n",
    "    mc = [line for line in data if 'MC' in line]\n",
    "    for entry in mc:\n",
    "        line = entry.split('\\t')\n",
    "        span = int(line[5]) - int(line[4])\n",
    "        if span >= 1000:\n",
    "            start.append(line[4])\n",
    "            end.append(line[5])\n",
    "    #now that we have the start and the end coordinates, I'm going to find out which genes lie inside these \n",
    "    #deleted regions\n",
    "    #first, convert start and end to numpy arrays\n",
    "    start = np.array(start)\n",
    "    end = np.array(end)\n",
    "    #getting rid of any duplicates (if they exist) and sorting the start and ends\n",
    "    unique_start = np.unique(start).astype('int')\n",
    "    unique_end = np.unique(end).astype('int')\n",
    "    #now for finding out which pseudogenes lie in the deleted regions and exclude them from the analysis\n",
    "    for i in range(0, locations_pseudogenes.shape[0]):\n",
    "        #if either the start or end of the gene falls in the deleted regions, exclude gene from analysis\n",
    "        for j in range(0, len(unique_end)):\n",
    "            if (locations_pseudogenes[i, 0] > unique_start[j] and locations_pseudogenes[i, 0] < unique_end[j]) or (locations_pseudogenes[i, 1] > unique_start[j] and locations_pseudogenes[i, 1] < unique_end[j]):\n",
    "                exclude_pseudogenes[k, i] = 1\n",
    "    print(libraries[k])\n",
    "    print(sum(exclude_pseudogenes[k, :]))\n",
    "    print(unique_start)\n",
    "    print(unique_end)"
   ]
  },
  {
   "cell_type": "markdown",
   "metadata": {},
   "source": [
    "### Saving the output data\n",
    "\n",
    "No need to write to file, already exists in the github repository. If you want to modify the analysis above, and overwrite the existing files, uncomment the following code block.\n",
    "\n",
    "Alternately, save the output of the modified analysis at a path of your choice."
   ]
  },
  {
   "cell_type": "code",
   "execution_count": 14,
   "metadata": {},
   "outputs": [],
   "source": [
    "#saving the list of deleted genes\n",
    "# np.savetxt(\"excluded_pseudogenes_REL606_k12annotated.txt\", exclude_pseudogenes)"
   ]
  },
  {
   "cell_type": "code",
   "execution_count": 23,
   "metadata": {},
   "outputs": [],
   "source": [
    "# #saving the list of deleted genes\n",
    "#np.savetxt(\"excluded_genes_REL606_k12annotated.txt\", exclude_genes)"
   ]
  },
  {
   "cell_type": "code",
   "execution_count": null,
   "metadata": {},
   "outputs": [],
   "source": []
  }
 ],
 "metadata": {
  "kernelspec": {
   "display_name": "Python 3 (ipykernel)",
   "language": "python",
   "name": "python3"
  },
  "language_info": {
   "codemirror_mode": {
    "name": "ipython",
    "version": 3
   },
   "file_extension": ".py",
   "mimetype": "text/x-python",
   "name": "python",
   "nbconvert_exporter": "python",
   "pygments_lexer": "ipython3",
   "version": "3.10.4"
  }
 },
 "nbformat": 4,
 "nbformat_minor": 2
}
